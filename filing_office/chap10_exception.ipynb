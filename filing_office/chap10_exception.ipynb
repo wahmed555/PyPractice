{
 "cells": [
  {
   "cell_type": "markdown",
   "metadata": {},
   "source": [
    "## Exceptions\n",
    "Python uses special objects called exceptions to manage errors that arise during\n",
    "a program’s execution.\n",
    "\n",
    "Whenever an error occurs that makes Python\n",
    "unsure what to do next, it creates an exception object.\n",
    "\n",
    "If you write code\n",
    "that handles the exception, the program will continue running.\n",
    "\n",
    "If you don’t handle the exception, the program will halt and show a traceback, which\n",
    "includes a report of the exception that was raised.\n",
    "\n",
    "#### Exceptions are handled with try-except blocks.\n",
    "\n",
    "A try-except block asks Python to do something, but it also tells Python what to do if an exception\n",
    "is raised.\n",
    "\n",
    "When you use try-except blocks, your programs will continue running even if things start to go wrong.\n",
    "\n",
    "Instead of tracebacks, which can be confusing for users to read, users will see friendly error messages that\n",
    "you write."
   ]
  },
  {
   "cell_type": "markdown",
   "metadata": {},
   "source": [
    "### 1. Handling the ZeroDivisionError Exception\n",
    "Let’s look at a simple error that causes Python to raise an exception. You\n",
    "probably know that it’s impossible to divide a number by zero, but let’s ask\n",
    "Python to do it anyway:"
   ]
  },
  {
   "cell_type": "code",
   "execution_count": 1,
   "metadata": {},
   "outputs": [
    {
     "ename": "ZeroDivisionError",
     "evalue": "division by zero",
     "output_type": "error",
     "traceback": [
      "\u001b[1;31m---------------------------------------------------------------------------\u001b[0m",
      "\u001b[1;31mZeroDivisionError\u001b[0m                         Traceback (most recent call last)",
      "\u001b[1;32m<ipython-input-1-fad870a50e27>\u001b[0m in \u001b[0;36m<module>\u001b[1;34m()\u001b[0m\n\u001b[1;32m----> 1\u001b[1;33m \u001b[0mprint\u001b[0m\u001b[1;33m(\u001b[0m\u001b[1;36m5\u001b[0m\u001b[1;33m/\u001b[0m\u001b[1;36m0\u001b[0m\u001b[1;33m)\u001b[0m\u001b[1;33m\u001b[0m\u001b[0m\n\u001b[0m",
      "\u001b[1;31mZeroDivisionError\u001b[0m: division by zero"
     ]
    }
   ],
   "source": [
    "print(5/0)"
   ]
  },
  {
   "cell_type": "markdown",
   "metadata": {},
   "source": [
    "### Using try-except Blocks\n",
    "When you think an error may occur, you can write a try-except block to\n",
    "handle the exception that might be raised. \n",
    "\n",
    "You tell Python to try running some code, and you tell it what to do if the code results in a particular kind\n",
    "of exception."
   ]
  },
  {
   "cell_type": "code",
   "execution_count": 2,
   "metadata": {},
   "outputs": [
    {
     "name": "stdout",
     "output_type": "stream",
     "text": [
      "you can't divide by Zero!\n"
     ]
    }
   ],
   "source": [
    "try:\n",
    "    print(5/0)\n",
    "except ZeroDivisionError:\n",
    "    print(\"you can't divide by Zero!\")"
   ]
  },
  {
   "cell_type": "markdown",
   "metadata": {},
   "source": [
    "We put print(5/0), the line that caused the error, inside a try block.\n",
    "\n",
    "If\n",
    "the code in a try block works, Python skips over the except block. \n",
    "\n",
    "If the code in the try block causes an error, Python looks for an except block whose\n",
    "error matches the one that was raised and runs the code in that block."
   ]
  },
  {
   "cell_type": "markdown",
   "metadata": {},
   "source": [
    "here in print(5/0) In this example, the code in the try block produces a ZeroDivisionError,\n",
    "so Python looks for an except block telling it how to respond. Python then\n",
    "runs the code in that block, and the user sees a friendly error message\n",
    "instead of a traceback:"
   ]
  },
  {
   "cell_type": "markdown",
   "metadata": {},
   "source": [
    "### Using Exceptions to Prevent Crashes\n",
    "\n",
    "Handling errors correctly is especially important when the program has\n",
    "more work to do after the error occurs. \n",
    "\n",
    "This happens often in programs that prompt users for input. If the program responds to invalid input appropriately,\n",
    "it can prompt for more valid input instead of crashing.\n",
    "\n",
    "Let’s create a simple calculator that does only division:"
   ]
  },
  {
   "cell_type": "code",
   "execution_count": 5,
   "metadata": {},
   "outputs": [
    {
     "name": "stdout",
     "output_type": "stream",
     "text": [
      "Give me two numbers, and I'll divide them.\n",
      "Enter 'q' to quit.\n",
      "\n",
      "First number: 5\n",
      "Second number: 0\n"
     ]
    },
    {
     "ename": "ZeroDivisionError",
     "evalue": "division by zero",
     "output_type": "error",
     "traceback": [
      "\u001b[1;31m---------------------------------------------------------------------------\u001b[0m",
      "\u001b[1;31mZeroDivisionError\u001b[0m                         Traceback (most recent call last)",
      "\u001b[1;32m<ipython-input-5-2d52e39c3fbf>\u001b[0m in \u001b[0;36m<module>\u001b[1;34m()\u001b[0m\n\u001b[0;32m      8\u001b[0m     \u001b[1;32mif\u001b[0m \u001b[0msecond_number\u001b[0m \u001b[1;33m==\u001b[0m \u001b[1;34m'q'\u001b[0m\u001b[1;33m:\u001b[0m\u001b[1;33m\u001b[0m\u001b[0m\n\u001b[0;32m      9\u001b[0m         \u001b[1;32mbreak\u001b[0m\u001b[1;33m\u001b[0m\u001b[0m\n\u001b[1;32m---> 10\u001b[1;33m     \u001b[0manswer\u001b[0m \u001b[1;33m=\u001b[0m \u001b[0mint\u001b[0m\u001b[1;33m(\u001b[0m\u001b[0mfirst_number\u001b[0m\u001b[1;33m)\u001b[0m \u001b[1;33m/\u001b[0m \u001b[0mint\u001b[0m\u001b[1;33m(\u001b[0m\u001b[0msecond_number\u001b[0m\u001b[1;33m)\u001b[0m\u001b[1;33m\u001b[0m\u001b[0m\n\u001b[0m\u001b[0;32m     11\u001b[0m     \u001b[0mprint\u001b[0m\u001b[1;33m(\u001b[0m\u001b[0manswer\u001b[0m\u001b[1;33m)\u001b[0m\u001b[1;33m\u001b[0m\u001b[0m\n",
      "\u001b[1;31mZeroDivisionError\u001b[0m: division by zero"
     ]
    }
   ],
   "source": [
    "print(\"Give me two numbers, and I'll divide them.\")\n",
    "print(\"Enter 'q' to quit.\")\n",
    "while True:\n",
    "    first_number = input(\"\\nFirst number: \")\n",
    "    if first_number == 'q':\n",
    "        break\n",
    "    second_number = input(\"Second number: \")\n",
    "    if second_number == 'q':\n",
    "        break\n",
    "    answer = int(first_number) / int(second_number)\n",
    "    print(answer)"
   ]
  },
  {
   "cell_type": "markdown",
   "metadata": {},
   "source": [
    "The else Block\n",
    "We can make this program more error resistant by wrapping the line that\n",
    "might produce errors in a try-except block. The error occurs on the line\n",
    "that performs the division, so that’s where we’ll put the try-except block.\n",
    "This example also includes an else block. Any code that depends on the try\n",
    "block executing successfully goes in the else block:"
   ]
  },
  {
   "cell_type": "code",
   "execution_count": 6,
   "metadata": {},
   "outputs": [
    {
     "name": "stdout",
     "output_type": "stream",
     "text": [
      "Give me two numbers, and I'll divide them.\n",
      "Enter 'q' to quit.\n",
      "\n",
      "First number: 4\n",
      "Second number: 0\n",
      " you can't divide by 0!\n",
      "\n",
      "First number: 3\n",
      "Second number: 9\n",
      "0.3333333333333333\n",
      "\n",
      "First number: 3\n",
      "Second number: 0\n",
      " you can't divide by 0!\n",
      "\n",
      "First number: q\n"
     ]
    }
   ],
   "source": [
    "print(\"Give me two numbers, and I'll divide them.\")\n",
    "print(\"Enter 'q' to quit.\")\n",
    "while True:\n",
    "    first_number = input(\"\\nFirst number: \")\n",
    "    if first_number == 'q':\n",
    "        break\n",
    "    second_number = input(\"Second number: \")\n",
    "    try:\n",
    "        answer=int(first_number)/int(second_number)\n",
    "    except ZeroDivisionError:\n",
    "        print(\" you can't divide by 0!\")\n",
    "    else:\n",
    "        print(answer)"
   ]
  },
  {
   "cell_type": "code",
   "execution_count": null,
   "metadata": {},
   "outputs": [],
   "source": []
  }
 ],
 "metadata": {
  "kernelspec": {
   "display_name": "Python 3",
   "language": "python",
   "name": "python3"
  },
  "language_info": {
   "codemirror_mode": {
    "name": "ipython",
    "version": 3
   },
   "file_extension": ".py",
   "mimetype": "text/x-python",
   "name": "python",
   "nbconvert_exporter": "python",
   "pygments_lexer": "ipython3",
   "version": "3.6.5"
  }
 },
 "nbformat": 4,
 "nbformat_minor": 2
}
