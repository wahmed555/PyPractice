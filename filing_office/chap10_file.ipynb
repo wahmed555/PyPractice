{
 "cells": [
  {
   "cell_type": "code",
   "execution_count": 2,
   "metadata": {},
   "outputs": [
    {
     "ename": "SyntaxError",
     "evalue": "(unicode error) 'unicodeescape' codec can't decode bytes in position 2-3: truncated \\UXXXXXXXX escape (<ipython-input-2-2da0851be69c>, line 1)",
     "output_type": "error",
     "traceback": [
      "\u001b[1;36m  File \u001b[1;32m\"<ipython-input-2-2da0851be69c>\"\u001b[1;36m, line \u001b[1;32m1\u001b[0m\n\u001b[1;33m    file_path = 'C:\\Users\\Ahmed\\Documents\\hero.txt'\u001b[0m\n\u001b[1;37m               ^\u001b[0m\n\u001b[1;31mSyntaxError\u001b[0m\u001b[1;31m:\u001b[0m (unicode error) 'unicodeescape' codec can't decode bytes in position 2-3: truncated \\UXXXXXXXX escape\n"
     ]
    }
   ],
   "source": [
    "file_path = 'C:\\Users\\Ahmed\\Documents\\hero.txt'"
   ]
  },
  {
   "cell_type": "markdown",
   "metadata": {},
   "source": [
    "### 1. File Paths"
   ]
  },
  {
   "cell_type": "code",
   "execution_count": 21,
   "metadata": {},
   "outputs": [],
   "source": [
    "file_path=\"C:/Users/Ahmed/Documents/filename.txt\""
   ]
  },
  {
   "cell_type": "markdown",
   "metadata": {},
   "source": [
    "### 2. writing to a file"
   ]
  },
  {
   "cell_type": "code",
   "execution_count": 14,
   "metadata": {},
   "outputs": [],
   "source": [
    "with open(file_path,'w') as file_obj:\n",
    "    file_obj.write(\" I like programming hero group\")"
   ]
  },
  {
   "cell_type": "markdown",
   "metadata": {},
   "source": [
    "### 3. Reading whole content"
   ]
  },
  {
   "cell_type": "code",
   "execution_count": 30,
   "metadata": {},
   "outputs": [
    {
     "name": "stdout",
     "output_type": "stream",
     "text": [
      "0. CLOSE YOUR INTERNET CONNECTION (IMPORTANT)\n",
      "1. Install application from \"Adobe CS6\" folder by double clicking on the \"Set-up.exe\" (With admin rights on your system.)\n",
      "2. Choose TRIAL install. Select your language. (You can not change it after installation)\n",
      "3. IMPORTANT : Open the application as trial version and close.\n",
      "4. Go to the installation folder and Rename the original \"amtlib.dll\" ==> (amtlib.dll.BAK) (You may need it for second try) It is generally ;\n",
      "C:Program Files (x86)AdobeAcrobat 11.0Acrobat\n",
      "OR\n",
      "C:Program FilesAdobeAcrobat 11.0Acrobat\n",
      "5. Copy \"amtlib.dll\" and paste it in to the installation folder.\n",
      "6. For your safety Use your firewall to stop internet connection of the application and uncheck automatic updates. Don't update it.\n",
      "749\n"
     ]
    }
   ],
   "source": [
    "with open(file_path) as file_object:\n",
    "    contents = file_object.read()\n",
    "    print(contents)\n",
    "print(len(contents))"
   ]
  },
  {
   "cell_type": "markdown",
   "metadata": {},
   "source": [
    "### 4. Reading Line by Line"
   ]
  },
  {
   "cell_type": "code",
   "execution_count": 23,
   "metadata": {},
   "outputs": [
    {
     "name": "stdout",
     "output_type": "stream",
     "text": [
      "0. CLOSE YOUR INTERNET CONNECTION (IMPORTANT)\n",
      "\n",
      "1. Install application from \"Adobe CS6\" folder by double clicking on the \"Set-up.exe\" (With admin rights on your system.)\n",
      "\n",
      "2. Choose TRIAL install. Select your language. (You can not change it after installation)\n",
      "\n",
      "3. IMPORTANT : Open the application as trial version and close.\n",
      "\n",
      "4. Go to the installation folder and Rename the original \"amtlib.dll\" ==> (amtlib.dll.BAK) (You may need it for second try) It is generally ;\n",
      "\n",
      "C:Program Files (x86)AdobeAcrobat 11.0Acrobat\n",
      "\n",
      "OR\n",
      "\n",
      "C:Program FilesAdobeAcrobat 11.0Acrobat\n",
      "\n",
      "5. Copy \"amtlib.dll\" and paste it in to the installation folder.\n",
      "\n",
      "6. For your safety Use your firewall to stop internet connection of the application and uncheck automatic updates. Don't update it.\n"
     ]
    }
   ],
   "source": [
    "with open(file_path) as file_object:\n",
    "    for line in file_object:\n",
    "        print(line)"
   ]
  },
  {
   "cell_type": "markdown",
   "metadata": {},
   "source": [
    "### blank lines \n",
    "appear because an invisible newline character is\n",
    "at the end of each line in the text file. The print statement adds its own\n",
    "newline each time we call it, so we end up with two newline characters at\n",
    "the end of each line: one from the file and one from the print statement.\n",
    "Using rstrip() on each line in the print statement eliminates these extra\n",
    "blank lines:"
   ]
  },
  {
   "cell_type": "code",
   "execution_count": 24,
   "metadata": {},
   "outputs": [
    {
     "name": "stdout",
     "output_type": "stream",
     "text": [
      "0. CLOSE YOUR INTERNET CONNECTION (IMPORTANT)\n",
      "1. Install application from \"Adobe CS6\" folder by double clicking on the \"Set-up.exe\" (With admin rights on your system.)\n",
      "2. Choose TRIAL install. Select your language. (You can not change it after installation)\n",
      "3. IMPORTANT : Open the application as trial version and close.\n",
      "4. Go to the installation folder and Rename the original \"amtlib.dll\" ==> (amtlib.dll.BAK) (You may need it for second try) It is generally ;\n",
      "C:Program Files (x86)AdobeAcrobat 11.0Acrobat\n",
      "OR\n",
      "C:Program FilesAdobeAcrobat 11.0Acrobat\n",
      "5. Copy \"amtlib.dll\" and paste it in to the installation folder.\n",
      "6. For your safety Use your firewall to stop internet connection of the application and uncheck automatic updates. Don't update it.\n"
     ]
    }
   ],
   "source": [
    "with open(file_path) as file_object:\n",
    "    for line in file_object:\n",
    "        print(line.rstrip())"
   ]
  },
  {
   "cell_type": "markdown",
   "metadata": {},
   "source": [
    "### 5. Making a List of Lines from a File\n",
    "When you use with, the file object returned by open() is only available inside\n",
    "the with block that contains it.\n",
    "\n",
    "If you want to retain access to a file’s contents\n",
    "outside the with block, you can store the file’s lines in a list inside the block\n",
    "and then work with that list. \n",
    "\n",
    "You can process parts of the file immediately\n",
    "and postpone some processing for later in the program.\n",
    "\n",
    "The following example stores the lines of pi_digits.txt in a list inside the\n",
    "with block and then prints the lines outside the with block:\n",
    "\n",
    "#### the readlines() method \n",
    "takes each line from the file and stores it\n",
    "in a list. This list is then stored in lines, which we can continue to work with\n",
    "after the with block ends."
   ]
  },
  {
   "cell_type": "code",
   "execution_count": 29,
   "metadata": {},
   "outputs": [
    {
     "name": "stdout",
     "output_type": "stream",
     "text": [
      "0. CLOSE YOUR INTERNET CONNECTION (IMPORTANT)\n",
      "\n",
      "1. Install application from \"Adobe CS6\" folder by double clicking on the \"Set-up.exe\" (With admin rights on your system.)\n",
      "\n",
      "2. Choose TRIAL install. Select your language. (You can not change it after installation)\n",
      "\n",
      "3. IMPORTANT : Open the application as trial version and close.\n",
      "\n",
      "4. Go to the installation folder and Rename the original \"amtlib.dll\" ==> (amtlib.dll.BAK) (You may need it for second try) It is generally ;\n",
      "\n",
      "C:Program Files (x86)AdobeAcrobat 11.0Acrobat\n",
      "\n",
      "OR\n",
      "\n",
      "C:Program FilesAdobeAcrobat 11.0Acrobat\n",
      "\n",
      "5. Copy \"amtlib.dll\" and paste it in to the installation folder.\n",
      "\n",
      "6. For your safety Use your firewall to stop internet connection of the application and uncheck automatic updates. Don't update it.\n",
      "10\n"
     ]
    }
   ],
   "source": [
    "file_path=\"C:/Users/Ahmed/Documents/filename.txt\"\n",
    "with open(file_path) as file_obj:\n",
    "    lines=file_obj.readlines()\n",
    "for line in lines:\n",
    "    print(line)\n"
   ]
  },
  {
   "cell_type": "markdown",
   "metadata": {},
   "source": [
    "### 6. Working with a File’s Contents\n",
    "After you’ve read a file into memory, you can do whatever you want with\n",
    "that data, \n",
    "\n",
    "so let’s briefly explore the digits of pi. First, we’ll attempt to build\n",
    "a single string containing all the digits in the file with no whitespace in it:"
   ]
  },
  {
   "cell_type": "code",
   "execution_count": 26,
   "metadata": {},
   "outputs": [],
   "source": [
    "file_path=\"C:/Users/Ahmed/Documents/filename.txt\"\n",
    "\n",
    "with open(file_path) as file_obj:\n",
    "    lines=file_obj.readlines()\n",
    "    "
   ]
  },
  {
   "cell_type": "code",
   "execution_count": 28,
   "metadata": {},
   "outputs": [
    {
     "name": "stdout",
     "output_type": "stream",
     "text": [
      "0. CLOSE YOUR INTERNET CONNECTION (IMPORTANT)1. Install application from \"Adobe CS6\" folder by double clicking on the \"Set-up.exe\" (With admin rights on your system.)2. Choose TRIAL install. Select your language. (You can not change it after installation)3. IMPORTANT : Open the application as trial version and close.4. Go to the installation folder and Rename the original \"amtlib.dll\" ==> (amtlib.dll.BAK) (You may need it for second try) It is generally ;C:Program Files (x86)AdobeAcrobat 11.0AcrobatORC:Program FilesAdobeAcrobat 11.0Acrobat5. Copy \"amtlib.dll\" and paste it in to the installation folder.6. For your safety Use your firewall to stop internet connection of the application and uncheck automatic updates. Don't update it.\n",
      "740\n"
     ]
    }
   ],
   "source": [
    "pi_string=''\n",
    "for line in lines:\n",
    "    pi_string+=line.rstrip()\n",
    "\n",
    "print(pi_string)\n",
    "print(len(pi_string))"
   ]
  },
  {
   "cell_type": "markdown",
   "metadata": {},
   "source": [
    "### 7. Large Files: One Million Digits\n",
    "\n",
    "If we start with a text file that contains pi to 1,000,000 decimal places\n",
    "instead of just 30, we can create a single string containing all these digits.\n",
    "\n",
    "We don’t need to change our program at all except to pass it a different file.\n",
    "\n",
    "We’ll also print just the first 50 decimal places, so we don’t have to watch a\n",
    "million digits scroll by in the terminal:\n"
   ]
  },
  {
   "cell_type": "code",
   "execution_count": 31,
   "metadata": {},
   "outputs": [
    {
     "name": "stdout",
     "output_type": "stream",
     "text": [
      "3.14235871643543...\n",
      "172\n"
     ]
    }
   ],
   "source": [
    "file_path=\"C:/Users/Ahmed/Documents/pi_million_digits.txt\"\n",
    "with open(file_path) as file_obj:\n",
    "    lines=file_obj.readlines()\n",
    "\n",
    "pi_string=''\n",
    "for line in lines:\n",
    "    pi_string +=line.strip()\n",
    "\n",
    "print(pi_string[:16]+\"...\")\n",
    "print(len(pi_string))"
   ]
  },
  {
   "cell_type": "markdown",
   "metadata": {},
   "source": [
    "### Is Your Birthday Contained in Pi?\n",
    "I’ve always been curious to know if my birthday appears anywhere in the\n",
    "digits of pi. Let’s use the program we just wrote to find out if someone’s\n",
    "birthday appears anywhere in the first million digits of pi. We can do this\n",
    "by expressing each birthday as a string of digits and seeing if that string\n",
    "appears anywhere in pi_string:"
   ]
  },
  {
   "cell_type": "code",
   "execution_count": 1,
   "metadata": {},
   "outputs": [
    {
     "name": "stdout",
     "output_type": "stream",
     "text": [
      "3.14235871643543125354394319*78239751493647123580585699656686354749982197356854214793651542136574111952359713596319876203287987123365799513578426834126874562198773642865441\n"
     ]
    }
   ],
   "source": [
    "file_path=\"C:/Users/Ahmed/Documents/pi_million_digits.txt\"\n",
    "with open(file_path) as file_obj:\n",
    "    content=file_obj.read()\n",
    "print(content)"
   ]
  },
  {
   "cell_type": "code",
   "execution_count": 3,
   "metadata": {},
   "outputs": [
    {
     "name": "stdout",
     "output_type": "stream",
     "text": [
      "Enter your birthday in dd/mm/yyyy: 78239751\n",
      " your birthday appears in first million digits of pi\n"
     ]
    }
   ],
   "source": [
    "birthday=input(\"Enter your birthday in dd/mm/yyyy: \")\n",
    "if birthday in content:\n",
    "    print(\" your birthday appears in first million digits of pi\")\n",
    "else:\n",
    "    print (\" Your birthday does not appears in pi\")"
   ]
  },
  {
   "cell_type": "markdown",
   "metadata": {},
   "source": [
    "# Try It Yourself\n",
    "\n",
    "10-1. Learning Python: Open a blank file in your text editor and write a few\n",
    "lines summarizing what you’ve learned about Python so far. Start each line\n",
    "with the phrase In Python you can.... Save the file as learning_python.txt in the\n",
    "same directory as your exercises from this chapter. Write a program that reads\n",
    "the file and prints what you wrote three times. Print the contents once by reading\n",
    "in the entire file, once by looping over the file object, and once by storing\n",
    "the lines in a list and then working with them outside the with block.\n",
    "10-2. Learning C: You can use the replace() method to replace any word in a\n",
    "string with a different word. Here’s a quick example showing how to replace\n",
    "'dog' with 'cat' in a sentence:\n",
    ">>> message = \"I really like dogs.\"\n",
    ">>> message.replace('dog', 'cat')\n",
    "'I really like cats.'\n",
    "Read in each line from the file you just created, learning_python.txt, and\n",
    "replace the word Python with the name of another language, such as C. Print\n",
    "each modified line to the screen."
   ]
  },
  {
   "cell_type": "code",
   "execution_count": 5,
   "metadata": {},
   "outputs": [],
   "source": [
    "file_path=\"C:/Users/Ahmed/Documents/learning_python.txt\""
   ]
  },
  {
   "cell_type": "code",
   "execution_count": 12,
   "metadata": {},
   "outputs": [
    {
     "name": "stdout",
     "output_type": "stream",
     "text": [
      "In Python you can work with oop using classes\n",
      "In Python you can not work with pointer\n",
      "In Python you can work with numpy and pandas\n",
      "In Python you can is  powerfull\n",
      "In Python you can learn easily\n"
     ]
    }
   ],
   "source": [
    "# 1. Print the contents once by reading in the entire file\n",
    "with open(file_path) as file_obj:\n",
    "    content=file_obj.read()\n",
    "print(content)"
   ]
  },
  {
   "cell_type": "code",
   "execution_count": 11,
   "metadata": {},
   "outputs": [
    {
     "name": "stdout",
     "output_type": "stream",
     "text": [
      "In Python you can work with oop using classes\n",
      "\n",
      "In Python you can not work with pointer\n",
      "\n",
      "In Python you can work with numpy and pandas\n",
      "\n",
      "In Python you can is  powerfull\n",
      "\n",
      "In Python you can learn easily\n"
     ]
    }
   ],
   "source": [
    "# 2. once by looping over the file object\n",
    "\n",
    "with open(file_path) as file_obj:\n",
    "    for line in file_obj:\n",
    "        print(line)\n",
    "\n"
   ]
  },
  {
   "cell_type": "code",
   "execution_count": 14,
   "metadata": {},
   "outputs": [
    {
     "name": "stdout",
     "output_type": "stream",
     "text": [
      "In Python you can work with oop using classes\n",
      "\n",
      "In Python you can not work with pointer\n",
      "\n",
      "In Python you can work with numpy and pandas\n",
      "\n",
      "In Python you can is  powerfull\n",
      "\n",
      "In Python you can learn easily\n"
     ]
    },
    {
     "data": {
      "text/plain": [
       "list"
      ]
     },
     "execution_count": 14,
     "metadata": {},
     "output_type": "execute_result"
    }
   ],
   "source": [
    "# once by storing the lines in a list and then working with them outside the with block.\n",
    "with open(file_path) as file_obj:\n",
    "    lines=file_obj.readlines()\n",
    "    \n",
    "for line in lines:\n",
    "    print(line)\n",
    "type(lines)"
   ]
  },
  {
   "cell_type": "markdown",
   "metadata": {},
   "source": [
    "### 10-2. Learning C: You can use the replace() method to replace any word in a\n",
    "string with a different word. Here’s a quick example showing how to replace\n",
    "'dog' with 'cat' in a sentence:\n",
    ">>> message = \"I really like dogs.\"\n",
    ">>> message.replace('dog', 'cat')\n",
    "'I really like cats.'\n",
    "\n",
    "Read in each line from the file you just created, learning_python.txt, and\n",
    "replace the word Python with the name of another language, such as C. Print\n",
    "each modified line to the screen."
   ]
  },
  {
   "cell_type": "code",
   "execution_count": 25,
   "metadata": {},
   "outputs": [
    {
     "name": "stdout",
     "output_type": "stream",
     "text": [
      "In C you can work with oop using classes\n",
      "\n",
      "In C you can not work with pointer\n",
      "\n",
      "In C you can work with numpy and pandas\n",
      "\n",
      "In C you can is  powerfull\n",
      "\n",
      "In C you can learn easily\n"
     ]
    }
   ],
   "source": [
    "with open(file_path) as file_obj:\n",
    "     for line in file_obj:\n",
    "        k=line.replace('Python','C')\n",
    "        print(k)\n"
   ]
  },
  {
   "cell_type": "markdown",
   "metadata": {},
   "source": [
    "## B) Writing to a File\n",
    "One of the simplest ways to save data is to write it to a file.\n",
    "\n",
    "When you write text to a file, the output will still be available after you close the terminal\n",
    "containing your program’s output. \n",
    "\n",
    "You can examine output after a program finishes running, and you can share the output files with others as well.\n",
    "\n",
    "You can also write programs that read the text back into memory and work with\n",
    "it again later."
   ]
  },
  {
   "cell_type": "markdown",
   "metadata": {},
   "source": [
    "### 1. Writing to an Empty File\n",
    "To write text to a file, you need to call open() with a second argument telling\n",
    "Python that you want to write to the file.\n",
    "\n",
    "To see how this works, let’s write a simple message and store it in a file instead of printing it to the screen:"
   ]
  },
  {
   "cell_type": "code",
   "execution_count": 26,
   "metadata": {},
   "outputs": [],
   "source": [
    "filename =\"C:/Users/Ahmed/Documents/programming.txt\"\n",
    "with open(filename,'w') as file_object:\n",
    "    file_object.write(\"I like interesting people\")"
   ]
  },
  {
   "cell_type": "markdown",
   "metadata": {},
   "source": [
    "read mode ('r'), write mode ('w'), append mode ('a'), or a mode that allows\n",
    "you to read and write to the file ('r+'). If you"
   ]
  },
  {
   "cell_type": "markdown",
   "metadata": {},
   "source": [
    "### 2. Writing Multiple Lines\n",
    "The write() function doesn’t add any newlines to the text you write. So if\n",
    "you write more than one line without including newline characters, your\n",
    "file may not look the way you want it to:"
   ]
  },
  {
   "cell_type": "code",
   "execution_count": 29,
   "metadata": {},
   "outputs": [],
   "source": [
    "filname=\"C:/Users/Ahmed/Documents/programming.txt\"\n",
    "with open(filename,\"w\") as file_object:\n",
    "    file_object.write(\"I like banana\")\n",
    "    file_object.write(\"I like to create games\")"
   ]
  },
  {
   "cell_type": "markdown",
   "metadata": {},
   "source": [
    "### 3.Appending to a File\n",
    "If you want to add content to a file instead of writing over existing content,\n",
    "you can open the file in append mode.\n",
    "\n",
    "When you open a file in append mode,\n",
    "Python doesn’t erase the file before returning the file object.\n",
    "\n",
    "Any lines you\n",
    "write to the file will be added at the end of the file. If the file doesn’t exist\n",
    "yet,\n",
    "\n",
    "Python will create an empty file for you.\n"
   ]
  },
  {
   "cell_type": "code",
   "execution_count": 30,
   "metadata": {},
   "outputs": [],
   "source": [
    "filename = \"C:/Users/Ahmed/Documents/programming.txt\"\n",
    "with open(filename,\"a\") as file_obj:\n",
    "    file_obj.write(\"I also love finding meaning in large Data set.\\n\")\n",
    "    file_obj.write(\"I love creating apps that run in browser\\n\")"
   ]
  },
  {
   "cell_type": "markdown",
   "metadata": {},
   "source": [
    "# Try It Yourself\n",
    "10-3. Guest: Write a program that prompts the user for their name. When they\n",
    "respond, write their name to a file called guest.txt.\n"
   ]
  },
  {
   "cell_type": "code",
   "execution_count": 10,
   "metadata": {},
   "outputs": [
    {
     "name": "stdout",
     "output_type": "stream",
     "text": [
      " Program that prompts the user for their nameqasim\n",
      " Program that prompts the user for their namewasim\n"
     ]
    }
   ],
   "source": [
    "filename = \"C:/Users/Ahmed/Documents/guest.txt\"\n",
    "with open(filename,\"w\") as file_obj:\n",
    "    name1=input(\" Program that prompts the user for their name\")\n",
    "    file_obj.write(name1+ \".\\n\")\n",
    "    name2=input(\" Program that prompts the user for their name\")\n",
    "    file_obj.write(name2)\n"
   ]
  },
  {
   "cell_type": "markdown",
   "metadata": {},
   "source": [
    "10-4. Guest Book: Write a while loop that prompts users for their name. When\n",
    "they enter their name, print a greeting to the screen and add a line recording\n",
    "their visit in a file called guest_book.txt. Make sure each entry appears on a\n",
    "new line in the file.\n"
   ]
  },
  {
   "cell_type": "code",
   "execution_count": null,
   "metadata": {},
   "outputs": [],
   "source": [
    "filename = \"C:/Users/Ahmed/Documents/guest_book.csv\"\n",
    "name=\"f\"\n",
    "sno=0\n",
    "with open(filename,\"w\") as file_obj:\n",
    "    while(name!='q'):\n",
    "        name=input(\" Program that prompts the user for their name\")\n",
    "        print(\" welcome \" + name)\n",
    "        freq=input(\" visit frequency \")\n",
    "        print(\" welcome \" + str(freq))\n",
    "        file_obj.write(str(sno)+\",\" + name + \"\\n\")\n",
    "        sno +=1\n",
    "print(\"write succesful\")"
   ]
  },
  {
   "cell_type": "code",
   "execution_count": 1,
   "metadata": {},
   "outputs": [
    {
     "name": "stdout",
     "output_type": "stream",
     "text": [
      " Program that prompts the user for their namewase\n",
      " welcome wase\n",
      " Program that prompts the user for their nameq\n",
      " welcome q\n",
      "write succesful\n"
     ]
    }
   ],
   "source": [
    "\n",
    "filename = \"C:/Users/Ahmed/Documents/guest_book.csv\"\n",
    "name=\"f\"\n",
    "count=0\n",
    "with open(filename,\"w\") as file_obj:\n",
    "    while(name!='q'):\n",
    "        name=input(\" Program that prompts the user for their name\")\n",
    "        print(\" welcome \" + name)\n",
    "        file_obj.write(str(count)+\",\" + name + \"\\n\")\n",
    "        count+=1\n",
    "print(\"write succesful\")"
   ]
  },
  {
   "cell_type": "markdown",
   "metadata": {},
   "source": [
    "10-5. Programming Poll: Write a while loop that asks people why they like\n",
    "programming. Each time someone enters a reason, add their reason to a file\n",
    "that stores all the responses."
   ]
  },
  {
   "cell_type": "code",
   "execution_count": 2,
   "metadata": {},
   "outputs": [
    {
     "name": "stdout",
     "output_type": "stream",
     "text": [
      "Enter your name:wasim\n",
      "wasim why you like programming?its lucrative\n",
      "Enter your name:sana\n",
      "sana why you like programming?its problem\n",
      "Enter your name:zakir\n",
      "zakir why you like programming?i love coding\n",
      "Enter your name:q\n",
      "q why you like programming?q\n"
     ]
    }
   ],
   "source": [
    "filename = \"C:/Users/Ahmed/Documents/10_5.csv\"\n",
    "with open(filename,\"w\") as file_object:\n",
    "    people='v'\n",
    "    while(people!='q'):\n",
    "        people=input(\"Enter your name:\")\n",
    "        reason=input(people+\" why you like programming?\")\n",
    "        file_object.write(people+\",\"+reason+\"\\n\")"
   ]
  },
  {
   "cell_type": "code",
   "execution_count": null,
   "metadata": {},
   "outputs": [],
   "source": []
  },
  {
   "cell_type": "code",
   "execution_count": 6,
   "metadata": {},
   "outputs": [
    {
     "name": "stdout",
     "output_type": "stream",
     "text": [
      "<_csv.reader object at 0x0000000004C1EB40>\n"
     ]
    }
   ],
   "source": [
    "import csv\n",
    "filename = \"C:/Users/Ahmed/Documents/10_5.csv\"\n",
    "with open(filename,\"r\") as file_object:\n",
    "    k=csv.reader(file_object)\n",
    "    print(k)\n",
    "\n"
   ]
  },
  {
   "cell_type": "code",
   "execution_count": null,
   "metadata": {},
   "outputs": [],
   "source": []
  }
 ],
 "metadata": {
  "kernelspec": {
   "display_name": "Python 3",
   "language": "python",
   "name": "python3"
  },
  "language_info": {
   "codemirror_mode": {
    "name": "ipython",
    "version": 3
   },
   "file_extension": ".py",
   "mimetype": "text/x-python",
   "name": "python",
   "nbconvert_exporter": "python",
   "pygments_lexer": "ipython3",
   "version": "3.6.5"
  }
 },
 "nbformat": 4,
 "nbformat_minor": 2
}
