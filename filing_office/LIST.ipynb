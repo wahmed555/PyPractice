{
 "cells": [
  {
   "cell_type": "markdown",
   "metadata": {},
   "source": [
    "# LIST"
   ]
  },
  {
   "cell_type": "code",
   "execution_count": 1,
   "metadata": {},
   "outputs": [],
   "source": [
    "bicycles = ['trek', 'Cannondale', 'redline', 'specialized']"
   ]
  },
  {
   "cell_type": "code",
   "execution_count": 2,
   "metadata": {},
   "outputs": [
    {
     "data": {
      "text/plain": [
       "'trek'"
      ]
     },
     "execution_count": 2,
     "metadata": {},
     "output_type": "execute_result"
    }
   ],
   "source": [
    "bicycles[0]"
   ]
  },
  {
   "cell_type": "code",
   "execution_count": 3,
   "metadata": {},
   "outputs": [
    {
     "name": "stdout",
     "output_type": "stream",
     "text": [
      "['trek', 'Cannondale', 'redline', 'specialized']\n"
     ]
    }
   ],
   "source": [
    "print(bicycles)"
   ]
  },
  {
   "cell_type": "code",
   "execution_count": 4,
   "metadata": {},
   "outputs": [
    {
     "name": "stdout",
     "output_type": "stream",
     "text": [
      "Trek\n"
     ]
    }
   ],
   "source": [
    "print(bicycles[0].title())"
   ]
  },
  {
   "cell_type": "code",
   "execution_count": 5,
   "metadata": {},
   "outputs": [
    {
     "name": "stdout",
     "output_type": "stream",
     "text": [
      "cannondale\n"
     ]
    }
   ],
   "source": [
    "print(bicycles[1].lower())"
   ]
  },
  {
   "cell_type": "code",
   "execution_count": 6,
   "metadata": {},
   "outputs": [
    {
     "name": "stdout",
     "output_type": "stream",
     "text": [
      "SPECIALIZED\n"
     ]
    }
   ],
   "source": [
    "print(bicycles[-1].upper())"
   ]
  },
  {
   "cell_type": "code",
   "execution_count": 7,
   "metadata": {},
   "outputs": [],
   "source": [
    "message =\" My first bicycle was a \" + bicycles[-2].title() + \".\""
   ]
  },
  {
   "cell_type": "code",
   "execution_count": 8,
   "metadata": {},
   "outputs": [
    {
     "name": "stdout",
     "output_type": "stream",
     "text": [
      " My first bicycle was a Redline.\n"
     ]
    }
   ],
   "source": [
    "print(message)"
   ]
  },
  {
   "cell_type": "markdown",
   "metadata": {},
   "source": [
    "#### 2 Modifying Elements in a list"
   ]
  },
  {
   "cell_type": "code",
   "execution_count": 9,
   "metadata": {},
   "outputs": [
    {
     "name": "stdout",
     "output_type": "stream",
     "text": [
      "['honda', 'yamaha', 'suzuki']\n"
     ]
    }
   ],
   "source": [
    "motorcycles = ['honda', 'yamaha', 'suzuki']\n",
    "print(motorcycles)"
   ]
  },
  {
   "cell_type": "code",
   "execution_count": 10,
   "metadata": {},
   "outputs": [],
   "source": [
    "motorcycles[0]=\"ducati\".title()"
   ]
  },
  {
   "cell_type": "code",
   "execution_count": 11,
   "metadata": {},
   "outputs": [
    {
     "name": "stdout",
     "output_type": "stream",
     "text": [
      "['Ducati', 'yamaha', 'suzuki']\n"
     ]
    }
   ],
   "source": [
    "print(motorcycles)"
   ]
  },
  {
   "cell_type": "markdown",
   "metadata": {},
   "source": [
    "### 3.Adding Elements to a List"
   ]
  },
  {
   "cell_type": "markdown",
   "metadata": {},
   "source": [
    "#### 3a. Appending Elements to the End of a List\n",
    "append() method at u adds 'ducati' to the end of the list without affecting any of the other elements in the list:"
   ]
  },
  {
   "cell_type": "code",
   "execution_count": 12,
   "metadata": {},
   "outputs": [],
   "source": [
    "motorcycles = ['honda', 'yamaha', 'suzuki']"
   ]
  },
  {
   "cell_type": "code",
   "execution_count": 13,
   "metadata": {},
   "outputs": [],
   "source": [
    "motorcycles.append(\"ducati\".title())"
   ]
  },
  {
   "cell_type": "code",
   "execution_count": 14,
   "metadata": {},
   "outputs": [
    {
     "data": {
      "text/plain": [
       "['honda', 'yamaha', 'suzuki', 'Ducati']"
      ]
     },
     "execution_count": 14,
     "metadata": {},
     "output_type": "execute_result"
    }
   ],
   "source": [
    "motorcycles"
   ]
  },
  {
   "cell_type": "markdown",
   "metadata": {},
   "source": [
    "#### 3b. Inserting Elements into a List\n",
    "You can add a new element at any position in your list by using the insert()\n",
    "method. You do this by specifying the index of the new element and the\n",
    "value of the new item."
   ]
  },
  {
   "cell_type": "code",
   "execution_count": 15,
   "metadata": {},
   "outputs": [],
   "source": [
    "motorcycles = ['honda', 'yamaha', 'suzuki']"
   ]
  },
  {
   "cell_type": "code",
   "execution_count": 16,
   "metadata": {},
   "outputs": [
    {
     "data": {
      "text/plain": [
       "['ducati', 'honda', 'yamaha', 'suzuki']"
      ]
     },
     "execution_count": 16,
     "metadata": {},
     "output_type": "execute_result"
    }
   ],
   "source": [
    "motorcycles.insert(0, 'ducati')\n",
    "motorcycles"
   ]
  },
  {
   "cell_type": "code",
   "execution_count": 17,
   "metadata": {},
   "outputs": [
    {
     "data": {
      "text/plain": [
       "['ducati', 'honda', 'ducati', 'yamaha', 'suzuki']"
      ]
     },
     "execution_count": 17,
     "metadata": {},
     "output_type": "execute_result"
    }
   ],
   "source": [
    "motorcycles.insert(2, 'ducati')\n",
    "motorcycles"
   ]
  },
  {
   "cell_type": "markdown",
   "metadata": {},
   "source": [
    "### 4.Removing Elements from a List\n",
    "Often, you’ll want to remove an item or a set of items from a list. For\n",
    "example, when a player shoots down an alien from the sky, you’ll most\n",
    "likely want to remove it from the list of active aliens. Or when a user\n",
    "decides to cancel their account on a web application you created, you’ll\n",
    "want to remove that user from the list of active users. You can remove an\n",
    "item according to its position in the list or according to its value."
   ]
  },
  {
   "cell_type": "markdown",
   "metadata": {},
   "source": [
    "#### 4a.Removing an Item Using the del Statement\n",
    "If you know the position of the item you want to remove from a list, you can\n",
    "use the del statement.\n",
    "\n",
    "\n",
    "You can remove an item from any position in a list using the del statement\n",
    "if you know its index. but\n",
    "\n",
    "##### you can no longer access the value that was removed from the list after the del statement is used."
   ]
  },
  {
   "cell_type": "code",
   "execution_count": 18,
   "metadata": {},
   "outputs": [
    {
     "name": "stdout",
     "output_type": "stream",
     "text": [
      "['honda', 'yamaha', 'suzuki']\n"
     ]
    }
   ],
   "source": [
    "motorcycles = ['honda', 'yamaha', 'suzuki']\n",
    "print(motorcycles)"
   ]
  },
  {
   "cell_type": "code",
   "execution_count": 19,
   "metadata": {},
   "outputs": [
    {
     "name": "stdout",
     "output_type": "stream",
     "text": [
      "['honda', 'suzuki']\n"
     ]
    }
   ],
   "source": [
    "del motorcycles[1]\n",
    "print(motorcycles)"
   ]
  },
  {
   "cell_type": "markdown",
   "metadata": {},
   "source": [
    "#### 4b. Removing an Item Using the pop() Method"
   ]
  },
  {
   "cell_type": "markdown",
   "metadata": {},
   "source": [
    "In a web application, you might want to remove a user from a list of active members and then add that user to a list of inactive members.\n",
    "\n",
    "-The pop() method removes the last item in a list, but it lets you work with that item after removing it. \n",
    "\n",
    "-The term pop comes from thinking of a list as a stack of items and popping one item off the top of the stack. \n",
    "\n",
    "-In this analogy, the top of a stack corresponds to the end of a list."
   ]
  },
  {
   "cell_type": "code",
   "execution_count": 20,
   "metadata": {},
   "outputs": [
    {
     "name": "stdout",
     "output_type": "stream",
     "text": [
      "['honda', 'yamaha', 'suzuki']\n"
     ]
    }
   ],
   "source": [
    "motorcycles = ['honda', 'yamaha', 'suzuki']\n",
    "print(motorcycles)"
   ]
  },
  {
   "cell_type": "code",
   "execution_count": 21,
   "metadata": {},
   "outputs": [
    {
     "data": {
      "text/plain": [
       "'suzuki'"
      ]
     },
     "execution_count": 21,
     "metadata": {},
     "output_type": "execute_result"
    }
   ],
   "source": [
    "popped_motorcycle = motorcycles.pop()\n",
    "popped_motorcycle"
   ]
  },
  {
   "cell_type": "code",
   "execution_count": 22,
   "metadata": {},
   "outputs": [
    {
     "data": {
      "text/plain": [
       "['honda', 'yamaha']"
      ]
     },
     "execution_count": 22,
     "metadata": {},
     "output_type": "execute_result"
    }
   ],
   "source": [
    "motorcycles"
   ]
  },
  {
   "cell_type": "markdown",
   "metadata": {},
   "source": [
    "##### Practice 4 i.Imagine that the motorcycles in the list are stored in chronological order according to when we owned them. If this is the case, we can use the pop() method to print a statement about the last motorcycle we bought:"
   ]
  },
  {
   "cell_type": "code",
   "execution_count": 23,
   "metadata": {},
   "outputs": [],
   "source": [
    "motorcycles = ['honda', 'yamaha', 'suzuki']"
   ]
  },
  {
   "cell_type": "code",
   "execution_count": 24,
   "metadata": {},
   "outputs": [
    {
     "name": "stdout",
     "output_type": "stream",
     "text": [
      " the latest motor bike i owned is suzuki\n"
     ]
    }
   ],
   "source": [
    "last_motorcycle=motorcycles.pop()\n",
    "print( \" the latest motor bike i owned is \" + last_motorcycle)"
   ]
  },
  {
   "cell_type": "markdown",
   "metadata": {},
   "source": [
    "#### 4c. Popping Items from any Position in a List\n",
    "You can actually use pop() to remove an item in a list at any position by\n",
    "including the index of the item you want to remove in parentheses."
   ]
  },
  {
   "cell_type": "code",
   "execution_count": 25,
   "metadata": {},
   "outputs": [],
   "source": [
    "motorcycles = ['honda', 'yamaha', 'suzuki']"
   ]
  },
  {
   "cell_type": "code",
   "execution_count": 26,
   "metadata": {},
   "outputs": [
    {
     "name": "stdout",
     "output_type": "stream",
     "text": [
      " i first owned Honda.\n"
     ]
    }
   ],
   "source": [
    "first_owned=motorcycles.pop(0)\n",
    "print(\" i first owned \" + first_owned.title() + \".\" )"
   ]
  },
  {
   "cell_type": "markdown",
   "metadata": {},
   "source": [
    "whether to use the del statement or the pop() method,\n",
    "here’s a simple way to decide: when you want to delete an item from a list\n",
    "and not use that item in any way, use the del statement; if you want to use an\n",
    "item as you remove it, use the pop() method."
   ]
  },
  {
   "cell_type": "markdown",
   "metadata": {},
   "source": [
    "#### 4d.Removing an Item by Value"
   ]
  },
  {
   "cell_type": "markdown",
   "metadata": {},
   "source": [
    "Sometimes you won’t know the position of the value you want to remove\n",
    "from a list. If you only know the value of the item you want to remove, you\n",
    "can use the remove() method.\n",
    "For example, let’s say we want to remove the value 'ducati' from the list of\n",
    "motorcycles."
   ]
  },
  {
   "cell_type": "code",
   "execution_count": 27,
   "metadata": {},
   "outputs": [],
   "source": [
    "motorcycles = ['honda', 'yamaha', 'suzuki', 'ducati']"
   ]
  },
  {
   "cell_type": "code",
   "execution_count": 28,
   "metadata": {},
   "outputs": [
    {
     "data": {
      "text/plain": [
       "['honda', 'suzuki', 'ducati']"
      ]
     },
     "execution_count": 28,
     "metadata": {},
     "output_type": "execute_result"
    }
   ],
   "source": [
    "motorcycles .remove('yamaha')\n",
    "motorcycles"
   ]
  },
  {
   "cell_type": "markdown",
   "metadata": {},
   "source": [
    "Example: You can also use the remove() method to work with a value that’s being\n",
    "removed from a list. Let’s remove the value 'ducati' and print a reason for\n",
    "removing it from the list:"
   ]
  },
  {
   "cell_type": "code",
   "execution_count": 29,
   "metadata": {},
   "outputs": [],
   "source": [
    "motorcycles = ['honda', 'yamaha', 'suzuki', 'ducati']"
   ]
  },
  {
   "cell_type": "code",
   "execution_count": 30,
   "metadata": {},
   "outputs": [],
   "source": [
    "too_expensive=\"ducati\""
   ]
  },
  {
   "cell_type": "code",
   "execution_count": 31,
   "metadata": {},
   "outputs": [],
   "source": [
    "motorcycles.remove(too_expensive)"
   ]
  },
  {
   "cell_type": "code",
   "execution_count": 32,
   "metadata": {},
   "outputs": [
    {
     "data": {
      "text/plain": [
       "['honda', 'yamaha', 'suzuki']"
      ]
     },
     "execution_count": 32,
     "metadata": {},
     "output_type": "execute_result"
    }
   ],
   "source": [
    "motorcycles"
   ]
  },
  {
   "cell_type": "code",
   "execution_count": 33,
   "metadata": {},
   "outputs": [
    {
     "name": "stdout",
     "output_type": "stream",
     "text": [
      "\n",
      "A Ducati is too expensive for me.\n"
     ]
    }
   ],
   "source": [
    "print(\"\\nA \" + too_expensive.title() + \" is too expensive for me.\")"
   ]
  },
  {
   "cell_type": "markdown",
   "metadata": {},
   "source": [
    " ### remove() method deletes only the first occurrence of the value you specify. If there’s a possibility the value appears more than once in the list, you’ll need to use a loop to determine if all occurrences of the value have been removed."
   ]
  },
  {
   "cell_type": "code",
   "execution_count": 37,
   "metadata": {},
   "outputs": [
    {
     "name": "stdout",
     "output_type": "stream",
     "text": [
      "['ducati', 'honda', 'yamaha', 'suzuki', 'ducati', 'suzuki', 'ducati']\n"
     ]
    }
   ],
   "source": [
    "motorcycles = [ 'ducati','honda', 'yamaha', 'suzuki', 'ducati','suzuki', 'ducati']\n",
    "print (motorcycles)"
   ]
  },
  {
   "cell_type": "code",
   "execution_count": 38,
   "metadata": {},
   "outputs": [
    {
     "name": "stdout",
     "output_type": "stream",
     "text": [
      "['honda', 'yamaha', 'suzuki', 'suzuki']\n"
     ]
    }
   ],
   "source": [
    "while \"ducati\" in motorcycles:\n",
    "    motorcycles.remove(\"ducati\")\n",
    "print (motorcycles)"
   ]
  },
  {
   "cell_type": "markdown",
   "metadata": {},
   "source": [
    "##                               Try It Yourself"
   ]
  },
  {
   "cell_type": "markdown",
   "metadata": {},
   "source": [
    "#### 3-4. Guest List: If you could invite anyone, living or deceased, to dinner, who would you invite? Make a list that includes at least three people you’d like to invite to dinner. Then use your list to print a message to each person, inviting them to dinner."
   ]
  },
  {
   "cell_type": "code",
   "execution_count": 54,
   "metadata": {},
   "outputs": [
    {
     "name": "stdout",
     "output_type": "stream",
     "text": [
      "shabbar you are invited along your family at my Birthday \n",
      "umair you are invited along your family at my Birthday \n",
      "tasawar you are invited along your family at my Birthday \n"
     ]
    }
   ],
   "source": [
    "guests_list=[\"shabbar\", \"umair\", \"tasawar\"]\n",
    "for i in range(3):\n",
    "    print(guests_list[i] +\" you are invited along your family at my Birthday \")"
   ]
  },
  {
   "cell_type": "markdown",
   "metadata": {},
   "source": [
    "#### 3-5. Changing Guest List: You just heard that one of your guests can’t make the dinner, so you need to send out a new set of invitations. You’ll have to think of someone else to invite.\n",
    "• Start with your program from Exercise 3-4. Add a print statement at the\n",
    "end of your program stating the name of the guest who can’t make it.\n",
    "\n",
    "• Modify your list, replacing the name of the guest who can’t make it with\n",
    "the name of the new person you are inviting.\n",
    "\n",
    "• Print a second set of invitation messages, one for each person who is still\n",
    "in your list."
   ]
  },
  {
   "cell_type": "code",
   "execution_count": 46,
   "metadata": {},
   "outputs": [],
   "source": [
    "unavaialbe_guest=[]\n",
    "unavaialbe_guest=guests_list.pop(1)\n",
    "# unavaialbe_guest[1]=guests_list.pop(2)"
   ]
  },
  {
   "cell_type": "code",
   "execution_count": 47,
   "metadata": {},
   "outputs": [
    {
     "name": "stdout",
     "output_type": "stream",
     "text": [
      "umair cant make today\n"
     ]
    }
   ],
   "source": [
    "print(unavaialbe_guest + \" cant make today\")"
   ]
  },
  {
   "cell_type": "markdown",
   "metadata": {},
   "source": [
    "• Modify your list, replacing the name of the guest who can’t make it with the name of the new person you are inviting."
   ]
  },
  {
   "cell_type": "code",
   "execution_count": 48,
   "metadata": {},
   "outputs": [
    {
     "data": {
      "text/plain": [
       "['tasawar']"
      ]
     },
     "execution_count": 48,
     "metadata": {},
     "output_type": "execute_result"
    }
   ],
   "source": [
    "guests_list.remove(\"shabbar\")\n",
    "guests_list"
   ]
  },
  {
   "cell_type": "code",
   "execution_count": 49,
   "metadata": {},
   "outputs": [],
   "source": [
    "guests_list.insert(0,\"Khuram\")"
   ]
  },
  {
   "cell_type": "code",
   "execution_count": 50,
   "metadata": {},
   "outputs": [
    {
     "data": {
      "text/plain": [
       "['Khuram', 'tasawar']"
      ]
     },
     "execution_count": 50,
     "metadata": {},
     "output_type": "execute_result"
    }
   ],
   "source": [
    "guests_list\n"
   ]
  },
  {
   "cell_type": "markdown",
   "metadata": {},
   "source": [
    "-------------------x-----------------------"
   ]
  },
  {
   "cell_type": "code",
   "execution_count": 51,
   "metadata": {},
   "outputs": [
    {
     "data": {
      "text/plain": [
       "['tasawar']"
      ]
     },
     "execution_count": 51,
     "metadata": {},
     "output_type": "execute_result"
    }
   ],
   "source": [
    "guests_list.pop(0)\n",
    "guests_list"
   ]
  },
  {
   "cell_type": "code",
   "execution_count": 52,
   "metadata": {},
   "outputs": [
    {
     "data": {
      "text/plain": [
       "['Khuram', 'tasawar']"
      ]
     },
     "execution_count": 52,
     "metadata": {},
     "output_type": "execute_result"
    }
   ],
   "source": [
    "guests_list.insert(0,\"Khuram\")\n",
    "guests_list"
   ]
  },
  {
   "cell_type": "markdown",
   "metadata": {},
   "source": [
    "-------------------x-----------------------\n",
    "\n",
    "III. Print a second set of invitation messages, one for each person who is still\n",
    "in your list."
   ]
  },
  {
   "cell_type": "code",
   "execution_count": 55,
   "metadata": {},
   "outputs": [
    {
     "name": "stdout",
     "output_type": "stream",
     "text": [
      "shabbar you are reminded for invitation.\n",
      "umair you are reminded for invitation.\n",
      "tasawar you are reminded for invitation.\n"
     ]
    }
   ],
   "source": [
    "for i in range(3):\n",
    "    print( guests_list[i] + \" you are reminded for invitation.\")"
   ]
  },
  {
   "cell_type": "markdown",
   "metadata": {},
   "source": [
    "-------------------x-----------------------\n",
    "\n",
    "3-6. More Guests: You just found a bigger dinner table, so now more space is\n",
    "available. Think of three more guests to invite to dinner.\n",
    "\n",
    "• Start with your program from Exercise 3-4 or Exercise 3-5. Add a print\n",
    "statement to the end of your program informing people that you found a\n",
    "bigger dinner table.\n",
    "\n",
    "• Use insert() to add one new guest to the beginning of your list.\n",
    "\n",
    "• Use insert() to add one new guest to the middle of your list.\n",
    "\n",
    "• Use append() to add one new guest to the end of your list.\n",
    "\n",
    "• Print a new set of invitation messages, one for each person in your list."
   ]
  },
  {
   "cell_type": "code",
   "execution_count": 56,
   "metadata": {},
   "outputs": [
    {
     "name": "stdout",
     "output_type": "stream",
     "text": [
      "shabbar you are reminded for invitation.\n",
      "umair you are reminded for invitation.\n",
      "tasawar you are reminded for invitation.\n",
      "\n",
      " i  Arranged a bigger Dinning Table\n"
     ]
    }
   ],
   "source": [
    "for i in range(3):\n",
    "    print( guests_list[i] + \" you are reminded for invitation.\" )\n",
    "print(\"\\n i  Arranged a bigger Dinning Table\")"
   ]
  },
  {
   "cell_type": "markdown",
   "metadata": {},
   "source": [
    "• Use insert() to add one new guest to the beginning of your list."
   ]
  },
  {
   "cell_type": "code",
   "execution_count": 68,
   "metadata": {},
   "outputs": [
    {
     "data": {
      "text/plain": [
       "['Azam', 'Qabir']"
      ]
     },
     "execution_count": 68,
     "metadata": {},
     "output_type": "execute_result"
    }
   ],
   "source": [
    "guests_list.insert(0, \"Azam\")\n",
    "guests_list"
   ]
  },
  {
   "cell_type": "markdown",
   "metadata": {},
   "source": [
    "ii. Use insert() to add one new guest to the middle of your list."
   ]
  },
  {
   "cell_type": "code",
   "execution_count": 69,
   "metadata": {},
   "outputs": [
    {
     "data": {
      "text/plain": [
       "['Azam', 'Qabir', 'Qabir']"
      ]
     },
     "execution_count": 69,
     "metadata": {},
     "output_type": "execute_result"
    }
   ],
   "source": [
    "guests_list.insert(2, \"Qabir\")\n",
    "guests_list"
   ]
  },
  {
   "cell_type": "markdown",
   "metadata": {},
   "source": [
    "iii. Use append() to add one new guest to the end of your list."
   ]
  },
  {
   "cell_type": "code",
   "execution_count": 70,
   "metadata": {},
   "outputs": [
    {
     "data": {
      "text/plain": [
       "['Azam', 'Qabir', 'Qabir', 'Kaleem']"
      ]
     },
     "execution_count": 70,
     "metadata": {},
     "output_type": "execute_result"
    }
   ],
   "source": [
    "guests_list.append(\"Kaleem\")\n",
    "guests_list"
   ]
  },
  {
   "cell_type": "markdown",
   "metadata": {},
   "source": [
    "-------------------x-----------------------\n",
    "\n",
    "3-7. Shrinking Guest List: You just found out that your new dinner table won’t\n",
    "arrive in time for the dinner, and you have space for only two guests.\n",
    "\n",
    "• Start with your program from Exercise 3-6. Add a new line that prints a\n",
    "message saying that you can invite only two people for dinner.\n",
    "\n",
    "• Use pop() to remove guests from your list one at a time until only two\n",
    "names remain in your list. Each time you pop a name from your list, print\n",
    "a message to that person letting them know you’re sorry you can’t invite\n",
    "them to dinner.\n",
    "\n",
    "• Print a message to each of the two people still on your list, letting them\n",
    "know they’re still invited.\n",
    "\n",
    "• Use del to remove the last two names from your list, so you have an empty\n",
    "list. Print your list to make sure you actually have an empty list at the end\n",
    "of your program."
   ]
  },
  {
   "cell_type": "code",
   "execution_count": 60,
   "metadata": {},
   "outputs": [
    {
     "name": "stdout",
     "output_type": "stream",
     "text": [
      "inviting only two people for dinner.\n"
     ]
    }
   ],
   "source": [
    "print(\"inviting only two people for dinner.\")"
   ]
  },
  {
   "cell_type": "markdown",
   "metadata": {},
   "source": [
    "ii. Use pop() to remove guests from your list one at a time until only two names remain in your list. Each time you pop a name from your list, print a message to that person letting them know you’re sorry you can’t invite them to dinner."
   ]
  },
  {
   "cell_type": "code",
   "execution_count": 61,
   "metadata": {},
   "outputs": [
    {
     "data": {
      "text/plain": [
       "['Azam', 'shabbar', 'Qabir', 'umair', 'tasawar', 'Kaleem']"
      ]
     },
     "execution_count": 61,
     "metadata": {},
     "output_type": "execute_result"
    }
   ],
   "source": [
    "guests_list"
   ]
  },
  {
   "cell_type": "code",
   "execution_count": 67,
   "metadata": {},
   "outputs": [],
   "source": [
    "# Solution#1 Removing  guests from list of invites until only two remains"
   ]
  },
  {
   "cell_type": "code",
   "execution_count": 73,
   "metadata": {},
   "outputs": [
    {
     "name": "stdout",
     "output_type": "stream",
     "text": [
      "['Kaleem', 'tasawar', 'umair', 'Qabir']\n",
      "['Azam', 'shabbar']\n"
     ]
    }
   ],
   "source": [
    "guests_list=['Azam', 'shabbar', 'Qabir', 'umair', 'tasawar', 'Kaleem']\n",
    "\n",
    "uninvited=[]\n",
    "i=len(guests_list)\n",
    "while (len(guests_list)>2):\n",
    "    i=i-1\n",
    "    uninvited.append(guests_list.pop(i))\n",
    "print(uninvited)\n",
    "print(guests_list)"
   ]
  },
  {
   "cell_type": "code",
   "execution_count": 82,
   "metadata": {},
   "outputs": [
    {
     "name": "stdout",
     "output_type": "stream",
     "text": [
      " Sorry there is a ccomodation problem So  can't Invite you this time Kaleem\n"
     ]
    }
   ],
   "source": [
    "guests_list=['Azam', 'shabbar', 'Qabir', 'umair', 'tasawar', 'Kaleem']\n",
    "un_invited1=guests_list.pop()\n",
    "print(\" Sorry there is a ccomodation problem So  can't Invite you this time \" + un_invited1)"
   ]
  },
  {
   "cell_type": "code",
   "execution_count": 83,
   "metadata": {},
   "outputs": [
    {
     "name": "stdout",
     "output_type": "stream",
     "text": [
      " Sorry there is a ccomodation problem So  can't Invite you this time tasawar\n",
      "['Azam', 'shabbar', 'Qabir', 'umair']\n"
     ]
    }
   ],
   "source": [
    "un_invited2=guests_list.pop()\n",
    "print(\" Sorry there is a ccomodation problem So  can't Invite you this time \" + un_invited2)\n",
    "print(guests_list)"
   ]
  },
  {
   "cell_type": "markdown",
   "metadata": {},
   "source": [
    "iii. Print a message to each of the two people still on your list, letting them\n",
    "know they’re still invited."
   ]
  },
  {
   "cell_type": "code",
   "execution_count": 84,
   "metadata": {},
   "outputs": [
    {
     "name": "stdout",
     "output_type": "stream",
     "text": [
      " you are still invited Umair\n"
     ]
    }
   ],
   "source": [
    "print(\" you are still invited \" + guests_list[-1].title())"
   ]
  },
  {
   "cell_type": "code",
   "execution_count": 85,
   "metadata": {},
   "outputs": [
    {
     "name": "stdout",
     "output_type": "stream",
     "text": [
      " you are still invited Qabir\n"
     ]
    }
   ],
   "source": [
    "print(\" you are still invited \" + guests_list[-2].title())"
   ]
  },
  {
   "cell_type": "markdown",
   "metadata": {},
   "source": [
    "iv.Use del to remove the last two names from your list, so you have an empty\n",
    "list. Print your list to make sure you actually have an empty list at the end\n",
    "of your program."
   ]
  },
  {
   "cell_type": "code",
   "execution_count": 86,
   "metadata": {},
   "outputs": [
    {
     "name": "stdout",
     "output_type": "stream",
     "text": [
      "['Azam', 'Qabir']\n"
     ]
    }
   ],
   "source": [
    "del guests_list[-1]\n",
    "del guests_list[-2]\n",
    "print(guests_list)"
   ]
  },
  {
   "cell_type": "markdown",
   "metadata": {},
   "source": [
    "## 5 Organizing a List"
   ]
  },
  {
   "cell_type": "markdown",
   "metadata": {},
   "source": [
    "because you can’t\n",
    "always control the order in which your users provide their data. Although\n",
    "this is unavoidable in most circumstances, you’ll frequently want to present\n",
    "your information in a particular order. Sometimes you’ll want to preserve the\n",
    "original order of your list, and other times you’ll want to change the original\n",
    "order. Python provides a number of different ways to organize your lists,\n",
    "depending on the situation."
   ]
  },
  {
   "cell_type": "markdown",
   "metadata": {},
   "source": [
    "### 5a Sorting a List Permanently with the sort() Method\n",
    "Python’s sort() method makes it relatively easy to sort a list."
   ]
  },
  {
   "cell_type": "code",
   "execution_count": 87,
   "metadata": {},
   "outputs": [
    {
     "name": "stdout",
     "output_type": "stream",
     "text": [
      "['audi', 'bmw', 'subaru', 'toyota']\n"
     ]
    }
   ],
   "source": [
    "cars = ['bmw', 'audi', 'toyota', 'subaru']\n",
    "#  Alphabatecially sorting\n",
    "cars.sort()\n",
    "print(cars)"
   ]
  },
  {
   "cell_type": "markdown",
   "metadata": {},
   "source": [
    "##### You can also sort this list in reverse alphabetical order by passing the argument reverse=True to the sort() method"
   ]
  },
  {
   "cell_type": "code",
   "execution_count": 88,
   "metadata": {},
   "outputs": [
    {
     "name": "stdout",
     "output_type": "stream",
     "text": [
      "['toyota', 'subaru', 'bmw', 'audi']\n"
     ]
    }
   ],
   "source": [
    "cars = ['bmw', 'audi', 'toyota', 'subaru']\n",
    "#  Alphabatecially sorting\n",
    "cars.sort(reverse=True)\n",
    "print(cars)"
   ]
  },
  {
   "cell_type": "markdown",
   "metadata": {},
   "source": [
    "### 5b Sorting a List Temporarily with the sorted() Function\n",
    "To maintain the original order of a list but present it in a sorted order, you\n",
    "can use the sorted() function. The sorted() function lets you display your list\n",
    "in a particular order but doesn’t affect the actual order of the list."
   ]
  },
  {
   "cell_type": "code",
   "execution_count": 89,
   "metadata": {},
   "outputs": [],
   "source": [
    "cars = ['bmw', 'audi', 'toyota', 'subaru']"
   ]
  },
  {
   "cell_type": "code",
   "execution_count": 90,
   "metadata": {},
   "outputs": [
    {
     "name": "stdout",
     "output_type": "stream",
     "text": [
      "Here is the original list:\n",
      "['bmw', 'audi', 'toyota', 'subaru']\n"
     ]
    }
   ],
   "source": [
    "print(\"Here is the original list:\")\n",
    "print(cars)"
   ]
  },
  {
   "cell_type": "code",
   "execution_count": 93,
   "metadata": {},
   "outputs": [
    {
     "ename": "AttributeError",
     "evalue": "'list' object has no attribute 'sorted'",
     "output_type": "error",
     "traceback": [
      "\u001b[1;31m---------------------------------------------------------------------------\u001b[0m",
      "\u001b[1;31mAttributeError\u001b[0m                            Traceback (most recent call last)",
      "\u001b[1;32m<ipython-input-93-cb0936df5bed>\u001b[0m in \u001b[0;36m<module>\u001b[1;34m()\u001b[0m\n\u001b[1;32m----> 1\u001b[1;33m \u001b[0mcars\u001b[0m\u001b[1;33m.\u001b[0m\u001b[0msorted\u001b[0m\u001b[1;33m(\u001b[0m\u001b[1;33m)\u001b[0m\u001b[1;33m\u001b[0m\u001b[0m\n\u001b[0m",
      "\u001b[1;31mAttributeError\u001b[0m: 'list' object has no attribute 'sorted'"
     ]
    }
   ],
   "source": [
    "cars.sorted()Printing a List in Reverse Order"
   ]
  },
  {
   "cell_type": "code",
   "execution_count": 91,
   "metadata": {},
   "outputs": [
    {
     "name": "stdout",
     "output_type": "stream",
     "text": [
      "\n",
      "Here is the sorted list:\n",
      "['audi', 'bmw', 'subaru', 'toyota']\n"
     ]
    }
   ],
   "source": [
    "print(\"\\nHere is the sorted list:\")\n",
    "print(sorted(cars))"
   ]
  },
  {
   "cell_type": "code",
   "execution_count": 92,
   "metadata": {},
   "outputs": [
    {
     "name": "stdout",
     "output_type": "stream",
     "text": [
      "\n",
      "Here is the original list again:\n",
      "['bmw', 'audi', 'toyota', 'subaru']\n"
     ]
    }
   ],
   "source": [
    "print(\"\\nHere is the original list again:\")\n",
    "print(cars)"
   ]
  },
  {
   "cell_type": "markdown",
   "metadata": {},
   "source": [
    "### 5c Printing a List in Reverse Order"
   ]
  },
  {
   "cell_type": "code",
   "execution_count": 95,
   "metadata": {},
   "outputs": [
    {
     "name": "stdout",
     "output_type": "stream",
     "text": [
      "Here is the original list:\n",
      "['bmw', 'audi', 'toyota', 'subaru']\n"
     ]
    }
   ],
   "source": [
    "cars = ['bmw', 'audi', 'toyota', 'subaru']\n",
    "print(\"Here is the original list:\")\n",
    "print(cars)"
   ]
  },
  {
   "cell_type": "markdown",
   "metadata": {},
   "source": [
    "##### Notice that reverse() doesn’t sort backward alphabetically; it simply reverses the order of the list:"
   ]
  },
  {
   "cell_type": "code",
   "execution_count": 97,
   "metadata": {},
   "outputs": [
    {
     "name": "stdout",
     "output_type": "stream",
     "text": [
      "['subaru', 'toyota', 'audi', 'bmw']\n"
     ]
    }
   ],
   "source": [
    "cars.reverse()\n",
    "print(cars)"
   ]
  },
  {
   "cell_type": "markdown",
   "metadata": {},
   "source": [
    "The reverse() method changes the order of a list permanently, but you\n",
    "can revert to the original order anytime by applying reverse() to the same\n",
    "list a second time.\n",
    "\n",
    "------------X--------------------X-------------------"
   ]
  },
  {
   "cell_type": "markdown",
   "metadata": {},
   "source": [
    "## Try It Yourself\n",
    "### 3-8. Seeing the World: Think of at least five places in the world you’d like to visit.\n",
    "\n",
    "• Store the locations in a list. Make sure the list is not in alphabetical order.\n",
    "\n",
    "• Print your list in its original order. Don’t worry about printing the list neatly,just print it as a raw Python list.\n",
    "\n",
    "• Use sorted() to print your list in alphabetical order without modifying the actual list. \n",
    "\n",
    "• Show that your list is still in its original order by printing it. \n",
    "\n",
    "• Use sorted() to print your list in reverse alphabetical order without changing the order of the original list. \n",
    "\n",
    "• Show that your list is still in its original order by printing it again. \n",
    "\n",
    "• Use reverse() to change the order of your list. Print the list to show that its order has changed. \n",
    "\n",
    "• Use reverse() to change the order of your list again. Print the list to show it’s back to its original order.\n",
    "\n",
    "• Use sort() to change your list so it’s stored in alphabetical order. Print the list to show that its order has been changed.\n",
    "\n",
    "• Use sort() to change your list so it’s stored in reverse alphabetical order.\n",
    "\n",
    "Print the list to show that its order has changed."
   ]
  },
  {
   "cell_type": "code",
   "execution_count": 99,
   "metadata": {},
   "outputs": [],
   "source": [
    "places=[\"Makka\", \"Cairo\", \"Phuket\", \"Attabad\", \"London\"]"
   ]
  },
  {
   "cell_type": "code",
   "execution_count": 100,
   "metadata": {},
   "outputs": [
    {
     "name": "stdout",
     "output_type": "stream",
     "text": [
      "['Makka', 'Cairo', 'Phuket', 'Attabad', 'London']\n"
     ]
    }
   ],
   "source": [
    "print(places)"
   ]
  },
  {
   "cell_type": "code",
   "execution_count": 111,
   "metadata": {},
   "outputs": [
    {
     "name": "stdout",
     "output_type": "stream",
     "text": [
      "['Attabad', 'Cairo', 'London', 'Makka', 'Phuket']\n"
     ]
    },
    {
     "data": {
      "text/plain": [
       "['Makka', 'Cairo', 'Phuket', 'Attabad', 'London']"
      ]
     },
     "execution_count": 111,
     "metadata": {},
     "output_type": "execute_result"
    }
   ],
   "source": [
    "#  Use sorted() to print your list in alphabetical order without modifying the actual list.\n",
    "print(sorted(places))\n",
    "places"
   ]
  },
  {
   "cell_type": "code",
   "execution_count": 112,
   "metadata": {},
   "outputs": [
    {
     "name": "stdout",
     "output_type": "stream",
     "text": [
      "['Makka', 'Cairo', 'Phuket', 'Attabad', 'London']\n"
     ]
    },
    {
     "data": {
      "text/plain": [
       "['Makka', 'Cairo', 'Phuket', 'Attabad', 'London']"
      ]
     },
     "execution_count": 112,
     "metadata": {},
     "output_type": "execute_result"
    }
   ],
   "source": [
    "# Show that your list is still in its original order by printing it again\n",
    "print(places)\n",
    "places"
   ]
  },
  {
   "cell_type": "code",
   "execution_count": 121,
   "metadata": {},
   "outputs": [
    {
     "name": "stdout",
     "output_type": "stream",
     "text": [
      "['Attabad', 'Cairo', 'London', 'Makka', 'Phuket']\n",
      "['Phuket', 'Makka', 'London', 'Cairo', 'Attabad']\n"
     ]
    }
   ],
   "source": [
    "# Use sorted() to print your list in reverse alphabetical order without changing the order of the original list.\n",
    "k=sorted(places)\n",
    "print(k)\n",
    "k.reverse()\n",
    "print(k)"
   ]
  },
  {
   "cell_type": "code",
   "execution_count": 122,
   "metadata": {},
   "outputs": [
    {
     "name": "stdout",
     "output_type": "stream",
     "text": [
      "['Makka', 'Cairo', 'Phuket', 'Attabad', 'London']\n"
     ]
    }
   ],
   "source": [
    "# Show that your list is still in its original order by printing it again. \n",
    "\n",
    "print(places)"
   ]
  },
  {
   "cell_type": "code",
   "execution_count": 132,
   "metadata": {},
   "outputs": [
    {
     "name": "stdout",
     "output_type": "stream",
     "text": [
      "['London', 'Attabad', 'Phuket', 'Cairo', 'Makka']\n"
     ]
    }
   ],
   "source": [
    "# Use reverse() to change the order of your list. Print the list to show that its order has changed.\n",
    "places.reverse()\n",
    "print(places)"
   ]
  },
  {
   "cell_type": "code",
   "execution_count": 127,
   "metadata": {},
   "outputs": [
    {
     "name": "stdout",
     "output_type": "stream",
     "text": [
      "['Makka', 'Cairo', 'Phuket', 'Attabad', 'London']\n"
     ]
    }
   ],
   "source": [
    "print(places)"
   ]
  },
  {
   "cell_type": "code",
   "execution_count": 130,
   "metadata": {},
   "outputs": [
    {
     "name": "stdout",
     "output_type": "stream",
     "text": [
      "['London', 'Attabad', 'Phuket', 'Cairo', 'Makka']\n"
     ]
    }
   ],
   "source": [
    "places.reverse()\n",
    "print(places)"
   ]
  },
  {
   "cell_type": "code",
   "execution_count": 135,
   "metadata": {},
   "outputs": [
    {
     "name": "stdout",
     "output_type": "stream",
     "text": [
      "['Attabad', 'Cairo', 'London', 'Makka', 'Phuket']\n"
     ]
    }
   ],
   "source": [
    "# Use sort() to change your list so it’s stored in alphabetical order. Print the list to show that its order has been changed.\n",
    "places.sort()\n",
    "print(places)"
   ]
  },
  {
   "cell_type": "code",
   "execution_count": 137,
   "metadata": {},
   "outputs": [
    {
     "name": "stdout",
     "output_type": "stream",
     "text": [
      "['Phuket', 'Makka', 'London', 'Cairo', 'Attabad']\n"
     ]
    }
   ],
   "source": [
    "# Use sort() to change your list so it’s stored in reverse alphabetical order. Print the list to show that its order has changed.\n",
    "places.sort(reverse=True)\n",
    "print(places)"
   ]
  },
  {
   "cell_type": "code",
   "execution_count": 143,
   "metadata": {},
   "outputs": [
    {
     "name": "stdout",
     "output_type": "stream",
     "text": [
      "number of people invited at Birth day today 2\n"
     ]
    }
   ],
   "source": [
    "# 3-9. Dinner Guests: Working with one of the programs from Exercises 3-4 through 3-7 (page 46), \n",
    "# use len() to print a message indicating the number of people you are inviting to dinner. \n",
    "\n",
    "print(\"number of people invited at Birth day today \"  +  str(len(guests_list)))"
   ]
  },
  {
   "cell_type": "code",
   "execution_count": null,
   "metadata": {},
   "outputs": [],
   "source": [
    "# 3-10. Every Function: Think of something you could store in a list. For example,\n",
    "# you could make a list of mountains, rivers, countries, cities, languages, or anything\n",
    "# else you’d like. Write a program that creates a list containing these items\n",
    "# and then uses each function introduced in this chapter at least once."
   ]
  },
  {
   "cell_type": "code",
   "execution_count": 146,
   "metadata": {},
   "outputs": [],
   "source": [
    "mountains=[\"Everest\",\"K2\",\"fiji\"]\n",
    "rivers=[\"Nile\",\"Indus\", \"Amazon\"]\n",
    "countries=[\"US\",\"UK\", \"Finland\", \"Pakistan\"]\n",
    "cities=[\"tokyo\",\"lisbon\",\"Dubai\",\"Jeddah\"]\n",
    "languages=[\"Chinees\",\"English\",\"Urdu\",\" Japanese\"]"
   ]
  },
  {
   "cell_type": "code",
   "execution_count": 150,
   "metadata": {},
   "outputs": [],
   "source": [
    "# 1. Append\n",
    "languages.append(\"Turkish\")"
   ]
  },
  {
   "cell_type": "code",
   "execution_count": 149,
   "metadata": {},
   "outputs": [
    {
     "data": {
      "text/plain": [
       "['Chinees', 'English', 'Urdu', ' Japanese', 'Turkish']"
      ]
     },
     "execution_count": 149,
     "metadata": {},
     "output_type": "execute_result"
    }
   ],
   "source": []
  },
  {
   "cell_type": "code",
   "execution_count": null,
   "metadata": {},
   "outputs": [],
   "source": []
  }
 ],
 "metadata": {
  "kernelspec": {
   "display_name": "Python 3",
   "language": "python",
   "name": "python3"
  },
  "language_info": {
   "codemirror_mode": {
    "name": "ipython",
    "version": 3
   },
   "file_extension": ".py",
   "mimetype": "text/x-python",
   "name": "python",
   "nbconvert_exporter": "python",
   "pygments_lexer": "ipython3",
   "version": "3.6.5"
  }
 },
 "nbformat": 4,
 "nbformat_minor": 2
}
