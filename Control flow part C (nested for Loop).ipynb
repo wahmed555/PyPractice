{
 "cells": [
  {
   "cell_type": "markdown",
   "metadata": {},
   "source": [
    "## Nested For loop"
   ]
  },
  {
   "cell_type": "code",
   "execution_count": 2,
   "metadata": {},
   "outputs": [],
   "source": [
    "first_names = [\"BlueRay \", \"Upchuck \", \"Lojack \",\n",
    "\"Gizmo \", \"Do-Rag \"]\n",
    "last_names = [\"Zzz\", \"Burp\", \"Dogbone\", \"Droop\"]\n",
    "full_name=[]\n",
    "for i in first_names:\n",
    "    for j in last_names:\n",
    "        full_name.append(i+\"\"+j)"
   ]
  },
  {
   "cell_type": "code",
   "execution_count": 3,
   "metadata": {},
   "outputs": [
    {
     "data": {
      "text/plain": [
       "['BlueRay Zzz',\n",
       " 'BlueRay Burp',\n",
       " 'BlueRay Dogbone',\n",
       " 'BlueRay Droop',\n",
       " 'Upchuck Zzz',\n",
       " 'Upchuck Burp',\n",
       " 'Upchuck Dogbone',\n",
       " 'Upchuck Droop',\n",
       " 'Lojack Zzz',\n",
       " 'Lojack Burp',\n",
       " 'Lojack Dogbone',\n",
       " 'Lojack Droop',\n",
       " 'Gizmo Zzz',\n",
       " 'Gizmo Burp',\n",
       " 'Gizmo Dogbone',\n",
       " 'Gizmo Droop',\n",
       " 'Do-Rag Zzz',\n",
       " 'Do-Rag Burp',\n",
       " 'Do-Rag Dogbone',\n",
       " 'Do-Rag Droop']"
      ]
     },
     "execution_count": 3,
     "metadata": {},
     "output_type": "execute_result"
    }
   ],
   "source": [
    "full_name\n"
   ]
  },
  {
   "cell_type": "code",
   "execution_count": 4,
   "metadata": {},
   "outputs": [
    {
     "data": {
      "text/plain": [
       "20"
      ]
     },
     "execution_count": 4,
     "metadata": {},
     "output_type": "execute_result"
    }
   ],
   "source": [
    "len(full_name)"
   ]
  },
  {
   "cell_type": "markdown",
   "metadata": {},
   "source": [
    " ## While loop conditions in: compound conditional expressions\n",
    "    "
   ]
  },
  {
   "cell_type": "code",
   "execution_count": 6,
   "metadata": {
    "collapsed": true
   },
   "outputs": [],
   "source": [
    "list1=['banana', 'apple',  'mango']\n",
    "list2=['carrot', 'pineapple',  'avacado']\n",
    "def linear_merge(list1, list2):\n",
    "\n",
    "    result = []     \n",
    "    while len(list1) and len(list2):\n",
    "        if list1[0] < list2[0]:\n",
    "            result.append(list1.pop(0))\n",
    "        else:\n",
    "            result.append(list2.pop(0))    \n",
    "\n",
    "    result.extend(list1)\n",
    "    result.extend(list2)\n",
    "    return result"
   ]
  },
  {
   "cell_type": "code",
   "execution_count": 7,
   "metadata": {},
   "outputs": [
    {
     "data": {
      "text/plain": [
       "['banana', 'apple', 'carrot', 'mango', 'pineapple', 'avacado']"
      ]
     },
     "execution_count": 7,
     "metadata": {},
     "output_type": "execute_result"
    }
   ],
   "source": [
    "linear_merge(list1, list2)"
   ]
  },
  {
   "cell_type": "code",
   "execution_count": null,
   "metadata": {
    "collapsed": true
   },
   "outputs": [],
   "source": []
  }
 ],
 "metadata": {
  "kernelspec": {
   "display_name": "Python 3",
   "language": "python",
   "name": "python3"
  },
  "language_info": {
   "codemirror_mode": {
    "name": "ipython",
    "version": 3
   },
   "file_extension": ".py",
   "mimetype": "text/x-python",
   "name": "python",
   "nbconvert_exporter": "python",
   "pygments_lexer": "ipython3",
   "version": "3.6.3"
  }
 },
 "nbformat": 4,
 "nbformat_minor": 2
}
