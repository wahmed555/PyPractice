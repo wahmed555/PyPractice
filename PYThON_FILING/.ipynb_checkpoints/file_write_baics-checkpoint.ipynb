{
 "cells": [
  {
   "cell_type": "code",
   "execution_count": 4,
   "metadata": {},
   "outputs": [
    {
     "name": "stdout",
     "output_type": "stream",
     "text": [
      "write to file successful\n"
     ]
    }
   ],
   "source": [
    "# writing a txt file\n",
    "the_file=open(\"demo.txt\",'w')\n",
    "the_file.write(\"stay in a  life \\n\")\n",
    "the_file.write(\"party to stand \\n\")\n",
    "the_file.close()\n",
    "print(\"write to file successful\")"
   ]
  },
  {
   "cell_type": "code",
   "execution_count": 5,
   "metadata": {},
   "outputs": [
    {
     "name": "stdout",
     "output_type": "stream",
     "text": [
      "write to file successful\n"
     ]
    }
   ],
   "source": [
    "# creating a csv file\n",
    "\n",
    "the_csv=open(\"sheet1.csv\",\"w+\")\n",
    "the_csv.write(\"alph,29 \\n\")\n",
    "the_csv.write(\"joker,34 \")\n",
    "the_csv.close()\n",
    "print(\"write to file successful\")"
   ]
  },
  {
   "cell_type": "code",
   "execution_count": null,
   "metadata": {
    "collapsed": true
   },
   "outputs": [],
   "source": []
  }
 ],
 "metadata": {
  "kernelspec": {
   "display_name": "Python 3",
   "language": "python",
   "name": "python3"
  },
  "language_info": {
   "codemirror_mode": {
    "name": "ipython",
    "version": 3
   },
   "file_extension": ".py",
   "mimetype": "text/x-python",
   "name": "python",
   "nbconvert_exporter": "python",
   "pygments_lexer": "ipython3",
   "version": "3.6.3"
  }
 },
 "nbformat": 4,
 "nbformat_minor": 2
}
