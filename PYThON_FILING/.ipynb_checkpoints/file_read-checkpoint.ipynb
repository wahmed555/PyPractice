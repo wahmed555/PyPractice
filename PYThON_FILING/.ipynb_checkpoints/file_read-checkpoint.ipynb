{
 "cells": [
  {
   "cell_type": "code",
   "execution_count": 7,
   "metadata": {},
   "outputs": [
    {
     "name": "stdout",
     "output_type": "stream",
     "text": [
      "Animal, Endangered\n",
      "loin, extinct\n",
      "kangro,common\n",
      "Deer, extinct\n"
     ]
    }
   ],
   "source": [
    "# simple read\n",
    "\n",
    "the_f=open(\"tasmania.txt\",\"r\")\n",
    "allcontents=the_f.read()\n",
    "the_f.close()\n",
    "print(allcontents)"
   ]
  },
  {
   "cell_type": "code",
   "execution_count": 6,
   "metadata": {},
   "outputs": [
    {
     "name": "stdout",
     "output_type": "stream",
     "text": [
      "Animal, Endangered\n",
      "\n",
      "loin, extinct\n",
      "\n"
     ]
    }
   ],
   "source": [
    "# using readline() to read a csv file\n",
    "\n",
    "the_f=open(\"tasmania.txt\",\"r\")\n",
    "first_line=the_f.readline()\n",
    "print(first_line)\n",
    "second_line=the_f.readline()\n",
    "print(second_line)\n",
    "\n",
    "the_f.close()"
   ]
  },
  {
   "cell_type": "code",
   "execution_count": 9,
   "metadata": {},
   "outputs": [
    {
     "name": "stdout",
     "output_type": "stream",
     "text": [
      "['Animal', ' Endangered']\n",
      "['loin', ' extinct']\n",
      "['kangro', 'common']\n",
      "['Deer', ' extinct']\n"
     ]
    }
   ],
   "source": [
    "# reading using CSV module\n",
    "import csv\n",
    "with open(\"tasmania.txt\") as allcontent:\n",
    "    allrows=csv.reader(allcontent)\n",
    "\n",
    "    for currentrow in allrows:\n",
    "        print(currentrow)"
   ]
  },
  {
   "cell_type": "code",
   "execution_count": 11,
   "metadata": {},
   "outputs": [
    {
     "name": "stdout",
     "output_type": "stream",
     "text": [
      "['Animal', ' Endangered']\n",
      "Animal\n",
      " Endangered\n",
      "['loin', ' extinct']\n",
      "loin\n",
      " extinct\n",
      "['kangro', 'common']\n",
      "kangro\n",
      "common\n",
      "['Deer', ' extinct']\n",
      "Deer\n",
      " extinct\n"
     ]
    }
   ],
   "source": [
    "# reading using CSV module\n",
    "import csv\n",
    "with open(\"tasmania.txt\") as allcontent:\n",
    "    allrows=csv.reader(allcontent)\n",
    "\n",
    "    for currentrow in allrows:\n",
    "        print(currentrow)\n",
    "        for cwords in currentrow:\n",
    "            print(cwords)"
   ]
  },
  {
   "cell_type": "code",
   "execution_count": 16,
   "metadata": {},
   "outputs": [
    {
     "name": "stdout",
     "output_type": "stream",
     "text": [
      "['Animal', ' Endangered']\n",
      "A,n,i,m,a,l\n",
      " ,E,n,d,a,n,g,e,r,e,d\n",
      "['loin', ' extinct']\n",
      "l,o,i,n\n",
      " ,e,x,t,i,n,c,t\n",
      "['kangro', 'common']\n",
      "k,a,n,g,r,o\n",
      "c,o,m,m,o,n\n",
      "['Deer', ' extinct']\n",
      "D,e,e,r\n",
      " ,e,x,t,i,n,c,t\n"
     ]
    }
   ],
   "source": [
    "# JOIN\n",
    "\n",
    "import csv\n",
    "with open(\"tasmania.txt\") as allcontent:\n",
    "    allrows=csv.reader(allcontent)\n",
    "\n",
    "    for currentrow in allrows:\n",
    "        print(currentrow)\n",
    "        for cwords in currentrow:\n",
    "            print(','.join(cwords))"
   ]
  },
  {
   "cell_type": "code",
   "execution_count": 24,
   "metadata": {},
   "outputs": [
    {
     "name": "stdout",
     "output_type": "stream",
     "text": [
      "['Susan', '32']\n",
      "S,u,s,a,n\n",
      "3,2\n",
      "['christopher', '80']\n",
      "c,h,r,i,s,t,o,p,h,e,r\n",
      "8,0\n",
      "['jane', '45']\n",
      "j,a,n,e\n",
      "4,5\n",
      "['altag', '100']\n",
      "a,l,t,a,g\n",
      "1,0,0\n",
      "['farix', '23']\n",
      "f,a,r,i,x\n",
      "2,3\n"
     ]
    }
   ],
   "source": [
    "# Exercise\n",
    "\n",
    "import csv\n",
    "with open(\"exercise_read.txt\") as allcontent:\n",
    "    allguests=csv.reader(allcontent)\n",
    "    for guest in allguests:\n",
    "        print(guest)\n",
    "        for word in guest:\n",
    "            print(','.join(word))"
   ]
  },
  {
   "cell_type": "code",
   "execution_count": null,
   "metadata": {
    "collapsed": true
   },
   "outputs": [],
   "source": []
  }
 ],
 "metadata": {
  "kernelspec": {
   "display_name": "Python 3",
   "language": "python",
   "name": "python3"
  },
  "language_info": {
   "codemirror_mode": {
    "name": "ipython",
    "version": 3
   },
   "file_extension": ".py",
   "mimetype": "text/x-python",
   "name": "python",
   "nbconvert_exporter": "python",
   "pygments_lexer": "ipython3",
   "version": "3.6.3"
  }
 },
 "nbformat": 4,
 "nbformat_minor": 2
}
