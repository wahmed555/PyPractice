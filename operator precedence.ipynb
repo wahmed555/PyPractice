{
 "cells": [
  {
   "cell_type": "markdown",
   "metadata": {},
   "source": [
    "## Python Operators: Arithmetic, Logical, Comparison, Assignment, Bitwise & Precedence\n",
    "\n",
    "\n",
    "Operators are used to perform operations on values and variables. Operators can manipulate individual items and returns a result. The data items are referred as operands or arguments. Operators are either represented by keywords or special characters. For example, for identity operators we use keyword \"is\" and \"is not\".\n",
    "\n",
    "In this tutorial, we going to learn various operators\n",
    "\n",
    "Arithmetic Operators\n",
    "\n",
    "Comparison Operators\n",
    "\n",
    "Bitwise Operators\n",
    "\n",
    "Python Assignment Operators\n",
    "\n",
    "Logical Operators or Bitwise Operators\n",
    "\n",
    "Membership Operators\n",
    "\n",
    "Identity Operators\n",
    "\n",
    "Operator precedence\n",
    "\n",
    "\n",
    "\n",
    "\n",
    "### i) Arithmetic Operators \n",
    "perform various arithmetic calculations like addition, subtraction, multiplication, division, %modulus, exponent, etc. There are various methods for arithmetic calculation in Python like you can use the eval function, declare variable & calculate, or call functions.\n",
    "\n",
    "Example: For arithmetic operators we will take simple example of addition where we will add two-digit 4+5=9"
   ]
  },
  {
   "cell_type": "code",
   "execution_count": 75,
   "metadata": {},
   "outputs": [
    {
     "name": "stdout",
     "output_type": "stream",
     "text": [
      "9\n"
     ]
    }
   ],
   "source": [
    "x= 4\n",
    "y= 5\n",
    "z=3\n",
    "t=9\n",
    "print(x + y)"
   ]
  },
  {
   "cell_type": "code",
   "execution_count": 76,
   "metadata": {},
   "outputs": [
    {
     "data": {
      "text/plain": [
       "-3.0"
      ]
     },
     "execution_count": 76,
     "metadata": {},
     "output_type": "execute_result"
    }
   ],
   "source": [
    "f=x+t/z-y*2\n",
    "f\n",
    "# div,mul,add,sub"
   ]
  },
  {
   "cell_type": "code",
   "execution_count": 8,
   "metadata": {},
   "outputs": [
    {
     "data": {
      "text/plain": [
       "2.0"
      ]
     },
     "execution_count": 8,
     "metadata": {},
     "output_type": "execute_result"
    }
   ],
   "source": [
    "f=x+t/z-y\n",
    "f\n",
    "# div,add,sub"
   ]
  },
  {
   "cell_type": "markdown",
   "metadata": {},
   "source": [
    "### ii)Comparison Operators  or Relational operators\n",
    "These operators compare the values on either side of the operand and determine the relation between them. It is also referred as relational operators. Various comparison operators are ( ==, != , <>, >,<=, etc)"
   ]
  },
  {
   "cell_type": "markdown",
   "metadata": {},
   "source": [
    "Example: For comparison operators we will compare the value of x to the value of y and print the result in true or false. Here in example, our value of x = 4 which is smaller than y = 5, so when we print the value as x>y, it actually compares the value of x to y and since it is not correct, it returns false."
   ]
  },
  {
   "cell_type": "code",
   "execution_count": 11,
   "metadata": {},
   "outputs": [
    {
     "name": "stdout",
     "output_type": "stream",
     "text": [
      "('x > y  is', False)\n"
     ]
    }
   ],
   "source": [
    "x = 4\n",
    "y = 5\n",
    "print(('x > y  is',x>y))"
   ]
  },
  {
   "cell_type": "code",
   "execution_count": 12,
   "metadata": {},
   "outputs": [
    {
     "name": "stdout",
     "output_type": "stream",
     "text": [
      "('x == y  is', False)\n"
     ]
    }
   ],
   "source": [
    "print(('x == y  is',x==y))"
   ]
  },
  {
   "cell_type": "code",
   "execution_count": 13,
   "metadata": {},
   "outputs": [
    {
     "ename": "SyntaxError",
     "evalue": "invalid syntax (<ipython-input-13-f658a6e5037e>, line 1)",
     "output_type": "error",
     "traceback": [
      "\u001b[1;36m  File \u001b[1;32m\"<ipython-input-13-f658a6e5037e>\"\u001b[1;36m, line \u001b[1;32m1\u001b[0m\n\u001b[1;33m    print(('x = y  is',x=y))\u001b[0m\n\u001b[1;37m                        ^\u001b[0m\n\u001b[1;31mSyntaxError\u001b[0m\u001b[1;31m:\u001b[0m invalid syntax\n"
     ]
    }
   ],
   "source": [
    "print(('x = y  is',x=y))"
   ]
  },
  {
   "cell_type": "code",
   "execution_count": 14,
   "metadata": {},
   "outputs": [
    {
     "name": "stdout",
     "output_type": "stream",
     "text": [
      "('x != y  is', True)\n"
     ]
    }
   ],
   "source": [
    "print(('x != y  is',x!=y))"
   ]
  },
  {
   "cell_type": "code",
   "execution_count": 16,
   "metadata": {},
   "outputs": [
    {
     "ename": "SyntaxError",
     "evalue": "invalid syntax (<ipython-input-16-360e046d7078>, line 1)",
     "output_type": "error",
     "traceback": [
      "\u001b[1;36m  File \u001b[1;32m\"<ipython-input-16-360e046d7078>\"\u001b[1;36m, line \u001b[1;32m1\u001b[0m\n\u001b[1;33m    print(('x <>y  is',x<>y))\u001b[0m\n\u001b[1;37m                         ^\u001b[0m\n\u001b[1;31mSyntaxError\u001b[0m\u001b[1;31m:\u001b[0m invalid syntax\n"
     ]
    }
   ],
   "source": [
    "print(('x <>y  is',x<>y))"
   ]
  },
  {
   "cell_type": "markdown",
   "metadata": {},
   "source": [
    "### iii) Bitwise shift\n",
    "\n",
    "int a = 5;        // binary: 101\n",
    "\n",
    "int b = a << 3;   // binary: 101000, or 40 in decimal\n",
    "\n",
    "int c = b >> 3;   // binary: 101, or back to 5 like we started with"
   ]
  },
  {
   "cell_type": "code",
   "execution_count": 17,
   "metadata": {},
   "outputs": [
    {
     "name": "stdout",
     "output_type": "stream",
     "text": [
      "('x >>y  is', 0)\n"
     ]
    }
   ],
   "source": [
    "print(('x >>y  is',x>>y))"
   ]
  },
  {
   "cell_type": "code",
   "execution_count": 23,
   "metadata": {},
   "outputs": [
    {
     "name": "stdout",
     "output_type": "stream",
     "text": [
      "('x <<y  is', 128)\n"
     ]
    }
   ],
   "source": [
    "# Syntax\n",
    "# some_int << number_of_bits\n",
    "print(('x <<y  is',x<<y))"
   ]
  },
  {
   "cell_type": "code",
   "execution_count": 19,
   "metadata": {},
   "outputs": [
    {
     "name": "stdout",
     "output_type": "stream",
     "text": [
      "('x >y  is', False)\n"
     ]
    }
   ],
   "source": [
    "print(('x >y  is',x>y))"
   ]
  },
  {
   "cell_type": "code",
   "execution_count": 20,
   "metadata": {},
   "outputs": [
    {
     "name": "stdout",
     "output_type": "stream",
     "text": [
      "('x <y  is', True)\n"
     ]
    }
   ],
   "source": [
    "print(('x <y  is',x<y))"
   ]
  },
  {
   "cell_type": "code",
   "execution_count": 21,
   "metadata": {},
   "outputs": [
    {
     "name": "stdout",
     "output_type": "stream",
     "text": [
      "('x <= y  is', True)\n"
     ]
    }
   ],
   "source": [
    "print(('x <= y  is',x<=y))"
   ]
  },
  {
   "cell_type": "code",
   "execution_count": 22,
   "metadata": {},
   "outputs": [
    {
     "name": "stdout",
     "output_type": "stream",
     "text": [
      "('x >= y  is', False)\n"
     ]
    }
   ],
   "source": [
    "print(('x >= y  is',x>=y))"
   ]
  },
  {
   "cell_type": "code",
   "execution_count": 24,
   "metadata": {},
   "outputs": [
    {
     "data": {
      "text/plain": [
       "128"
      ]
     },
     "execution_count": 24,
     "metadata": {},
     "output_type": "execute_result"
    }
   ],
   "source": [
    "2**7"
   ]
  },
  {
   "cell_type": "markdown",
   "metadata": {},
   "source": [
    "### iv)Python Assignment Operators\n",
    "Python assignment operators are used for assigning the value of the right operand to the left operand.\n",
    "\n",
    "Various assignment operators used in Python are \n",
    "\n",
    "(+=, - = , *=, /= , etc.)\n",
    "\n",
    "Example: Python assignment operators is simply to assign the value, for example"
   ]
  },
  {
   "cell_type": "code",
   "execution_count": 54,
   "metadata": {},
   "outputs": [
    {
     "name": "stdout",
     "output_type": "stream",
     "text": [
      "num 1 value is :  4\n"
     ]
    }
   ],
   "source": [
    "num1 = 4\n",
    "num2 = 5\n",
    "print(\"num 1 value is : \", num1)"
   ]
  },
  {
   "cell_type": "code",
   "execution_count": 55,
   "metadata": {},
   "outputs": [
    {
     "data": {
      "text/plain": [
       "10"
      ]
     },
     "execution_count": 55,
     "metadata": {},
     "output_type": "execute_result"
    }
   ],
   "source": [
    "# c += a is equivalent to c = c + a\n",
    "c=3\n",
    "a=7\n",
    "c+=a\n",
    "c"
   ]
  },
  {
   "cell_type": "code",
   "execution_count": 56,
   "metadata": {},
   "outputs": [
    {
     "data": {
      "text/plain": [
       "3"
      ]
     },
     "execution_count": 56,
     "metadata": {},
     "output_type": "execute_result"
    }
   ],
   "source": [
    "# c -= a is equivalent to c = c - a\n",
    "\n",
    "c-=a\n",
    "c"
   ]
  },
  {
   "cell_type": "code",
   "execution_count": 57,
   "metadata": {
    "collapsed": true
   },
   "outputs": [],
   "source": [
    "# c = c * a\n",
    "c *= a"
   ]
  },
  {
   "cell_type": "code",
   "execution_count": 58,
   "metadata": {},
   "outputs": [
    {
     "data": {
      "text/plain": [
       "21"
      ]
     },
     "execution_count": 58,
     "metadata": {},
     "output_type": "execute_result"
    }
   ],
   "source": [
    "c"
   ]
  },
  {
   "cell_type": "code",
   "execution_count": 59,
   "metadata": {},
   "outputs": [
    {
     "data": {
      "text/plain": [
       "3.0"
      ]
     },
     "execution_count": 59,
     "metadata": {},
     "output_type": "execute_result"
    }
   ],
   "source": [
    "# c /= a is equivalent to c = c / a\n",
    "c/=a\n",
    "c"
   ]
  },
  {
   "cell_type": "code",
   "execution_count": 60,
   "metadata": {},
   "outputs": [
    {
     "data": {
      "text/plain": [
       "3.0"
      ]
     },
     "execution_count": 60,
     "metadata": {},
     "output_type": "execute_result"
    }
   ],
   "source": [
    "# c %= a is equivalent to c = c % a\n",
    "# %= Modulus AND\n",
    "\n",
    "c%=a\n",
    "c\n"
   ]
  },
  {
   "cell_type": "code",
   "execution_count": 61,
   "metadata": {},
   "outputs": [
    {
     "data": {
      "text/plain": [
       "2187.0"
      ]
     },
     "execution_count": 61,
     "metadata": {},
     "output_type": "execute_result"
    }
   ],
   "source": [
    "# **= Exponent AND\n",
    "# c **= a is equivalent to c = c ** a\n",
    "c**=a\n",
    "c"
   ]
  },
  {
   "cell_type": "code",
   "execution_count": 63,
   "metadata": {
    "collapsed": true
   },
   "outputs": [],
   "source": [
    "# //= Floor Division\n",
    "# c //= a is equivalent to c = c // a\n",
    "\n",
    "c//=a"
   ]
  },
  {
   "cell_type": "code",
   "execution_count": 64,
   "metadata": {},
   "outputs": [
    {
     "data": {
      "text/plain": [
       "312.0"
      ]
     },
     "execution_count": 64,
     "metadata": {},
     "output_type": "execute_result"
    }
   ],
   "source": [
    "c"
   ]
  },
  {
   "cell_type": "code",
   "execution_count": 66,
   "metadata": {},
   "outputs": [
    {
     "data": {
      "text/plain": [
       "312.42857142857144"
      ]
     },
     "execution_count": 66,
     "metadata": {},
     "output_type": "execute_result"
    }
   ],
   "source": [
    "\n",
    "2187/7"
   ]
  },
  {
   "cell_type": "markdown",
   "metadata": {},
   "source": [
    "#### Example of compound assignment operator\n",
    "\n",
    "We can also use a compound assignment operator, where you can add, subtract, multiply right operand to left and assign addition (or any other arithmetic function) to the left operand.\n",
    "\n",
    "Step 1: Assign value to num1 and num2\n",
    "\n",
    "Step 2: Add value of num1 and num2 (4+5=9)\n",
    "\n",
    "Step 3: To this result add num1 to the output of Step 2 ( 9+4)\n",
    "\n",
    "Step 4: It will print the final result as 13"
   ]
  },
  {
   "cell_type": "code",
   "execution_count": 67,
   "metadata": {},
   "outputs": [
    {
     "name": "stdout",
     "output_type": "stream",
     "text": [
      "('Line 1 - Result of + is ', 13)\n"
     ]
    }
   ],
   "source": [
    "n1=4\n",
    "n2=5\n",
    "res=n1+n2\n",
    "res+=n1\n",
    "print((\"Line 1 - Result of + is \" ,res))"
   ]
  },
  {
   "cell_type": "markdown",
   "metadata": {},
   "source": [
    "### v) Logical Operators\n",
    "\n",
    "Logical operators in Python are used for conditional statements are true or false. Logical operators in Python are AND, OR and NOT. For logical operators following condition are applied.\n",
    "\n",
    "For AND operator – It returns TRUE if both the operands (right side and left side) are true\n",
    "\n",
    "For OR operator- It returns TRUE if either of the operand (right side or left side) is true\n",
    "\n",
    "For NOT operator- returns TRUE if operand is false\n",
    "\n",
    "Example: Here in example we get true or false based on the value of a and b"
   ]
  },
  {
   "cell_type": "code",
   "execution_count": 68,
   "metadata": {},
   "outputs": [
    {
     "name": "stdout",
     "output_type": "stream",
     "text": [
      "('a and b is', False)\n",
      "('a or b is', True)\n",
      "('not a is', False)\n"
     ]
    }
   ],
   "source": [
    "a = True\n",
    "b = False\n",
    "print(('a and b is',a and b))\n",
    "print(('a or b is',a or b))\n",
    "print(('not a is',not a))"
   ]
  },
  {
   "cell_type": "markdown",
   "metadata": {},
   "source": [
    "### vi) Containment or  Membership Operators\n",
    "\n",
    "These operators test for membership in a sequence such as lists, strings or tuples. There are two membership operators that are used in Python. \n",
    "##### (in, not in). \n",
    "It gives the result based on the variable present in specified sequence or string\n",
    "\n",
    "Example: For example here we check whether the value of x=4 and value of y=8 is available in list or not, by using in and not in operators."
   ]
  },
  {
   "cell_type": "code",
   "execution_count": 70,
   "metadata": {},
   "outputs": [
    {
     "name": "stdout",
     "output_type": "stream",
     "text": [
      "Line 1 - x is available in the given list\n",
      "Line 2 - y is not available in the given list\n"
     ]
    }
   ],
   "source": [
    "x = 4\n",
    "y = 8\n",
    "list = [1, 2, 3, 4, 5 ];\n",
    "if ( x in list ):\n",
    "   print(\"Line 1 - x is available in the given list\")\n",
    "else:\n",
    "   print(\"Line 1 - x is not available in the given list\")\n",
    "if ( y not in list ):\n",
    "   print(\"Line 2 - y is not available in the given list\")\n",
    "else:\n",
    "   print(\"Line 2 - y is available in the given list\")"
   ]
  },
  {
   "cell_type": "markdown",
   "metadata": {},
   "source": [
    "### Vii) Identity Operators\n",
    "To compare the memory location of two objects, Identity Operators are used. The two identify operators used in Python are \n",
    "##### (is, is not).\n",
    "\n",
    "Operator is: It returns true if two variables point the same object and false otherwise\n",
    "\n",
    "Operator is not: It returns false if two variables point the same object and true otherwise\n",
    "\n",
    "Following operands are in decreasing order of precedence.\n",
    "\n",
    "Operators in the same box evaluate left to right"
   ]
  },
  {
   "cell_type": "code",
   "execution_count": 72,
   "metadata": {},
   "outputs": [
    {
     "name": "stdout",
     "output_type": "stream",
     "text": [
      "x & y  SAME identity\n",
      "x & y have DIFFERENT identity\n"
     ]
    }
   ],
   "source": [
    "x = 20\n",
    "y = 20\n",
    "if ( x is y ): \n",
    "    print(\"x & y  SAME identity\")\n",
    "y=30\n",
    "if ( x is not y ):\n",
    "    print(\"x & y have DIFFERENT identity\")"
   ]
  },
  {
   "cell_type": "code",
   "execution_count": null,
   "metadata": {
    "collapsed": true
   },
   "outputs": [],
   "source": []
  },
  {
   "cell_type": "markdown",
   "metadata": {},
   "source": [
    "### Operator precedence\n",
    "\n",
    "The operator precedence determines which operators need to be evaluated first. To avoid ambiguity in values, precedence operators are necessary.\n",
    "Just like in normal multiplication method, multiplication has a higher precedence than addition. \n",
    "\n",
    "For example in 3+ 4*5, the answer is 23, to change the order of precedence we use a parentheses (3+4)*5, now the answer is 35. Precedence operator used in Python are (unary + - ~, **, * / %, + - , &) etc."
   ]
  },
  {
   "cell_type": "raw",
   "metadata": {},
   "source": [
    "Operators (Decreasing order of precedence)\tMeaning\n",
    "\n",
    "**\t                           Exponent\n",
    "\n",
    "*, /, //, %\t                   Multiplication, Division, Floor division, Modulus\n",
    "\n",
    "+, -\t                       Addition, Subtraction\n",
    "\n",
    "<= < > >=\t                   Comparison operators\n",
    "\n",
    "= %= /= //= -= += *= **=\t   Assignment Operators\n",
    "\n",
    "is is not\t                   Identity operators\n",
    "\n",
    "in not in\t                   Membership operators\n",
    "\n",
    "not or and\t                   Logical operators"
   ]
  },
  {
   "cell_type": "code",
   "execution_count": 73,
   "metadata": {},
   "outputs": [
    {
     "name": "stdout",
     "output_type": "stream",
     "text": [
      "Value of (v+w) * x/ y is  36.0\n"
     ]
    }
   ],
   "source": [
    "v = 4\n",
    "w = 5\n",
    "x = 8\n",
    "y = 2\n",
    "z = 0\n",
    "z = (v+w) * x / y;   \n",
    "print(\"Value of (v+w) * x/ y is \",  z)"
   ]
  },
  {
   "cell_type": "code",
   "execution_count": 74,
   "metadata": {},
   "outputs": [
    {
     "data": {
      "text/plain": [
       "80.0"
      ]
     },
     "execution_count": 74,
     "metadata": {},
     "output_type": "execute_result"
    }
   ],
   "source": [
    "v/y*x*5"
   ]
  },
  {
   "cell_type": "code",
   "execution_count": null,
   "metadata": {
    "collapsed": true
   },
   "outputs": [],
   "source": []
  }
 ],
 "metadata": {
  "kernelspec": {
   "display_name": "Python 3",
   "language": "python",
   "name": "python3"
  },
  "language_info": {
   "codemirror_mode": {
    "name": "ipython",
    "version": 3
   },
   "file_extension": ".py",
   "mimetype": "text/x-python",
   "name": "python",
   "nbconvert_exporter": "python",
   "pygments_lexer": "ipython3",
   "version": "3.6.3"
  }
 },
 "nbformat": 4,
 "nbformat_minor": 2
}
