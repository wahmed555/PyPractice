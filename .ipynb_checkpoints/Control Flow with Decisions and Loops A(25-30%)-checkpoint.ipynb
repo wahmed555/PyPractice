{
 "cells": [
  {
   "cell_type": "markdown",
   "metadata": {},
   "source": [
    "# Control Flow with Decision & Loops\n",
    "\n",
    "## Python IF, ELSE, ELIF, Nested IF & Switch Case Statement\n",
    "\n",
    "What are Conditional Statements?\n",
    "\n",
    "Conditional Statement in Python perform different computations or actions depending on whether a specific Boolean constraint evaluates to true or false. Conditional statements are handled by IF statements in Python."
   ]
  },
  {
   "cell_type": "code",
   "execution_count": 1,
   "metadata": {},
   "outputs": [
    {
     "name": "stdout",
     "output_type": "stream",
     "text": [
      " x<y don't make irrational decision\n"
     ]
    }
   ],
   "source": [
    "x,y=2,8\n",
    "if x>y:\n",
    "    print(\" Logic don't works x>y \")\n",
    "else:\n",
    "    print(\" x<y don't make irrational decision\")"
   ]
  },
  {
   "cell_type": "code",
   "execution_count": 3,
   "metadata": {},
   "outputs": [
    {
     "name": "stdout",
     "output_type": "stream",
     "text": [
      " x is smaller than y. & its  incorrect\n"
     ]
    }
   ],
   "source": [
    "x,y=8,8\n",
    "if x>y:\n",
    "    print(\" Logic don't works x>y \")\n",
    "else:\n",
    "    print(\" x is smaller than y. & its  incorrect\")"
   ]
  },
  {
   "cell_type": "markdown",
   "metadata": {},
   "source": [
    "### How to use \"elif\" condition"
   ]
  },
  {
   "cell_type": "code",
   "execution_count": 5,
   "metadata": {},
   "outputs": [
    {
     "name": "stdout",
     "output_type": "stream",
     "text": [
      "x and y are equal.\n"
     ]
    }
   ],
   "source": [
    "x,y=8,8\n",
    "if x>y:\n",
    "    print(\" Logic don't works x>y \")\n",
    "elif (x==y):\n",
    "    print(\"x and y are equal.\")\n",
    "else:\n",
    "    print(\" x is smaller than y. & its  incorrect\")"
   ]
  },
  {
   "cell_type": "markdown",
   "metadata": {},
   "source": [
    "###  How to execute conditional statement with minimal code\n",
    "In this step, we will see how we can condense out the conditional statement. Instead of executing code for each condition separately, we can use them with a single code.\n",
    "\n",
    "#### A If B else C"
   ]
  },
  {
   "cell_type": "code",
   "execution_count": 6,
   "metadata": {
    "collapsed": true
   },
   "outputs": [],
   "source": [
    "def main():\n",
    "    x,y=10,8\n",
    "    st=\"x is leass than y\"  if(x<y) else \"x is greater than or equal to y\"\n",
    "    print(st)"
   ]
  },
  {
   "cell_type": "code",
   "execution_count": 7,
   "metadata": {},
   "outputs": [
    {
     "name": "stdout",
     "output_type": "stream",
     "text": [
      "x is greater than or equal to y\n"
     ]
    }
   ],
   "source": [
    "main()"
   ]
  },
  {
   "cell_type": "code",
   "execution_count": 8,
   "metadata": {},
   "outputs": [
    {
     "ename": "SyntaxError",
     "evalue": "invalid syntax (<ipython-input-8-31ac74747898>, line 3)",
     "output_type": "error",
     "traceback": [
      "\u001b[1;36m  File \u001b[1;32m\"<ipython-input-8-31ac74747898>\"\u001b[1;36m, line \u001b[1;32m3\u001b[0m\n\u001b[1;33m    st=\"x is leass than y\"  if(x<y) elif(x==y) \"x is equal to y\" else \"x is greater than or equal to y\"\u001b[0m\n\u001b[1;37m                                       ^\u001b[0m\n\u001b[1;31mSyntaxError\u001b[0m\u001b[1;31m:\u001b[0m invalid syntax\n"
     ]
    }
   ],
   "source": [
    "def main():\n",
    "    x,y=8,8\n",
    "    st=\"x is leass than y\"  if(x<y) elif(x==y) \"x is equal to y\" else \"x is greater than or equal to y\"\n",
    "    print(st)"
   ]
  },
  {
   "cell_type": "markdown",
   "metadata": {},
   "source": [
    "##  2. Nested IF Statement"
   ]
  },
  {
   "cell_type": "code",
   "execution_count": 11,
   "metadata": {},
   "outputs": [
    {
     "name": "stdout",
     "output_type": "stream",
     "text": [
      "shipping charges are 1$\n"
     ]
    }
   ],
   "source": [
    "# state='TX'\n",
    "state= 'DC'\n",
    "shopping=500\n",
    "if (state =='TX'):\n",
    "    if (shopping <=100):\n",
    "        print(\"shipping charges is 50$\")\n",
    "    elif (shopping<=200):\n",
    "        print(\"shipping charges is 25$\")\n",
    "    else:\n",
    "        print(\"shipping charges are 4$\")\n",
    "\n",
    "if (state =='DC'):\n",
    "    if (shopping <=100):\n",
    "        print(\"shipping charges is 10$\")\n",
    "    elif (shopping<=200):\n",
    "        print(\"shipping charges is 5$\")\n",
    "    else:\n",
    "        print(\"shipping charges are 1$\")\n",
    "        \n",
    "\n"
   ]
  },
  {
   "cell_type": "markdown",
   "metadata": {},
   "source": [
    "## 3. Switch Statement\n",
    "\n",
    "What is switch statement?\n",
    "\n",
    "A switch statement is a multiway branch statement that compares the value of a variable to the values specified in case statements.\n",
    "\n",
    "Python language doesn’t have a switch statement.\n",
    "\n",
    "Python uses dictionary mapping to implement switch statement in Python\n",
    "\n",
    "Example"
   ]
  },
  {
   "cell_type": "code",
   "execution_count": 12,
   "metadata": {},
   "outputs": [
    {
     "ename": "SyntaxError",
     "evalue": "invalid syntax (<ipython-input-12-3c03c30e5780>, line 1)",
     "output_type": "error",
     "traceback": [
      "\u001b[1;36m  File \u001b[1;32m\"<ipython-input-12-3c03c30e5780>\"\u001b[1;36m, line \u001b[1;32m1\u001b[0m\n\u001b[1;33m    function(argument){\u001b[0m\n\u001b[1;37m                      ^\u001b[0m\n\u001b[1;31mSyntaxError\u001b[0m\u001b[1;31m:\u001b[0m invalid syntax\n"
     ]
    }
   ],
   "source": [
    "function(argument){\n",
    "    switch(argument) {\n",
    "        case 0:\n",
    "            return \"This is Case Zero\";\n",
    "        case 1:\n",
    "            return \" This is Case One\";\n",
    "        case 2:\n",
    "            return \" This is Case Two \";\n",
    "        default:\n",
    "            return \"nothing\";\n",
    "    };\n",
    "};"
   ]
  },
  {
   "cell_type": "code",
   "execution_count": 13,
   "metadata": {},
   "outputs": [
    {
     "name": "stdout",
     "output_type": "stream",
     "text": [
      " This is Case One \n"
     ]
    }
   ],
   "source": [
    "def SwitchExample(argument):\n",
    "    switcher = {\n",
    "        0: \" This is Case Zero \",\n",
    "        1: \" This is Case One \",\n",
    "        2: \" This is Case Two \",\n",
    "    }\n",
    "    return switcher.get(argument, \"nothing\")\n",
    "\n",
    "\n",
    "if __name__ == \"__main__\":\n",
    "    argument = 1\n",
    "    print (SwitchExample(argument))"
   ]
  },
  {
   "cell_type": "code",
   "execution_count": 17,
   "metadata": {},
   "outputs": [
    {
     "name": "stdout",
     "output_type": "stream",
     "text": [
      " This is Case Two \n"
     ]
    }
   ],
   "source": [
    "def SwitchExample(argument):\n",
    "    switcher = {\n",
    "        0: \" This is Case Zero \",\n",
    "        1: \" This is Case One \",\n",
    "        2: \" This is Case Two \",\n",
    "    }\n",
    "    return switcher.get(argument, \"nothing\")\n",
    "\n",
    "\n",
    "if __name__ == \"__main__\":\n",
    "    argument = 2\n",
    "    print (SwitchExample(argument))"
   ]
  },
  {
   "cell_type": "code",
   "execution_count": 25,
   "metadata": {
    "collapsed": true
   },
   "outputs": [],
   "source": [
    "### dict.get('fdf',\"dfd\")"
   ]
  },
  {
   "cell_type": "code",
   "execution_count": 20,
   "metadata": {},
   "outputs": [],
   "source": [
    "names = {\n",
    "    'Fred': 'Hello Fred',\n",
    "    'Xander': 'Hello Xander',\n",
    "    'Joe': 'Hello Joe',\n",
    "    'Arnold': 'Hello Arnold'\n",
    "    }\n",
    "\n",
    " "
   ]
  },
  {
   "cell_type": "code",
   "execution_count": 21,
   "metadata": {},
   "outputs": [
    {
     "name": "stdout",
     "output_type": "stream",
     "text": [
      "Hello Joe\n"
     ]
    }
   ],
   "source": [
    "print(names.get('Joe', \"I don't know who you are!\"))\n"
   ]
  },
  {
   "cell_type": "code",
   "execution_count": 22,
   "metadata": {},
   "outputs": [
    {
     "name": "stdout",
     "output_type": "stream",
     "text": [
      "I don't know who you are!\n"
     ]
    }
   ],
   "source": [
    "\n",
    "print(names.get('Rick', \"I don't know who you are!\"))\n"
   ]
  },
  {
   "cell_type": "code",
   "execution_count": 23,
   "metadata": {},
   "outputs": [
    {
     "name": "stdout",
     "output_type": "stream",
     "text": [
      "Hello Xander\n"
     ]
    }
   ],
   "source": [
    "print(names.get('Xander',\" I like it\"))"
   ]
  },
  {
   "cell_type": "code",
   "execution_count": 24,
   "metadata": {},
   "outputs": [
    {
     "name": "stdout",
     "output_type": "stream",
     "text": [
      " I like it\n"
     ]
    }
   ],
   "source": [
    "print(names.get('Vander',\" I like it\"))"
   ]
  },
  {
   "cell_type": "code",
   "execution_count": null,
   "metadata": {
    "collapsed": true
   },
   "outputs": [],
   "source": []
  }
 ],
 "metadata": {
  "kernelspec": {
   "display_name": "Python 3",
   "language": "python",
   "name": "python3"
  },
  "language_info": {
   "codemirror_mode": {
    "name": "ipython",
    "version": 3
   },
   "file_extension": ".py",
   "mimetype": "text/x-python",
   "name": "python",
   "nbconvert_exporter": "python",
   "pygments_lexer": "ipython3",
   "version": "3.6.3"
  }
 },
 "nbformat": 4,
 "nbformat_minor": 2
}
