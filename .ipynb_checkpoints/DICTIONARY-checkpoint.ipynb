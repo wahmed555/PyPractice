{
 "cells": [
  {
   "cell_type": "markdown",
   "metadata": {},
   "source": [
    "# Working with Dictionaries"
   ]
  },
  {
   "cell_type": "markdown",
   "metadata": {},
   "source": [
    "A dictionary in Python is a collection of key-value pairs. Each key is connected\n",
    "to a value, and you can use a key to access the value associated with that key.\n",
    "A key’s value can be a number, a string, a list, or even another dictionary.\n",
    "In fact, you can use any object that you can create in Python as a value in a\n",
    "dictionary.\n",
    "In Python, a dictionary is wrapped in braces, {}, with a series of keyvalue\n",
    "pairs inside the braces, as shown in the earlier example:"
   ]
  },
  {
   "cell_type": "code",
   "execution_count": 1,
   "metadata": {
    "collapsed": true
   },
   "outputs": [],
   "source": [
    "alien_0 = {'color': 'green', 'points': 5}"
   ]
  },
  {
   "cell_type": "markdown",
   "metadata": {},
   "source": [
    "###  A.  Accessing Values in a Dictionary"
   ]
  },
  {
   "cell_type": "code",
   "execution_count": 2,
   "metadata": {
    "collapsed": true
   },
   "outputs": [],
   "source": [
    "alien_0={'color':'green'}"
   ]
  },
  {
   "cell_type": "code",
   "execution_count": 3,
   "metadata": {},
   "outputs": [
    {
     "name": "stdout",
     "output_type": "stream",
     "text": [
      "green\n"
     ]
    }
   ],
   "source": [
    "print(alien_0['color'])"
   ]
  },
  {
   "cell_type": "code",
   "execution_count": 4,
   "metadata": {
    "collapsed": true
   },
   "outputs": [],
   "source": [
    "alien_1={'color':'green','points':5}"
   ]
  },
  {
   "cell_type": "code",
   "execution_count": 5,
   "metadata": {},
   "outputs": [
    {
     "name": "stdout",
     "output_type": "stream",
     "text": [
      "5\n"
     ]
    }
   ],
   "source": [
    "print(alien_1['points'])"
   ]
  },
  {
   "cell_type": "code",
   "execution_count": 6,
   "metadata": {},
   "outputs": [
    {
     "name": "stdout",
     "output_type": "stream",
     "text": [
      "You just earned a point 5\n"
     ]
    }
   ],
   "source": [
    "new_point=alien_1['points']\n",
    "print(\"You just earned a point \" + str(new_point))"
   ]
  },
  {
   "cell_type": "markdown",
   "metadata": {},
   "source": [
    "### B. Adding New Key-Value Pairs"
   ]
  },
  {
   "cell_type": "code",
   "execution_count": 7,
   "metadata": {
    "collapsed": true
   },
   "outputs": [],
   "source": [
    "alien_1['Xposition']=22"
   ]
  },
  {
   "cell_type": "code",
   "execution_count": 8,
   "metadata": {
    "collapsed": true
   },
   "outputs": [],
   "source": [
    "alien_1['Yposition']=56"
   ]
  },
  {
   "cell_type": "code",
   "execution_count": 9,
   "metadata": {},
   "outputs": [
    {
     "name": "stdout",
     "output_type": "stream",
     "text": [
      "{'color': 'green', 'points': 5, 'Xposition': 22, 'Yposition': 56}\n"
     ]
    }
   ],
   "source": [
    "print(alien_1)"
   ]
  },
  {
   "cell_type": "markdown",
   "metadata": {},
   "source": [
    "### C. Modifying Values in a Dictionary"
   ]
  },
  {
   "cell_type": "code",
   "execution_count": 12,
   "metadata": {},
   "outputs": [
    {
     "name": "stdout",
     "output_type": "stream",
     "text": [
      "The alien is green.\n"
     ]
    }
   ],
   "source": [
    "alien_0 = {'color': 'green','point':5}\n",
    "print(\"The alien is \" + alien_0['color'] + \".\")"
   ]
  },
  {
   "cell_type": "code",
   "execution_count": 13,
   "metadata": {},
   "outputs": [
    {
     "name": "stdout",
     "output_type": "stream",
     "text": [
      "the alien is now Yellow\n"
     ]
    }
   ],
   "source": [
    "alien_0={'color':'Yellow'}\n",
    "print(\"the alien is now \" + alien_0['color'])"
   ]
  },
  {
   "cell_type": "code",
   "execution_count": 15,
   "metadata": {},
   "outputs": [
    {
     "data": {
      "text/plain": [
       "{'color': 'Yellow'}"
      ]
     },
     "execution_count": 15,
     "metadata": {},
     "output_type": "execute_result"
    }
   ],
   "source": [
    "alien_0"
   ]
  },
  {
   "cell_type": "code",
   "execution_count": 39,
   "metadata": {},
   "outputs": [
    {
     "name": "stdout",
     "output_type": "stream",
     "text": [
      " Original Position: 55\n"
     ]
    }
   ],
   "source": [
    "# Exercise 1\n",
    "alien_2={\"Xposition\": 55, \"Yposition\":43, \"speed\":\"medium\"}\n",
    "print(\" Original Position: \" +str(alien_2['Xposition']))"
   ]
  },
  {
   "cell_type": "code",
   "execution_count": 40,
   "metadata": {},
   "outputs": [],
   "source": [
    "#  Move the Alien to the right\n",
    "# Determine How far the aAlien move based on its current location.\n",
    "if alien_2[\"speed\"]== \"slow\":\n",
    "    x_increment=1\n",
    "elif alien_2[\"speed\"]== \"medium\":\n",
    "    x_increment=5\n",
    "else:\n",
    "    x_increment=10"
   ]
  },
  {
   "cell_type": "code",
   "execution_count": 41,
   "metadata": {
    "collapsed": true
   },
   "outputs": [],
   "source": [
    "# The new position is the old position plus the increment.\n",
    "alien_2[\"Xposition\"]=alien_2[\"Xposition\"] + x_increment "
   ]
  },
  {
   "cell_type": "code",
   "execution_count": 42,
   "metadata": {
    "collapsed": true
   },
   "outputs": [],
   "source": [
    "alien_2['speed']=\"slkow\""
   ]
  },
  {
   "cell_type": "code",
   "execution_count": 43,
   "metadata": {},
   "outputs": [
    {
     "data": {
      "text/plain": [
       "60"
      ]
     },
     "execution_count": 43,
     "metadata": {},
     "output_type": "execute_result"
    }
   ],
   "source": [
    "alien_2[\"Xposition\"]"
   ]
  },
  {
   "cell_type": "markdown",
   "metadata": {},
   "source": [
    "### D. Removing Key-Value Pairs\n",
    "When you no longer need a piece of information that’s stored in a dictionary,\n",
    "you can use the del statement to completely remove a key-value pair.\n",
    "All del needs is the name of the dictionary and the key that you want to\n",
    "remove."
   ]
  },
  {
   "cell_type": "code",
   "execution_count": 44,
   "metadata": {},
   "outputs": [
    {
     "name": "stdout",
     "output_type": "stream",
     "text": [
      "{'color': 'green', 'points': 5}\n"
     ]
    }
   ],
   "source": [
    "alien_0 = {'color': 'green', 'points': 5}\n",
    "print(alien_0)"
   ]
  },
  {
   "cell_type": "code",
   "execution_count": 45,
   "metadata": {
    "collapsed": true
   },
   "outputs": [],
   "source": [
    "del alien_0['points']"
   ]
  },
  {
   "cell_type": "code",
   "execution_count": 46,
   "metadata": {},
   "outputs": [
    {
     "name": "stdout",
     "output_type": "stream",
     "text": [
      "{'color': 'green'}\n"
     ]
    }
   ],
   "source": [
    "print(alien_0)"
   ]
  },
  {
   "cell_type": "markdown",
   "metadata": {},
   "source": [
    "### E.    A Dictionary of Similar Objects\n",
    "You can also use a dictionary to store one\n",
    "kind of information about many objects. For example, say you want to poll a\n",
    "number of people and ask them what their favorite programming language\n",
    "is. A dictionary is useful for storing the results of a simple poll, like this:"
   ]
  },
  {
   "cell_type": "code",
   "execution_count": 47,
   "metadata": {
    "collapsed": true
   },
   "outputs": [],
   "source": [
    "favorite_languages = {\n",
    "'jen': 'python',\n",
    "'sarah': 'c',\n",
    "'edward': 'ruby',\n",
    "'phil': 'python',\n",
    "}"
   ]
  },
  {
   "cell_type": "code",
   "execution_count": 48,
   "metadata": {},
   "outputs": [
    {
     "name": "stdout",
     "output_type": "stream",
     "text": [
      "Sarah's favorite language is c\n"
     ]
    }
   ],
   "source": [
    "print(\"Sarah's favorite language is \" + favorite_languages['sarah'])"
   ]
  },
  {
   "cell_type": "markdown",
   "metadata": {},
   "source": [
    "##  Try It Yourself\n",
    "\n",
    "6-1. Person: Use a dictionary to store information about a person you know.\n",
    "Store their first name, last name, age, and the city in which they live. You\n",
    "should have keys such as first_name, last_name, age, and city. Print each\n",
    "piece of information stored in your dictionary.\n",
    "\n",
    "6-2. Favorite Numbers: Use a dictionary to store people’s favorite numbers.\n",
    "Think of five names, and use them as keys in your dictionary. Think of a favorite\n",
    "number for each person, and store each as a value in your dictionary. Print\n",
    "each person’s name and their favorite number. For even more fun, poll a few\n",
    "friends and get some actual data for your program.\n",
    "\n",
    "\n",
    "6-3. Glossary: A Python dictionary can be used to model an actual dictionary.\n",
    "However, to avoid confusion, let’s call it a glossary.\n",
    "\n",
    "• Think of five programming words you’ve learned about in the previous\n",
    "chapters. Use these words as the keys in your glossary, and store their\n",
    "meanings as values.\n",
    "\n",
    "• Print each word and its meaning as neatly formatted output. You might\n",
    "print the word followed by a colon and then its meaning, or print the word\n",
    "on one line and then print its meaning indented on a second line. Use the\n",
    "newline character (\\n) to insert a blank line between each word-meaning\n",
    "pair in your output."
   ]
  },
  {
   "cell_type": "code",
   "execution_count": 49,
   "metadata": {
    "collapsed": true
   },
   "outputs": [],
   "source": [
    "# 6-1. Person: Use a dictionary to store information about a person you know. Store their first name, last name, age, and the city in which they live. You should have keys such as first_name, last_name, age, and city. Print each piece of information stored in your dictionary.\n",
    "P_data={'first_name':\" Kaleem\", \"last name\":\"ullah\", \"age\":28, \"city\":\"karachi\", \"fav_number\":24}"
   ]
  },
  {
   "cell_type": "code",
   "execution_count": 50,
   "metadata": {},
   "outputs": [
    {
     "data": {
      "text/plain": [
       "' Kaleem'"
      ]
     },
     "execution_count": 50,
     "metadata": {},
     "output_type": "execute_result"
    }
   ],
   "source": [
    "P_data['first_name']"
   ]
  },
  {
   "cell_type": "code",
   "execution_count": 51,
   "metadata": {
    "collapsed": true
   },
   "outputs": [],
   "source": [
    "# 6-2. Favorite Numbers: Use a dictionary to store people’s favorite numbers. Think of five names, and use them as keys in your dictionary. Think of a favorite number for each person, and store each as a value in your dictionary. Print each person’s name and their favorite number. For even more fun, poll a few friends and get some actual data for your program.\n",
    "f_data={\"Kaleem\":23,\"gayass\":28, \"faraz\":55,\"hamza\":45,\"qasim\":98}\n",
    "       "
   ]
  },
  {
   "cell_type": "code",
   "execution_count": 53,
   "metadata": {},
   "outputs": [
    {
     "name": "stdout",
     "output_type": "stream",
     "text": [
      "dict_items([('Kaleem', 23), ('gayass', 28), ('faraz', 55), ('hamza', 45), ('qasim', 98)])\n"
     ]
    }
   ],
   "source": [
    "\n",
    "\n",
    "print(f_data.items())"
   ]
  },
  {
   "cell_type": "markdown",
   "metadata": {},
   "source": [
    " 6-3. Glossary: A Python dictionary can be used to model an actual dictionary. However, to avoid confusion, let’s call it a glossary.\n",
    "\n",
    "• Think of five programming words you’ve learned about in the previous chapters. Use these words as the keys in your glossary, and store their meanings as values.\n",
    "\n",
    "• Print each word and its meaning as neatly formatted output. You might print the word followed by a colon and then its meaning, or print the word on one line and then print its meaning indented on a second line. Use the newline character (\\n) to insert a blank line between each word-meaning pair in your output."
   ]
  },
  {
   "cell_type": "code",
   "execution_count": 54,
   "metadata": {
    "collapsed": true
   },
   "outputs": [],
   "source": [
    "glossary={\"epoch\":\"no of tries\",\n",
    "         \"wrangling\":\"transforming data\",\n",
    "         \"correlation\":\"measure of relationship\",\n",
    "         \"regularization\":\"method to avoid\",\n",
    "         \"temporal_leak\":\"leak in data\"}"
   ]
  },
  {
   "cell_type": "code",
   "execution_count": 55,
   "metadata": {},
   "outputs": [
    {
     "name": "stdout",
     "output_type": "stream",
     "text": [
      "epoch:\n",
      "no of tries\n",
      "wrangling:\n",
      "transforming data\n",
      "correlation:\n",
      "measure of relationship\n",
      "regularization:\n",
      "method to avoid\n",
      "temporal_leak:\n",
      "leak in data\n"
     ]
    }
   ],
   "source": [
    "\n",
    "for key, value in glossary.items():\n",
    "    print(key +\":\\n\" + value)"
   ]
  },
  {
   "cell_type": "markdown",
   "metadata": {},
   "source": [
    "### F. Looping Through a Dictionary\n",
    "A single Python dictionary can contain just a few key-value pairs or millions\n",
    "of pairs. Because a dictionary can contain large amounts of data, Python lets\n",
    "you loop through a dictionary. Dictionaries can be used to store information\n",
    "in a variety of ways; therefore, several different ways exist to loop through\n",
    "them. You can loop through all of a dictionary’s key-value pairs, through its\n",
    "keys, or through its values."
   ]
  },
  {
   "cell_type": "markdown",
   "metadata": {},
   "source": [
    "#### i) Looping Through All Key-Value Pairs"
   ]
  },
  {
   "cell_type": "code",
   "execution_count": 56,
   "metadata": {
    "collapsed": true
   },
   "outputs": [],
   "source": [
    "user_0 = {\n",
    "'username': 'efermi',\n",
    "'first': 'enrico',\n",
    "'last': 'fermi',\n",
    "}"
   ]
  },
  {
   "cell_type": "code",
   "execution_count": 57,
   "metadata": {},
   "outputs": [
    {
     "name": "stdout",
     "output_type": "stream",
     "text": [
      "\n",
      "key: username\n",
      "\n",
      "Value: efermi\n",
      "\n",
      "key: first\n",
      "\n",
      "Value: enrico\n",
      "\n",
      "key: last\n",
      "\n",
      "Value: fermi\n"
     ]
    }
   ],
   "source": [
    "for key,value in user_0.items():\n",
    "    print(\"\\nkey: \"+ key)\n",
    "    print(\"\\nValue: \"+ value)"
   ]
  },
  {
   "cell_type": "code",
   "execution_count": 58,
   "metadata": {},
   "outputs": [
    {
     "name": "stdout",
     "output_type": "stream",
     "text": [
      "\n",
      "key : username\n",
      "value : efermi\n",
      "\n",
      "key : first\n",
      "value : enrico\n",
      "\n",
      "key : last\n",
      "value : fermi\n"
     ]
    }
   ],
   "source": [
    "#  method2:\n",
    "for k,v in user_0.items():\n",
    "    print(\"\\nkey : \"+k)\n",
    "    print(\"value : \"+ v)"
   ]
  },
  {
   "cell_type": "code",
   "execution_count": null,
   "metadata": {
    "collapsed": true
   },
   "outputs": [],
   "source": []
  },
  {
   "cell_type": "code",
   "execution_count": 59,
   "metadata": {
    "collapsed": true
   },
   "outputs": [],
   "source": [
    "favorite_languages = {\n",
    "'jen': 'python',\n",
    "'sarah': 'c',\n",
    "'edward': 'ruby',\n",
    "'phil': 'python',\n",
    "}"
   ]
  },
  {
   "cell_type": "code",
   "execution_count": 63,
   "metadata": {},
   "outputs": [
    {
     "name": "stdout",
     "output_type": "stream",
     "text": [
      "Jen's favourite language is Python\n",
      "Sarah's favourite language is C\n",
      "Edward's favourite language is Ruby\n",
      "Phil's favourite language is Python\n"
     ]
    }
   ],
   "source": [
    "for name,language in favorite_languages.items():\n",
    "    print(name.title() + \"'s favourite language is \"+ language.title() )"
   ]
  },
  {
   "cell_type": "markdown",
   "metadata": {},
   "source": [
    "#### ii)Looping Through All the Keys in a Dictionary"
   ]
  },
  {
   "cell_type": "code",
   "execution_count": 64,
   "metadata": {
    "collapsed": true
   },
   "outputs": [],
   "source": [
    "favorite_languages = {\n",
    "'jen': 'python',\n",
    "'sarah': 'c',\n",
    "'edward': 'ruby',\n",
    "'phil': 'python',\n",
    "}"
   ]
  },
  {
   "cell_type": "code",
   "execution_count": 66,
   "metadata": {},
   "outputs": [
    {
     "name": "stdout",
     "output_type": "stream",
     "text": [
      "Jen\n",
      "Sarah\n",
      "Edward\n",
      "Phil\n"
     ]
    }
   ],
   "source": [
    "for name in favorite_languages.keys():\n",
    "    print(name.title())"
   ]
  },
  {
   "cell_type": "code",
   "execution_count": null,
   "metadata": {
    "collapsed": true
   },
   "outputs": [],
   "source": []
  },
  {
   "cell_type": "code",
   "execution_count": 67,
   "metadata": {
    "collapsed": true
   },
   "outputs": [],
   "source": [
    "favorite_languages = {\n",
    "'jen': 'python',\n",
    "'sarah': 'c',\n",
    "'edward': 'ruby',\n",
    "'phil': 'python',\n",
    "}"
   ]
  },
  {
   "cell_type": "code",
   "execution_count": 61,
   "metadata": {
    "collapsed": true
   },
   "outputs": [],
   "source": [
    "friends=['phil','sarah']"
   ]
  },
  {
   "cell_type": "code",
   "execution_count": 62,
   "metadata": {},
   "outputs": [
    {
     "name": "stdout",
     "output_type": "stream",
     "text": [
      "Jen\n",
      "Sarah\n",
      "Hi Sarah, I see your favorite language is C.\n",
      "Edward\n",
      "Phil\n",
      "Hi Phil, I see your favorite language is Python.\n"
     ]
    }
   ],
   "source": [
    "for name in favorite_languages.keys():\n",
    "    print(name.title())\n",
    "    \n",
    "    if name in friends:\n",
    "        print(\"Hi \" + name.title() + \", I see your favorite language is \" + favorite_languages[name].title()+ \".\")"
   ]
  },
  {
   "cell_type": "markdown",
   "metadata": {},
   "source": [
    "##### You can also use the keys() method to find out if a particular person was polled. This time, let’s find out if Erin took the poll:"
   ]
  },
  {
   "cell_type": "code",
   "execution_count": 71,
   "metadata": {
    "collapsed": true
   },
   "outputs": [],
   "source": [
    "favorite_languages = {\n",
    "'jen': 'python',\n",
    "'sarah': 'c',\n",
    "'edward': 'ruby',\n",
    "'phil': 'python',\n",
    "}"
   ]
  },
  {
   "cell_type": "code",
   "execution_count": 72,
   "metadata": {},
   "outputs": [
    {
     "name": "stdout",
     "output_type": "stream",
     "text": [
      "Erin, please take our poll!\n"
     ]
    }
   ],
   "source": [
    "if 'erin' not in favorite_languages.keys():\n",
    "    print(\"Erin, please take our poll!\")"
   ]
  },
  {
   "cell_type": "markdown",
   "metadata": {},
   "source": [
    "#### iii) Looping Through a Dictionary’s Keys in Order"
   ]
  },
  {
   "cell_type": "code",
   "execution_count": 73,
   "metadata": {
    "collapsed": true
   },
   "outputs": [],
   "source": [
    "favorite_languages = {\n",
    "'jen': 'python',\n",
    "'sarah': 'c',\n",
    "'edward': 'ruby',\n",
    "'phil': 'python',\n",
    "}"
   ]
  },
  {
   "cell_type": "code",
   "execution_count": 83,
   "metadata": {},
   "outputs": [
    {
     "name": "stdout",
     "output_type": "stream",
     "text": [
      "Edward Thanks for taking poll\n",
      "Jen Thanks for taking poll\n",
      "Phil Thanks for taking poll\n",
      "Sarah Thanks for taking poll\n"
     ]
    }
   ],
   "source": [
    "for name in sorted(favorite_languages.keys()):\n",
    "    print(name.title() + \" Thanks for taking poll\")"
   ]
  },
  {
   "cell_type": "markdown",
   "metadata": {},
   "source": [
    "#### iv) Looping Through All Values in a Dictionary\n",
    "If you are primarily interested in the values that a dictionary contains,\n",
    "you can use the values() method to return a list of values without any keys.\n",
    "For example, say we simply want a list of all languages chosen in our programming\n",
    "language poll without the name of the person who chose each\n",
    "language:"
   ]
  },
  {
   "cell_type": "code",
   "execution_count": 84,
   "metadata": {
    "collapsed": true
   },
   "outputs": [],
   "source": [
    "favorite_languages = {\n",
    "'jen': 'python',\n",
    "'sarah': 'c',\n",
    "'edward': 'ruby',\n",
    "'phil': 'python',\n",
    "}"
   ]
  },
  {
   "cell_type": "code",
   "execution_count": 85,
   "metadata": {},
   "outputs": [
    {
     "name": "stdout",
     "output_type": "stream",
     "text": [
      "python\n",
      "c\n",
      "ruby\n",
      "python\n"
     ]
    }
   ],
   "source": [
    "for language in favorite_languages.values():\n",
    "    print(language)"
   ]
  },
  {
   "cell_type": "markdown",
   "metadata": {},
   "source": [
    "This approach pulls all the values from the dictionary without checking\n",
    "for repeats. That might work fine with a small number of values, but in a\n",
    "poll with a large number of respondents, this would result in a very repetitive\n",
    "list."
   ]
  },
  {
   "cell_type": "markdown",
   "metadata": {},
   "source": [
    "To see each language chosen without repetition, we can use a set.\n",
    "A set is similar to a list except that each item in the set must be unique:"
   ]
  },
  {
   "cell_type": "code",
   "execution_count": 90,
   "metadata": {
    "collapsed": true
   },
   "outputs": [],
   "source": [
    "favorite_languages = {\n",
    "'jen': 'python',\n",
    "'sarah': 'c',\n",
    "'edward': 'ruby',\n",
    "'phil': 'python',\n",
    "}"
   ]
  },
  {
   "cell_type": "code",
   "execution_count": 91,
   "metadata": {},
   "outputs": [
    {
     "name": "stdout",
     "output_type": "stream",
     "text": [
      "python\n",
      "c\n",
      "ruby\n"
     ]
    }
   ],
   "source": [
    "for language in set(favorite_languages.values()):\n",
    "    print(language)"
   ]
  },
  {
   "cell_type": "markdown",
   "metadata": {},
   "source": [
    "## Try It Yourself\n",
    "\n",
    "6-4. Glossary 2: Now that you know how to loop through a dictionary, clean\n",
    "up the code from Exercise 6-3 (page 102) by replacing your series of print\n",
    "statements with a loop that runs through the dictionary’s keys and values.\n",
    "When you’re sure that your loop works, add five more Python terms to your\n",
    "glossary. When you run your program again, these new words and meanings\n",
    "should automatically be included in the output.\n",
    "\n",
    "\n",
    "6-5. Rivers: Make a dictionary containing three major rivers and the country\n",
    "each river runs through. One key-value pair might be 'nile': 'egypt'.\n",
    "\n",
    "\n",
    "• Use a loop to print a sentence about each river, such as The Nile runs\n",
    "through Egypt.\n",
    "\n",
    "\n",
    "• Use a loop to print the name of each river included in the dictionary.\n",
    "\n",
    "\n",
    "• Use a loop to print the name of each country included in the dictionary.\n",
    "\n",
    "\n",
    "6-6. Polling: Use the code in favorite_languages.py (page 104).\n",
    "\n",
    "\n",
    "• Make a list of people who should take the favorite languages poll. Include\n",
    "some names that are already in the dictionary and some that are not.\n",
    "\n",
    "\n",
    "• Loop through the list of people who should take the poll. If they have\n",
    "already taken the poll, print a message thanking them for responding.\n",
    "If they have not yet taken the poll, print a message inviting them to take\n",
    "the poll."
   ]
  },
  {
   "cell_type": "code",
   "execution_count": 95,
   "metadata": {},
   "outputs": [
    {
     "name": "stdout",
     "output_type": "stream",
     "text": [
      "epoch no of tries\n",
      "wrangling transforming data\n",
      "correlation measure of relationship\n",
      "regularization method to avoid\n",
      "temporal_leak leak in data\n"
     ]
    }
   ],
   "source": [
    "# 6-4. Glossary 2: Now that you know how to loop through a dictionary, clean up the code from Exercise 6-3 (page 102) by replacing your series of print statements with a loop that runs through the dictionary’s keys and values. When you’re sure that your loop works, add five more Python terms to your glossary. When you run your program again, these new words and meanings should automatically be included in the output.\n",
    "    \n",
    "glossary={\"epoch\":\"no of tries\",\n",
    "         \"wrangling\":\"transforming data\",\n",
    "         \"correlation\":\"measure of relationship\",\n",
    "         \"regularization\":\"method to avoid\",\n",
    "         \"temporal_leak\":\"leak in data\"}\n",
    "for  k,v in glossary.items():\n",
    "    print(k,v)"
   ]
  },
  {
   "cell_type": "code",
   "execution_count": 96,
   "metadata": {
    "collapsed": true
   },
   "outputs": [],
   "source": [
    "# 6-5. Rivers: Make a dictionary containing three major rivers and the country each river runs through. One key-value pair might be 'nile': 'egypt'.\n",
    "\n",
    "=# • Use a loop to print a sentence about each river, such as The Nile runs through Egypt.\n",
    "\n",
    "# • Use a loop to print the name of each river included in the dictionary.\n",
    "\n",
    "# • Use a loop to print the name of each country included in the dictionary.\n"
   ]
  },
  {
   "cell_type": "code",
   "execution_count": 97,
   "metadata": {
    "collapsed": true
   },
   "outputs": [],
   "source": [
    "River={\"nile\":\"egypt\",\"indus\":\"pakistan\",\"amazon\":\"US\"}"
   ]
  },
  {
   "cell_type": "code",
   "execution_count": 100,
   "metadata": {},
   "outputs": [
    {
     "name": "stdout",
     "output_type": "stream",
     "text": [
      "The Nile runs  through Egypt\n",
      "The Indus runs  through Pakistan\n",
      "The Amazon runs  through Us\n"
     ]
    }
   ],
   "source": [
    "# • Use a loop to print a sentence about each river, such as The Nile runs through Egypt.\n",
    "for k,v in River.items():\n",
    "    print(\"The \" + k.title() + \" runs  through \" + v.title())"
   ]
  },
  {
   "cell_type": "code",
   "execution_count": 104,
   "metadata": {},
   "outputs": [
    {
     "name": "stdout",
     "output_type": "stream",
     "text": [
      "nile\n",
      "indus\n",
      "amazon\n"
     ]
    }
   ],
   "source": [
    "# • Use a loop to print the name of each river included in the dictionary.\n",
    "for k in River.keys():\n",
    "    print( k )"
   ]
  },
  {
   "cell_type": "code",
   "execution_count": 105,
   "metadata": {},
   "outputs": [
    {
     "name": "stdout",
     "output_type": "stream",
     "text": [
      "egypt\n",
      "pakistan\n",
      "US\n"
     ]
    }
   ],
   "source": [
    "# • Use a loop to print the name of each country included in the dictionary.\n",
    "# • Use a loop to print the name of each river included in the dictionary.\n",
    "for v in River.values():\n",
    "    print( v )"
   ]
  },
  {
   "cell_type": "code",
   "execution_count": 107,
   "metadata": {},
   "outputs": [],
   "source": [
    "# 6-6. Polling: Use the code in favorite_languages.py (page 104).\n",
    "\n",
    "# • Make a list of people who should take the favorite languages poll. Include some names that are already in the dictionary and some that are not.\n",
    "\n",
    "# • Loop through the list of people who should take the poll. If they have already taken the poll, print a message thanking them for responding. If they have not yet taken the poll, print a message inviting them to take the poll.\n",
    "\n",
    "favorite_languages = {\n",
    "'jen': 'python',\n",
    "'sarah': 'c',\n",
    "'edward': 'ruby',\n",
    "'phil': 'python',\n",
    "}\n",
    "l1=['jen', 'edward','ali']"
   ]
  },
  {
   "cell_type": "code",
   "execution_count": 111,
   "metadata": {},
   "outputs": [
    {
     "name": "stdout",
     "output_type": "stream",
     "text": [
      "Thank you for taking polljen\n",
      "Thank you for taking polledward\n",
      "ali  you should take a poll . invited\n"
     ]
    }
   ],
   "source": [
    "\n",
    "for i in l1:\n",
    "    if i in favorite_languages.keys():\n",
    "        print(\"Thank you for taking poll\" +i )\n",
    "    else:\n",
    "        print(i +\"  you should take a poll . invited\")\n",
    "    "
   ]
  },
  {
   "cell_type": "markdown",
   "metadata": {},
   "source": [
    "## G. Nesting Dictionary\n",
    "Sometimes you’ll want to store a set of dictionaries in a list or a list of\n",
    "items as a value in a dictionary. This is called nesting. You can nest a set\n",
    "of dictionaries inside a list, a list of items inside a dictionary, or even a\n",
    "dictionary inside another dictionary. Nesting is a powerful feature, as the\n",
    "following examples will demonstrate."
   ]
  },
  {
   "cell_type": "markdown",
   "metadata": {},
   "source": [
    "#### i) A List of Dictionaries\n",
    "The alien_0 dictionary contains a variety of information about one alien,\n",
    "but it has no room to store information about a second alien, much less a\n",
    "screen full of aliens. How can you manage a fleet of aliens? One way is to\n",
    "make a list of aliens in which each alien is a dictionary of information about\n",
    "that alien. For example, the following code builds a list of three aliens:"
   ]
  },
  {
   "cell_type": "code",
   "execution_count": 112,
   "metadata": {},
   "outputs": [
    {
     "name": "stdout",
     "output_type": "stream",
     "text": [
      "{'color': 'green', 'points': 5}\n",
      "{'color': 'yellow', 'points': 10}\n",
      "{'color': 'red', 'points': 15}\n"
     ]
    }
   ],
   "source": [
    "alien_0 = {'color': 'green', 'points': 5}\n",
    "alien_1 = {'color': 'yellow', 'points': 10}\n",
    "alien_2 = {'color': 'red', 'points': 15}\n",
    "aliens=[alien_0,alien_1,alien_2]\n",
    "for alien in aliens:\n",
    "    print(alien)"
   ]
  },
  {
   "cell_type": "code",
   "execution_count": 115,
   "metadata": {
    "collapsed": true
   },
   "outputs": [],
   "source": [
    "# Make 30 green aliens.\n",
    "\n",
    "# Make an empty list for storing aliens.\n",
    "aliens = []\n",
    "# Make 30 green aliens.\n",
    "for alien_number in range(0,30):\n",
    "    new_alien = {'color': 'green', 'points': 5, 'speed': 'slow'}\n",
    "    aliens.append(new_alien)"
   ]
  },
  {
   "cell_type": "code",
   "execution_count": 119,
   "metadata": {},
   "outputs": [],
   "source": [
    "for alien in aliens[0:3]:\n",
    "    if alien['color']==\"green\":\n",
    "        alien['color'] = 'yellow'\n",
    "        alien['speed'] = 'medium'\n",
    "        alien['points'] = 10"
   ]
  },
  {
   "cell_type": "code",
   "execution_count": 120,
   "metadata": {},
   "outputs": [
    {
     "name": "stdout",
     "output_type": "stream",
     "text": [
      "{'color': 'yellow', 'points': 10, 'speed': 'medium'}\n",
      "{'color': 'yellow', 'points': 10, 'speed': 'medium'}\n",
      "{'color': 'yellow', 'points': 10, 'speed': 'medium'}\n",
      "{'color': 'green', 'points': 5, 'speed': 'slow'}\n",
      "{'color': 'green', 'points': 5, 'speed': 'slow'}\n"
     ]
    }
   ],
   "source": [
    "for alien in aliens[0:5]:\n",
    "    print(alien)"
   ]
  },
  {
   "cell_type": "markdown",
   "metadata": {},
   "source": [
    "##### ii) A List in a Dictionary\n",
    "\n",
    "You can nest a list inside a dictionary any time you want more than\n",
    "one value to be associated with a single key in a dictionary.\n",
    "\n",
    "Rather than putting a dictionary inside a list, it’s sometimes useful to put\n",
    "a list inside a dictionary. For example, consider how you might describe a\n",
    "pizza that someone is ordering. If you were to use only a list, all you could\n",
    "really store is a list of the pizza’s toppings. With a dictionary, a list of toppings\n",
    "can be just one aspect of the pizza you’re describing.\n",
    "\n",
    "\n",
    "In the following example, two kinds of information are stored for each\n",
    "pizza: a type of crust and a list of toppings. The list of toppings is a value\n",
    "associated with the key 'toppings'. To use the items in the list, we give the\n",
    "name of the dictionary and the key 'toppings', as we would any value in the\n",
    "dictionary. Instead of returning a single value, we get a list of toppings:"
   ]
  },
  {
   "cell_type": "code",
   "execution_count": 122,
   "metadata": {},
   "outputs": [],
   "source": [
    "# Store information about a pizza being ordered.\n",
    "pizza = {\n",
    "'crust': 'thick',\n",
    "'toppings': ['mushrooms', 'extra cheese'],\n",
    "}"
   ]
  },
  {
   "cell_type": "code",
   "execution_count": 128,
   "metadata": {},
   "outputs": [
    {
     "name": "stdout",
     "output_type": "stream",
     "text": [
      " you ordered a pizza thick with pizza topping\n",
      "mushrooms\n",
      "extra cheese\n"
     ]
    }
   ],
   "source": [
    "# Summarize the order.\n",
    "\n",
    "print(\" you ordered a pizza \" + pizza['crust'] + \" with pizza topping\")\n",
    "\n",
    "for topping in pizza['toppings']:\n",
    "    print(topping)"
   ]
  },
  {
   "cell_type": "markdown",
   "metadata": {},
   "source": [
    "You can nest a list inside a dictionary any time you want more than\n",
    "one value to be associated with a single key in a dictionary. In the earlier\n",
    "example of favorite programming languages, if we were to store each\n",
    "person’s responses in a list, people could choose more than one favorite\n",
    "language. When we loop through the dictionary, the value associated with\n",
    "each person would be a list of languages rather than a single language.\n",
    "Inside the dictionary’s for loop, we use another for loop to run through\n",
    "the list of languages associated with each person:"
   ]
  },
  {
   "cell_type": "code",
   "execution_count": 131,
   "metadata": {},
   "outputs": [
    {
     "name": "stdout",
     "output_type": "stream",
     "text": [
      "Jen fav_ language are\n",
      "\tpython\n",
      "\truby\n",
      "Sarah fav_ language are\n",
      "\tc\n",
      "Edward fav_ language are\n",
      "\truby\n",
      "\tgo\n",
      "Phil fav_ language are\n",
      "\tpython\n",
      "\thaskell\n"
     ]
    }
   ],
   "source": [
    "favorite_languages = {\n",
    "'jen': ['python', 'ruby'],\n",
    "'sarah': ['c'],\n",
    "'edward': ['ruby', 'go'],\n",
    "'phil': ['python', 'haskell'],\n",
    "}\n",
    "for name, languages in favorite_languages.items():\n",
    "    print(name.title() +\" fav_ language are\")\n",
    "    for language in languages:\n",
    "        print(\"\\t\" +language)"
   ]
  },
  {
   "cell_type": "markdown",
   "metadata": {},
   "source": [
    "-----------x-----------"
   ]
  },
  {
   "cell_type": "code",
   "execution_count": null,
   "metadata": {
    "collapsed": true
   },
   "outputs": [],
   "source": [
    "You should not nest lists and dictionaries too deeply. If you’re nesting items much\n",
    "deeper than what you see in the preceding examples or you’re working with someone\n",
    "else’s code with significant levels of nesting, most likely a simpler way to solve the\n",
    "problem exists."
   ]
  },
  {
   "cell_type": "code",
   "execution_count": null,
   "metadata": {
    "collapsed": true
   },
   "outputs": [],
   "source": []
  },
  {
   "cell_type": "markdown",
   "metadata": {},
   "source": [
    "#### iii) A Dictionary in a Dictionary\n",
    "You can nest a dictionary inside another dictionary, but your code can get\n",
    "complicated quickly when you do. For example, if you have several users\n",
    "for a website, each with a unique username, you can use the usernames as\n",
    "the keys in a dictionary. You can then store information about each user by\n",
    "using a dictionary as the value associated with their username. In the following\n",
    "listing, we store three pieces of information about each user: their\n",
    "first name, last name, and location. We’ll access this information by looping\n",
    "through the usernames and the dictionary of information associated with\n",
    "each username"
   ]
  },
  {
   "cell_type": "code",
   "execution_count": 137,
   "metadata": {},
   "outputs": [],
   "source": [
    "user={\"einstine\":{'first':'albert','last':'einstine','location':'princeton',},\n",
    "     \"mcurie\":{'first':'marie','last':'curie','location':'paris'}}"
   ]
  },
  {
   "cell_type": "code",
   "execution_count": 140,
   "metadata": {},
   "outputs": [
    {
     "name": "stdout",
     "output_type": "stream",
     "text": [
      "\n",
      " Username: einstine\n",
      "\tFull name: AlbertEinstine\n",
      "\tLocation: Princeton\n",
      "\n",
      " Username: mcurie\n",
      "\tFull name: MarieCurie\n",
      "\tLocation: Paris\n"
     ]
    }
   ],
   "source": [
    "for k,v in user.items():\n",
    "    print(\"\\n Username: \" + k)\n",
    "    fname=v['first']\n",
    "    lname=v['last']\n",
    "    lcation=v['location']\n",
    "    print(\"\\tFull name: \" + fname.title()+lname.title())\n",
    "    print(\"\\tLocation: \" + lcation.title())"
   ]
  },
  {
   "cell_type": "markdown",
   "metadata": {},
   "source": [
    "## Try It Yourself\n",
    "6-7. People: Start with the program you wrote for Exercise 6-1 (page 102).\n",
    "Make two new dictionaries representing different people, and store all three\n",
    "dictionaries in a list called people. Loop through your list of people. As you\n",
    "loop through the list, print everything you know about each person."
   ]
  },
  {
   "cell_type": "code",
   "execution_count": 147,
   "metadata": {},
   "outputs": [],
   "source": [
    "people=[{'first_name':\" Kaleem\", \"last name\":\"ullah\", \"age\":28, \"city\":\"karachi\", \"fav_number\":24},\n",
    "    {'first_name':\" khurram\", \"last name\":\"aftab\", \"age\":24, \"city\":\"lahore\", \"fav_number\":1},\n",
    "    {'first_name':\" Abida\", \"last name\":\"imam\", \"age\":60, \"city\":\"islamabad\", \"fav_number\":99}]"
   ]
  },
  {
   "cell_type": "code",
   "execution_count": 148,
   "metadata": {},
   "outputs": [
    {
     "name": "stdout",
     "output_type": "stream",
     "text": [
      "{'first_name': ' Kaleem', 'last name': 'ullah', 'age': 28, 'city': 'karachi', 'fav_number': 24}\n",
      "{'first_name': ' khurram', 'last name': 'aftab', 'age': 24, 'city': 'lahore', 'fav_number': 1}\n",
      "{'first_name': ' Abida', 'last name': 'imam', 'age': 60, 'city': 'islamabad', 'fav_number': 99}\n"
     ]
    }
   ],
   "source": [
    "for p in people:\n",
    "    print (p)"
   ]
  },
  {
   "cell_type": "code",
   "execution_count": 149,
   "metadata": {
    "collapsed": true
   },
   "outputs": [],
   "source": [
    "# 6-8. Pets: Make several dictionaries, where the name of each dictionary is the\n",
    "# name of a pet. In each dictionary, include the kind of animal and the owner’s\n",
    "# name. Store these dictionaries in a list called pets. Next, loop through your list\n",
    "# and as you do print everything you know about each pet.\n",
    "\n",
    "pets=[{\"name\":\"elephant\", \"kind\":\"mamal\", \"owner\":\"raheem\"},\n",
    "      {\"name\":\"tiger\", \"kind\":\"reptial\", \"owner\":\"gayass\"},\n",
    "      {\"name\":\"ant\", \"kind\":\"insect\", \"owner\":\"farukh\"}]"
   ]
  },
  {
   "cell_type": "code",
   "execution_count": 150,
   "metadata": {},
   "outputs": [
    {
     "name": "stdout",
     "output_type": "stream",
     "text": [
      "{'name': 'elephant', 'kind': 'mamal', 'owner': 'raheem'}\n",
      "{'name': 'tiger', 'kind': 'reptial', 'owner': 'gayass'}\n",
      "{'name': 'ant', 'kind': 'insect', 'owner': 'farukh'}\n"
     ]
    }
   ],
   "source": [
    "for v in pets:\n",
    "    print(v)"
   ]
  },
  {
   "cell_type": "code",
   "execution_count": 152,
   "metadata": {},
   "outputs": [
    {
     "name": "stdout",
     "output_type": "stream",
     "text": [
      "ali ['phuket', 'jeddah']\n",
      "qasim ['islambad']\n",
      "malik ['toronto', 'melbourne', 'singapore']\n"
     ]
    }
   ],
   "source": [
    "# 6-9. Favorite Places: Make a dictionary called favorite_places. Think of three\n",
    "# names to use as keys in the dictionary, and store one to three favorite places\n",
    "# for each person. To make this exercise a bit more interesting, ask some friends\n",
    "# to name a few of their favorite places. Loop through the dictionary, and print\n",
    "# each person’s name and their favorite place.\n",
    "\n",
    "favorite_places={\"ali\":['phuket','jeddah'],\n",
    "                 \"qasim\":['islambad'],\n",
    "                 \"malik\":['toronto','melbourne', 'singapore']}\n",
    "for k,v in favorite_places.items():\n",
    "    print(k,v)"
   ]
  },
  {
   "cell_type": "code",
   "execution_count": 155,
   "metadata": {},
   "outputs": [
    {
     "name": "stdout",
     "output_type": "stream",
     "text": [
      "toronto\n",
      "melbourne\n",
      "singapore\n"
     ]
    }
   ],
   "source": [
    "for places in favorite_places['malik']:\n",
    "    print(places)"
   ]
  },
  {
   "cell_type": "code",
   "execution_count": 156,
   "metadata": {},
   "outputs": [
    {
     "ename": "SyntaxError",
     "evalue": "invalid syntax (<ipython-input-156-4a563dcf4d29>, line 1)",
     "output_type": "error",
     "traceback": [
      "\u001b[1;36m  File \u001b[1;32m\"<ipython-input-156-4a563dcf4d29>\"\u001b[1;36m, line \u001b[1;32m1\u001b[0m\n\u001b[1;33m    6-10. Favorite Numbers: Modify your program from Exercise 6-2 (page 102) so\u001b[0m\n\u001b[1;37m                 ^\u001b[0m\n\u001b[1;31mSyntaxError\u001b[0m\u001b[1;31m:\u001b[0m invalid syntax\n"
     ]
    }
   ],
   "source": [
    "6-10. Favorite Numbers: Modify your program from Exercise 6-2 (page 102) so\n",
    "each person can have more than one favorite number. Then print each person’s\n",
    "name along with their favorite numbers."
   ]
  },
  {
   "cell_type": "code",
   "execution_count": 157,
   "metadata": {},
   "outputs": [
    {
     "ename": "SyntaxError",
     "evalue": "invalid syntax (<ipython-input-157-f0d576787f00>, line 1)",
     "output_type": "error",
     "traceback": [
      "\u001b[1;36m  File \u001b[1;32m\"<ipython-input-157-f0d576787f00>\"\u001b[1;36m, line \u001b[1;32m1\u001b[0m\n\u001b[1;33m    6-11. Cities: Make a dictionary called cities. Use the names of three cities as\u001b[0m\n\u001b[1;37m               ^\u001b[0m\n\u001b[1;31mSyntaxError\u001b[0m\u001b[1;31m:\u001b[0m invalid syntax\n"
     ]
    }
   ],
   "source": [
    "6-11. Cities: Make a dictionary called cities. Use the names of three cities as\n",
    "keys in your dictionary. Create a dictionary of information about each city and\n",
    "include the country that the city is in, its approximate population, and one fact\n",
    "about that city. The keys for each city’s dictionary should be something like\n",
    "country, population, and fact. Print the name of each city and all of the information\n",
    "you have stored about it."
   ]
  },
  {
   "cell_type": "code",
   "execution_count": 158,
   "metadata": {},
   "outputs": [
    {
     "ename": "SyntaxError",
     "evalue": "invalid syntax (<ipython-input-158-88655d43d179>, line 1)",
     "output_type": "error",
     "traceback": [
      "\u001b[1;36m  File \u001b[1;32m\"<ipython-input-158-88655d43d179>\"\u001b[1;36m, line \u001b[1;32m1\u001b[0m\n\u001b[1;33m    6-12. Extensions: We’re now working with examples that are complex enough\u001b[0m\n\u001b[1;37m                   ^\u001b[0m\n\u001b[1;31mSyntaxError\u001b[0m\u001b[1;31m:\u001b[0m invalid syntax\n"
     ]
    }
   ],
   "source": [
    "6-12. Extensions: We’re now working with examples that are complex enough\n",
    "that they can be extended in any number of ways. Use one of the example programs\n",
    "from this chapter, and extend it by adding new keys and values, changing\n",
    "the context of the program or improving the formatting of the output."
   ]
  },
  {
   "cell_type": "code",
   "execution_count": null,
   "metadata": {
    "collapsed": true
   },
   "outputs": [],
   "source": []
  }
 ],
 "metadata": {
  "kernelspec": {
   "display_name": "Python 3",
   "language": "python",
   "name": "python3"
  },
  "language_info": {
   "codemirror_mode": {
    "name": "ipython",
    "version": 3
   },
   "file_extension": ".py",
   "mimetype": "text/x-python",
   "name": "python",
   "nbconvert_exporter": "python",
   "pygments_lexer": "ipython3",
   "version": "3.6.3"
  }
 },
 "nbformat": 4,
 "nbformat_minor": 2
}
