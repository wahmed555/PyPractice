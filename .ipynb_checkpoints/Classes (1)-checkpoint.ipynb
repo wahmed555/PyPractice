{
 "cells": [
  {
   "cell_type": "markdown",
   "metadata": {},
   "source": [
    "#### Object-oriented programming is one of the most effective approaches to writing software. \n",
    "\n",
    "In object-oriented programming you\n",
    "write classes that represent real-world things\n",
    "and situations, and you create objects based on these\n",
    "classes.\n",
    "\n",
    "When you write a class, you define the general\n",
    "behavior that a whole category of objects can have.\n",
    "\n",
    "You’ll specify the kind of information that can be stored in\n",
    "instances, and you’ll define actions that can be taken with these instances."
   ]
  },
  {
   "cell_type": "code",
   "execution_count": 5,
   "metadata": {
    "collapsed": true
   },
   "outputs": [],
   "source": [
    "class Dog():\n",
    "    def __init__(self,name,age):\n",
    "        self.name=name\n",
    "        self.age=age\n",
    "    def sit(self):\n",
    "        print(self.name +\" is sitting\")\n",
    "    def roll_over(self):\n",
    "        print(self.name + \" roll overed!\")"
   ]
  },
  {
   "cell_type": "markdown",
   "metadata": {},
   "source": [
    "#### The __init__() Method\n",
    "The __init__() method at w is a special method\n",
    "Python runs automatically whenever we create a new instance based on the\n",
    "Dog class."
   ]
  },
  {
   "cell_type": "markdown",
   "metadata": {},
   "source": [
    "We define the __init__() method to have three parameters: \n",
    "    \n",
    "    self, name,and age. \n",
    "    \n",
    " The self parameter is required in the method definition, and it must come first before the other parameters. \n",
    " \n",
    " \n",
    " It must be included in the definition\n",
    "because when Python calls this __init__() method later (to create an\n",
    "instance of Dog), the method call will automatically pass the self argument."
   ]
  },
  {
   "cell_type": "markdown",
   "metadata": {},
   "source": [
    "#### Self\n",
    "Every method call associated with a class automatically passes self, which\n",
    "is a reference to the instance itself; it gives the individual instance access to\n",
    "the attributes and methods in the class."
   ]
  },
  {
   "cell_type": "markdown",
   "metadata": {},
   "source": [
    "When we make an instance of Dog,\n",
    "Python will call the __init__() method from the Dog class. We’ll pass Dog()\n",
    "a name and an age as arguments; self is passed automatically, so we don’t\n",
    "need to pass it. Whenever we want to make an instance from the Dog class,\n",
    "we’ll provide values for only the last two parameters, name and age."
   ]
  },
  {
   "cell_type": "markdown",
   "metadata": {},
   "source": [
    "The two variables defined  each have the prefix self. Any variable\n",
    "prefixed with self is available to every method in the class, and we’ll also be\n",
    "able to access these variables through any instance created from the class."
   ]
  },
  {
   "cell_type": "markdown",
   "metadata": {},
   "source": [
    "#### Making an Instance from a Class\n",
    "Think of a class as a set of instructions for how to make an instance. The\n",
    "class Dog is a set of instructions that tells Python how to make individual\n",
    "instances representing specific dogs.\n",
    "Let’s make an instance representing a specific dog:"
   ]
  },
  {
   "cell_type": "code",
   "execution_count": 7,
   "metadata": {
    "collapsed": true
   },
   "outputs": [],
   "source": [
    "my_dog=Dog('willie',6)"
   ]
  },
  {
   "cell_type": "code",
   "execution_count": 9,
   "metadata": {},
   "outputs": [
    {
     "name": "stdout",
     "output_type": "stream",
     "text": [
      "my dog name is willie\n"
     ]
    }
   ],
   "source": [
    "print(\"my dog name is \" + my_dog.name)"
   ]
  },
  {
   "cell_type": "code",
   "execution_count": 11,
   "metadata": {},
   "outputs": [
    {
     "name": "stdout",
     "output_type": "stream",
     "text": [
      " my dog age is 6\n"
     ]
    }
   ],
   "source": [
    "print(\" my dog age is \" + str(my_dog.age))"
   ]
  },
  {
   "cell_type": "markdown",
   "metadata": {},
   "source": [
    "#### Accessing Attributes\n",
    "To access the attributes of an instance, you use dot notation. At v we access\n",
    "the value of my_dog’s attribute name by writing:"
   ]
  },
  {
   "cell_type": "code",
   "execution_count": 12,
   "metadata": {},
   "outputs": [
    {
     "data": {
      "text/plain": [
       "'willie'"
      ]
     },
     "execution_count": 12,
     "metadata": {},
     "output_type": "execute_result"
    }
   ],
   "source": [
    "my_dog.name"
   ]
  },
  {
   "cell_type": "markdown",
   "metadata": {},
   "source": [
    "#### Calling Methods\n",
    "After we create an instance from the class Dog, we can use dot notation to\n",
    "call any method defined in Dog."
   ]
  },
  {
   "cell_type": "code",
   "execution_count": 13,
   "metadata": {},
   "outputs": [
    {
     "name": "stdout",
     "output_type": "stream",
     "text": [
      "willie is sitting\n"
     ]
    }
   ],
   "source": [
    "my_dog.sit()"
   ]
  },
  {
   "cell_type": "code",
   "execution_count": 16,
   "metadata": {},
   "outputs": [
    {
     "name": "stdout",
     "output_type": "stream",
     "text": [
      "willie roll overed!\n"
     ]
    }
   ],
   "source": [
    "my_dog.roll_over()"
   ]
  },
  {
   "cell_type": "markdown",
   "metadata": {},
   "source": [
    "#### Creating Multiple Instances\n",
    "You can create as many instances from a class as you need. Let’s create a\n",
    "second dog called your_dog:"
   ]
  },
  {
   "cell_type": "code",
   "execution_count": 17,
   "metadata": {
    "collapsed": true
   },
   "outputs": [],
   "source": [
    "your_dog = Dog('lucy', 3)"
   ]
  },
  {
   "cell_type": "code",
   "execution_count": 18,
   "metadata": {},
   "outputs": [
    {
     "name": "stdout",
     "output_type": "stream",
     "text": [
      "\n",
      "Your dog's name is Lucy.\n",
      "Your dog is 3 years old.\n",
      "lucy is sitting\n"
     ]
    }
   ],
   "source": [
    "print(\"\\nYour dog's name is \" + your_dog.name.title() + \".\")\n",
    "print(\"Your dog is \" + str(your_dog.age) + \" years old.\")\n",
    "your_dog.sit()"
   ]
  },
  {
   "cell_type": "markdown",
   "metadata": {},
   "source": [
    "Even if we used the same name and age for the second dog, Python\n",
    "would still create a separate instance from the Dog class. You can make\n",
    "as many instances from one class as you need, as long as you give each\n",
    "instance a unique variable name or it occupies a unique spot in a list or\n",
    "dictionary."
   ]
  },
  {
   "cell_type": "markdown",
   "metadata": {},
   "source": [
    "## Try It Yourself\n",
    "9-1. Restaurant: Make a class called Restaurant. The __init__() method for\n",
    "Restaurant should store two attributes: a restaurant_name and a cuisine_type.\n",
    "Make a method called describe_restaurant() that prints these two pieces of\n",
    "information, and a method called open_restaurant() that prints a message indicating\n",
    "that the restaurant is open.\n",
    "Make an instance called restaurant from your class. Print the two attributes\n",
    "individually, and then call both methods.\n"
   ]
  },
  {
   "cell_type": "code",
   "execution_count": 28,
   "metadata": {
    "collapsed": true
   },
   "outputs": [],
   "source": [
    "class Resturant():\n",
    "    def __init__(self,restaurant_name,cuisine_type):\n",
    "        self.restaurant_name=restaurant_name\n",
    "        self.cuisine_type=cuisine_type\n",
    "    def describe_restaurant(self):\n",
    "        print(self.restaurant_name + \" have menu of \" + self.cuisine_type)\n",
    "    \n",
    "    def  open_restaurant(self):\n",
    "        print(self.restaurant_name + \" resturant is open \")"
   ]
  },
  {
   "cell_type": "code",
   "execution_count": 29,
   "metadata": {
    "collapsed": true
   },
   "outputs": [],
   "source": [
    "arabian=Resturant(\"Ridan\",\" mandi\")"
   ]
  },
  {
   "cell_type": "code",
   "execution_count": 30,
   "metadata": {},
   "outputs": [
    {
     "name": "stdout",
     "output_type": "stream",
     "text": [
      "Ridan have menu of  mandi\n"
     ]
    }
   ],
   "source": [
    "arabian.describe_restaurant()"
   ]
  },
  {
   "cell_type": "code",
   "execution_count": 31,
   "metadata": {},
   "outputs": [
    {
     "name": "stdout",
     "output_type": "stream",
     "text": [
      "Ridan resturant is open \n"
     ]
    }
   ],
   "source": [
    "arabian.open_restaurant()"
   ]
  },
  {
   "cell_type": "code",
   "execution_count": null,
   "metadata": {
    "collapsed": true
   },
   "outputs": [],
   "source": [
    "9-2. Three Restaurants: Start with your class from Exercise 9-1. Create three\n",
    "different instances from the class, and call describe_restaurant() for each\n",
    "instance.\n"
   ]
  },
  {
   "cell_type": "code",
   "execution_count": 32,
   "metadata": {
    "collapsed": true
   },
   "outputs": [],
   "source": [
    "chinees1=Resturant(\"Tang shun\",\"noodles\")\n",
    "japanese2=Resturant(\"khw sou\",\" su si\")\n",
    "italian3=Resturant(\"alferado\",\"pizza\")\n"
   ]
  },
  {
   "cell_type": "code",
   "execution_count": 34,
   "metadata": {},
   "outputs": [
    {
     "name": "stdout",
     "output_type": "stream",
     "text": [
      "Tang shun have menu of noodles\n",
      "khw sou have menu of  su si\n",
      "alferado have menu of pizza\n"
     ]
    }
   ],
   "source": [
    "chinees1.describe_restaurant()\n",
    "japanese2.describe_restaurant()\n",
    "italian3.describe_restaurant()"
   ]
  },
  {
   "cell_type": "code",
   "execution_count": null,
   "metadata": {
    "collapsed": true
   },
   "outputs": [],
   "source": [
    "9-3. Users: Make a class called User. Create two attributes called first_name\n",
    "and last_name, and then create several other attributes that are typically stored\n",
    "in a user profile. Make a method called describe_user() that prints a summary\n",
    "of the user’s information. Make another method called greet_user() that prints\n",
    "a personalized greeting to the user.\n",
    "Create several instances representing different users, and call both methods\n",
    "for each user."
   ]
  },
  {
   "cell_type": "code",
   "execution_count": 47,
   "metadata": {
    "collapsed": true
   },
   "outputs": [],
   "source": [
    "class User():\n",
    "    def __init__(self,first_name,last_name,salary):\n",
    "        self.first_name=first_name\n",
    "        self.last_name=last_name\n",
    "        self.salary=salary\n",
    "    def describe_user(self):\n",
    "        print(\"employee name \" + self.first_name +\" \"+ self.last_name+ \" current salary $=\" + str(self.salary)    )\n",
    "    \n",
    "    def greet_user(self):\n",
    "        print(\" good morning \" +self.first_name  + self.last_name)"
   ]
  },
  {
   "cell_type": "code",
   "execution_count": 48,
   "metadata": {
    "collapsed": true
   },
   "outputs": [],
   "source": [
    "e1=User(\"ahmed\", \"ali\",50996)\n",
    "e2=User(\"tariq\", \"jahan\",40996)\n",
    "e3=User(\"hameed\", \"sheikh\",70996)"
   ]
  },
  {
   "cell_type": "code",
   "execution_count": 49,
   "metadata": {},
   "outputs": [
    {
     "name": "stdout",
     "output_type": "stream",
     "text": [
      "employee name ahmed ali current salary $=50996\n",
      " good morning tariqjahan\n"
     ]
    }
   ],
   "source": [
    "e1.describe_user()\n",
    "e2.greet_user()"
   ]
  },
  {
   "cell_type": "markdown",
   "metadata": {},
   "source": [
    "## 2. Working with Classes and Instances"
   ]
  },
  {
   "cell_type": "markdown",
   "metadata": {},
   "source": [
    "### The Car Class"
   ]
  },
  {
   "cell_type": "code",
   "execution_count": 21,
   "metadata": {
    "collapsed": true
   },
   "outputs": [],
   "source": [
    "class Car():\n",
    "    def __init__(self,make,model,year):\n",
    "        self.make=make\n",
    "        self.model=model\n",
    "        self.year=year\n",
    "    def get_descriptive_name(self):\n",
    "        long_name=str(self.year) + ' ' + self.make + ' ' + self.model\n",
    "        return long_name\n",
    "    \n",
    "    "
   ]
  },
  {
   "cell_type": "code",
   "execution_count": 23,
   "metadata": {
    "collapsed": true
   },
   "outputs": [],
   "source": [
    "my_car=Car(\"BMW\",\"5s\",2008)"
   ]
  },
  {
   "cell_type": "code",
   "execution_count": 24,
   "metadata": {},
   "outputs": [
    {
     "data": {
      "text/plain": [
       "'2008 BMW 5s'"
      ]
     },
     "execution_count": 24,
     "metadata": {},
     "output_type": "execute_result"
    }
   ],
   "source": [
    "my_car.get_descriptive_name()"
   ]
  },
  {
   "cell_type": "markdown",
   "metadata": {},
   "source": [
    "### Setting a Default Value for an Attribute"
   ]
  },
  {
   "cell_type": "code",
   "execution_count": 28,
   "metadata": {
    "collapsed": true
   },
   "outputs": [],
   "source": [
    "class Car():\n",
    "    def __init__(self,make,model,year):\n",
    "        self.make=make\n",
    "        self.model=model\n",
    "        self.year=year\n",
    "        self.odometer_reading=0\n",
    "    def get_descriptive_name(self):\n",
    "        long_name=str(self.year) + ' ' + self.make + ' ' + self.model\n",
    "        return long_name\n",
    "    def read_odometer(self):\n",
    "        print(\"this car \"+str(self.odometer_reading)+ \" miles on it.\")\n",
    "        "
   ]
  },
  {
   "cell_type": "code",
   "execution_count": 29,
   "metadata": {
    "collapsed": true
   },
   "outputs": [],
   "source": [
    "my_new_car=Car(\"Tesla\",\"r4\",2017)"
   ]
  },
  {
   "cell_type": "code",
   "execution_count": 30,
   "metadata": {},
   "outputs": [
    {
     "name": "stdout",
     "output_type": "stream",
     "text": [
      "this car 0 miles on it.\n"
     ]
    }
   ],
   "source": [
    "my_new_car.read_odometer()"
   ]
  },
  {
   "cell_type": "markdown",
   "metadata": {},
   "source": [
    "### Modifying Attribute Values\n",
    "You can change an attribute’s value in three ways: you can change the value\n",
    "directly through an instance, set the value through a method, or increment\n",
    "the value (add a certain amount to it) through a method. Let’s look at each\n",
    "of these approaches."
   ]
  },
  {
   "cell_type": "markdown",
   "metadata": {},
   "source": [
    "#### i)Modifying an Attribute’s Value Directly\n",
    "The simplest way to modify the value of an attribute is to access the attribute\n",
    "directly through an instance. Here we set the odometer reading to 23\n",
    "directly:"
   ]
  },
  {
   "cell_type": "code",
   "execution_count": 32,
   "metadata": {
    "collapsed": true
   },
   "outputs": [],
   "source": [
    "my_new_car.odometer_reading=4000"
   ]
  },
  {
   "cell_type": "code",
   "execution_count": 33,
   "metadata": {},
   "outputs": [
    {
     "name": "stdout",
     "output_type": "stream",
     "text": [
      "this car 4000 miles on it.\n"
     ]
    }
   ],
   "source": [
    "my_new_car.read_odometer()"
   ]
  },
  {
   "cell_type": "markdown",
   "metadata": {},
   "source": [
    "#### ii)Modifying an Attribute’s Value Through a Method\n",
    "It can be helpful to have methods that update certain attributes for you.\n",
    "Instead of accessing the attribute directly, you pass the new value to a\n",
    "method that handles the updating internally."
   ]
  },
  {
   "cell_type": "code",
   "execution_count": 45,
   "metadata": {
    "collapsed": true
   },
   "outputs": [],
   "source": [
    "class Car():\n",
    "    def __init__(self,make,model,year):\n",
    "        self.make=make\n",
    "        self.model=model\n",
    "        self.year=year\n",
    "        self.odometer_reading=0\n",
    "    def get_descriptive_name(self):\n",
    "        long_name=str(self.year) + ' ' + self.make + ' ' + self.model\n",
    "        return long_name\n",
    "    def read_odometer(self):\n",
    "        print(\"this car \"+str(self.odometer_reading)+ \" miles on it.\")\n",
    "    def update_odometer(self,mileage):\n",
    "        if mileage>=self.odometer_reading:\n",
    "            self.odometer_reading=mileage\n",
    "        else:\n",
    "            print(\"you can't roll back odometer!\")"
   ]
  },
  {
   "cell_type": "code",
   "execution_count": 46,
   "metadata": {
    "collapsed": true
   },
   "outputs": [],
   "source": [
    "your_car=Car(\"Toyota\",\"t4\",2019)"
   ]
  },
  {
   "cell_type": "code",
   "execution_count": 47,
   "metadata": {
    "collapsed": true
   },
   "outputs": [],
   "source": [
    "your_car.update_odometer(10000)"
   ]
  },
  {
   "cell_type": "code",
   "execution_count": 48,
   "metadata": {},
   "outputs": [
    {
     "name": "stdout",
     "output_type": "stream",
     "text": [
      "this car 10000 miles on it.\n"
     ]
    }
   ],
   "source": [
    "your_car.read_odometer()"
   ]
  },
  {
   "cell_type": "markdown",
   "metadata": {},
   "source": [
    "#### Incrementing an Attribute’s Value Through a Method\n",
    "Sometimes you’ll want to increment an attribute’s value by a certain\n",
    "amount rather than set an entirely new value. Say we buy a used car and\n",
    "put 100 miles on it between the time we buy it and the time we register it.\n",
    "Here’s a method that allows us to pass this incremental amount and add\n",
    "that value to the odometer reading:"
   ]
  },
  {
   "cell_type": "code",
   "execution_count": 53,
   "metadata": {
    "collapsed": true
   },
   "outputs": [],
   "source": [
    "class Car():\n",
    "    def __init__(self,make,model,year):\n",
    "        self.make=make\n",
    "        self.model=model\n",
    "        self.year=year\n",
    "        self.odometer_reading=0\n",
    "    def get_descriptive_name(self):\n",
    "        long_name=str(self.year) + ' ' + self.make + ' ' + self.model\n",
    "        return long_name\n",
    "    def read_odometer(self):\n",
    "        print(\"this car \"+str(self.odometer_reading)+ \" miles on it.\")\n",
    "    def update_odometer(self,mileage):\n",
    "        if mileage>=self.odometer_reading:\n",
    "            self.odometer_reading=mileage\n",
    "        else:\n",
    "            print(\"you can't roll back odometer!\")\n",
    "    def increment_odo(self,miles):\n",
    "        self.odometer_reading+=miles"
   ]
  },
  {
   "cell_type": "code",
   "execution_count": 51,
   "metadata": {
    "collapsed": true
   },
   "outputs": [],
   "source": [
    "alis_car=Car(\"Ferrair\",\"j8\",2001)\n"
   ]
  },
  {
   "cell_type": "code",
   "execution_count": 54,
   "metadata": {},
   "outputs": [
    {
     "data": {
      "text/plain": [
       "'2001 Ferrair j8'"
      ]
     },
     "execution_count": 54,
     "metadata": {},
     "output_type": "execute_result"
    }
   ],
   "source": [
    "alis_car.get_descriptive_name()"
   ]
  },
  {
   "cell_type": "code",
   "execution_count": 58,
   "metadata": {},
   "outputs": [
    {
     "name": "stdout",
     "output_type": "stream",
     "text": [
      "you can't roll back odometer!\n"
     ]
    }
   ],
   "source": [
    "alis_car.update_odometer(5600)"
   ]
  },
  {
   "cell_type": "code",
   "execution_count": 61,
   "metadata": {
    "collapsed": true
   },
   "outputs": [],
   "source": [
    "alis_car.increment_odo(788)"
   ]
  },
  {
   "cell_type": "code",
   "execution_count": 62,
   "metadata": {},
   "outputs": [
    {
     "name": "stdout",
     "output_type": "stream",
     "text": [
      "this car 7964 miles on it.\n"
     ]
    }
   ],
   "source": [
    "alis_car.read_odometer()"
   ]
  },
  {
   "cell_type": "markdown",
   "metadata": {},
   "source": [
    "# Try It Yourself\n",
    "\n",
    "9-4. Number Served: Start with your program from Exercise 9-1 (page 166).\n",
    "Add an attribute called number_served with a default value of 0. \n",
    "\n",
    "Create an\n",
    "instance called restaurant from this class. Print the number of customers the\n",
    "restaurant has served, and then change this value and print it again.\n",
    "\n",
    "\n",
    "Add a method called set_number_served() that lets you set the number\n",
    "of customers that have been served. Call this method with a new number and\n",
    "print the value again.\n",
    "\n",
    "\n",
    "Add a method called increment_number_served() that lets you increment\n",
    "the number of customers who’ve been served. Call this method with any number\n",
    "you like that could represent how many customers were served in, say, a\n",
    "day of business.\n"
   ]
  },
  {
   "cell_type": "code",
   "execution_count": 69,
   "metadata": {
    "collapsed": true
   },
   "outputs": [],
   "source": [
    "class Resturant():\n",
    "    def __init__(self,restaurant_name,cuisine_type):\n",
    "        self.restaurant_name=restaurant_name\n",
    "        self.cuisine_type=cuisine_type\n",
    "        self.num_served=0\n",
    "    def describe_restaurant(self):\n",
    "        print(self.restaurant_name + \" have menu of \" + self.cuisine_type)\n",
    "    \n",
    "    def  open_restaurant(self):\n",
    "        print(self.restaurant_name + \" resturant is open \")\n",
    "    \n",
    "    def read_served(self):\n",
    "        print(str(self.num_served) + \"  no of people served\")"
   ]
  },
  {
   "cell_type": "code",
   "execution_count": 70,
   "metadata": {
    "collapsed": true
   },
   "outputs": [],
   "source": [
    "resturanty=Resturant(\"BBQ 2 night\",\"jalferazi chiken\")"
   ]
  },
  {
   "cell_type": "code",
   "execution_count": 71,
   "metadata": {
    "collapsed": true
   },
   "outputs": [],
   "source": [
    "resturanty.num_served=200"
   ]
  },
  {
   "cell_type": "code",
   "execution_count": 72,
   "metadata": {},
   "outputs": [
    {
     "name": "stdout",
     "output_type": "stream",
     "text": [
      "200  no of people served\n"
     ]
    }
   ],
   "source": [
    "resturanty.read_served()"
   ]
  },
  {
   "cell_type": "code",
   "execution_count": null,
   "metadata": {
    "collapsed": true
   },
   "outputs": [],
   "source": []
  },
  {
   "cell_type": "code",
   "execution_count": 1,
   "metadata": {
    "collapsed": true
   },
   "outputs": [],
   "source": [
    "class Resturant():\n",
    "    def __init__(self,restaurant_name,cuisine_type):\n",
    "        self.restaurant_name=restaurant_name\n",
    "        self.cuisine_type=cuisine_type\n",
    "        self.num_served=0\n",
    "    def describe_restaurant(self):\n",
    "        print(self.restaurant_name + \" have menu of \" + self.cuisine_type)\n",
    "    \n",
    "    def  open_restaurant(self):\n",
    "        print(self.restaurant_name + \" resturant is open \")\n",
    "    \n",
    "    def read_served(self):\n",
    "        print(str(self.num_served) + \"  no of people served\")\n",
    "    def set_number_served(self,people):\n",
    "        if people>=self.num_served:\n",
    "            self.num_served=people\n",
    "        else:\n",
    "            print(\"you can't roll back client served!\")"
   ]
  },
  {
   "cell_type": "code",
   "execution_count": 2,
   "metadata": {
    "collapsed": true
   },
   "outputs": [],
   "source": [
    "resturanty2=Resturant(\"Marriot\",\"pasta\")"
   ]
  },
  {
   "cell_type": "code",
   "execution_count": 3,
   "metadata": {
    "collapsed": true
   },
   "outputs": [],
   "source": [
    "resturanty2.set_number_served(44)"
   ]
  },
  {
   "cell_type": "code",
   "execution_count": 4,
   "metadata": {},
   "outputs": [
    {
     "name": "stdout",
     "output_type": "stream",
     "text": [
      "44  no of people served\n"
     ]
    }
   ],
   "source": [
    "resturanty2.read_served()"
   ]
  },
  {
   "cell_type": "code",
   "execution_count": null,
   "metadata": {
    "collapsed": true
   },
   "outputs": [],
   "source": []
  },
  {
   "cell_type": "markdown",
   "metadata": {},
   "source": [
    "____________x------------x-------------------\n",
    "\n",
    "\n",
    "Add a method called increment_number_served() that lets you increment the number of customers who’ve been served. Call this method with any number you like that could represent how many customers were served in, say, a day of business."
   ]
  },
  {
   "cell_type": "code",
   "execution_count": 80,
   "metadata": {
    "collapsed": true
   },
   "outputs": [],
   "source": [
    "class Resturant():\n",
    "    def __init__(self,restaurant_name,cuisine_type):\n",
    "        self.restaurant_name=restaurant_name\n",
    "        self.cuisine_type=cuisine_type\n",
    "        self.num_served=0\n",
    "    def describe_restaurant(self):\n",
    "        print(self.restaurant_name + \" have menu of \" + self.cuisine_type)\n",
    "    \n",
    "    def  open_restaurant(self):\n",
    "        print(self.restaurant_name + \" resturant is open \")\n",
    "    \n",
    "    def read_served(self):\n",
    "        print(str(self.num_served) + \"  no of people served\")\n",
    "    def set_number_served(self,people):\n",
    "        if people>=self.num_served:\n",
    "            self.num_served=people\n",
    "        else:\n",
    "            print(\"you can't roll back client served!\")\n",
    "    def increment_cust(self,customers):\n",
    "        self.num_served+=customers"
   ]
  },
  {
   "cell_type": "code",
   "execution_count": 81,
   "metadata": {
    "collapsed": true
   },
   "outputs": [],
   "source": [
    "resturanty3=Resturant(\"beachluxury\",\"basil \")"
   ]
  },
  {
   "cell_type": "code",
   "execution_count": 82,
   "metadata": {
    "collapsed": true
   },
   "outputs": [],
   "source": [
    "resturanty3.increment_cust(45)"
   ]
  },
  {
   "cell_type": "code",
   "execution_count": 83,
   "metadata": {},
   "outputs": [
    {
     "name": "stdout",
     "output_type": "stream",
     "text": [
      "45  no of people served\n"
     ]
    }
   ],
   "source": [
    "resturanty3.read_served()"
   ]
  },
  {
   "cell_type": "code",
   "execution_count": 84,
   "metadata": {},
   "outputs": [
    {
     "name": "stdout",
     "output_type": "stream",
     "text": [
      "you can't roll back client served!\n"
     ]
    }
   ],
   "source": [
    "resturanty3.set_number_served(22)"
   ]
  },
  {
   "cell_type": "code",
   "execution_count": null,
   "metadata": {
    "collapsed": true
   },
   "outputs": [],
   "source": []
  },
  {
   "cell_type": "markdown",
   "metadata": {},
   "source": [
    "9-5. Login Attempts: Add an attribute called login_attempts to your User\n",
    "class from Exercise 9-3 (page 166). Write a method called increment_\n",
    "login_attempts() that increments the value of login_attempts by 1. Write\n",
    "another method called reset_login_attempts() that resets the value of login_\n",
    "attempts to 0.\n",
    "Make an instance of the User class and call increment_login_attempts()\n",
    "several times. Print the value of login_attempts to make sure it was incremented\n",
    "properly, and then call reset_login_attempts(). Print login_attempts again to\n",
    "make sure it was reset to 0."
   ]
  },
  {
   "cell_type": "code",
   "execution_count": 91,
   "metadata": {
    "collapsed": true
   },
   "outputs": [],
   "source": [
    "class User():\n",
    "    def __init__(self,first_name,last_name,salary):\n",
    "        self.first_name=first_name\n",
    "        self.last_name=last_name\n",
    "        self.salary=salary\n",
    "        self.login_attempts=0\n",
    "    def describe_user(self):\n",
    "        print(\"employee name \" + self.first_name +\" \"+ self.last_name+ \" current salary $=\" + str(self.salary)    )\n",
    "    \n",
    "    def greet_user(self):\n",
    "        print(\" good morning \" +self.first_name  + self.last_name)\n",
    "    def increment_login_attempts(self):\n",
    "        self.login_attempts+=1\n",
    "    def reset_login_attempts(self):\n",
    "        self.login_attempts=0"
   ]
  },
  {
   "cell_type": "code",
   "execution_count": 92,
   "metadata": {
    "collapsed": true
   },
   "outputs": [],
   "source": [
    "e1=User(\"ahmed\", \"ali\",50996)\n",
    "e2=User(\"tariq\", \"jahan\",40996)\n",
    "e3=User(\"hameed\", \"sheikh\",70996)"
   ]
  },
  {
   "cell_type": "code",
   "execution_count": 93,
   "metadata": {},
   "outputs": [
    {
     "name": "stdout",
     "output_type": "stream",
     "text": [
      "employee name tariq jahan current salary $=40996\n",
      " good morning hameedsheikh\n"
     ]
    }
   ],
   "source": [
    "e2.describe_user()\n",
    "e3.greet_user()"
   ]
  },
  {
   "cell_type": "code",
   "execution_count": 96,
   "metadata": {
    "collapsed": true
   },
   "outputs": [],
   "source": [
    "e3.increment_login_attempts()"
   ]
  },
  {
   "cell_type": "code",
   "execution_count": 97,
   "metadata": {},
   "outputs": [
    {
     "data": {
      "text/plain": [
       "2"
      ]
     },
     "execution_count": 97,
     "metadata": {},
     "output_type": "execute_result"
    }
   ],
   "source": [
    "e3.login_attempts"
   ]
  },
  {
   "cell_type": "code",
   "execution_count": 98,
   "metadata": {
    "collapsed": true
   },
   "outputs": [],
   "source": [
    "e3.reset_login_attempts()"
   ]
  },
  {
   "cell_type": "code",
   "execution_count": 99,
   "metadata": {},
   "outputs": [
    {
     "data": {
      "text/plain": [
       "0"
      ]
     },
     "execution_count": 99,
     "metadata": {},
     "output_type": "execute_result"
    }
   ],
   "source": [
    "e3.login_attempts"
   ]
  },
  {
   "cell_type": "markdown",
   "metadata": {},
   "source": [
    "## 3.Inheritance\n",
    "\n",
    "\n",
    "You don’t always have to start from scratch when writing a class. If the class\n",
    "you’re writing is a specialized version of another class you wrote,\n",
    "\n",
    "you can\n",
    "use inheritance. When one class inherits from another, it automatically takes\n",
    "on all the attributes and methods of the first class.\n",
    "\n",
    "The original class is\n",
    "called the parent class, and the new class is the child class.\n",
    "\n",
    "The child class\n",
    "inherits every attribute and method from its parent class but is also free to\n",
    "define new attributes and methods of its own."
   ]
  },
  {
   "cell_type": "markdown",
   "metadata": {},
   "source": [
    "#### 3a.The __init__() Method for a Child Class\n",
    "\n",
    "The first task Python has when creating an instance from a child class is to\n",
    "assign values to all attributes in the parent class. \n",
    "\n",
    "To do this, the __init__()\n",
    "method for a child class needs help from its parent class.\n",
    "\n",
    "As an example, let’s model an electric car. An electric car is just a specific\n",
    "kind of car, so we can base our new ElectricCar class on the Car class\n",
    "we wrote earlier. \n",
    "\n",
    "Then we’ll only have to write code for the attributes and\n",
    "behavior specific to electric cars."
   ]
  },
  {
   "cell_type": "code",
   "execution_count": 103,
   "metadata": {
    "collapsed": true
   },
   "outputs": [],
   "source": [
    "class Car():\n",
    "    \"\"\"A simple attempt to represent a car.\"\"\"\n",
    "    def __init__(self, make, model, year):\n",
    "        self.make = make\n",
    "        self.model = model\n",
    "        self.year = year\n",
    "        self.odometer_reading = 0\n",
    "    def get_descriptive_name(self):\n",
    "        long_name = str(self.year) + ' ' + self.make + ' ' + self.model\n",
    "        return long_name.title()\n",
    "    def read_odometer(self):\n",
    "        print(\"This car has \" + str(self.odometer_reading) + \" miles on it.\")\n",
    "    def update_odometer(self, mileage):\n",
    "        if mileage >= self.odometer_reading:\n",
    "            self.odometer_reading = mileage\n",
    "        else:\n",
    "            print(\"You can't roll back an odometer!\")\n",
    "    def increment_odometer(self, miles):\n",
    "        self.odometer_reading += miles"
   ]
  },
  {
   "cell_type": "code",
   "execution_count": 105,
   "metadata": {},
   "outputs": [
    {
     "name": "stdout",
     "output_type": "stream",
     "text": [
      "2016 Tesla Models\n"
     ]
    }
   ],
   "source": [
    "class ElectricCar(Car):\n",
    "    def __init__(self,make,model,year):\n",
    "        super().__init__(make,model,year)\n",
    "        \n",
    "my_tesla=ElectricCar('tesla','models',2016)\n",
    "print(my_tesla.get_descriptive_name())\n"
   ]
  },
  {
   "cell_type": "markdown",
   "metadata": {},
   "source": [
    "#### 3b. Defining Attributes and Methods for the Child Class\n",
    "\n",
    "Once you have a child class that inherits from a parent class, you can add\n",
    "any new attributes and methods necessary to differentiate the child class\n",
    "from the parent class.\n",
    "\n",
    "add an attribute that’s specific to electric cars (a battery, for\n",
    "example) and a method to report on this attribute. We’ll store the battery\n",
    "size and write a method that prints a description of the battery:"
   ]
  },
  {
   "cell_type": "code",
   "execution_count": 111,
   "metadata": {
    "collapsed": true
   },
   "outputs": [],
   "source": [
    "class ElectricCar(Car):\n",
    "    def __init__(self,make,model,year):\n",
    "        super().__init__(make,model,year)\n",
    "        self.battery_size=0\n",
    "    def describe_battery(self):\n",
    "        print(\" battery size is \" + str(self.battery_size) + \" Kwh\")\n",
    "        "
   ]
  },
  {
   "cell_type": "code",
   "execution_count": 113,
   "metadata": {
    "collapsed": true
   },
   "outputs": [],
   "source": [
    "my_tesla=ElectricCar('tesla','models',2016)\n"
   ]
  },
  {
   "cell_type": "code",
   "execution_count": 114,
   "metadata": {},
   "outputs": [
    {
     "name": "stdout",
     "output_type": "stream",
     "text": [
      " battery size is 0 Kwh\n",
      "None\n"
     ]
    }
   ],
   "source": [
    "print(my_tesla.describe_battery())"
   ]
  },
  {
   "cell_type": "code",
   "execution_count": 115,
   "metadata": {},
   "outputs": [
    {
     "name": "stdout",
     "output_type": "stream",
     "text": [
      " battery size is 0 Kwh\n"
     ]
    }
   ],
   "source": [
    "my_tesla.describe_battery()"
   ]
  },
  {
   "cell_type": "markdown",
   "metadata": {},
   "source": [
    "#### 3c.Overriding Methods from the Parent Class\n",
    "\n",
    "\n",
    "You can override any method from the parent class that doesn’t fit what\n",
    "you’re trying to model with the child class. \n",
    "\n",
    "To do this, you define a method\n",
    "in the child class with the same name as the method you want to override\n",
    "in the parent class.\n",
    "\n",
    "\n",
    "Python will disregard the parent class method and only\n",
    "pay attention to the method you define in the child class.\n",
    "\n",
    "\n",
    "Say the class Car had a method called fill_gas_tank(). \n",
    "\n",
    "This method is\n",
    "meaningless for an all-electric vehicle, so you might want to override this\n",
    "method. Here’s one way to do that:"
   ]
  },
  {
   "cell_type": "code",
   "execution_count": 120,
   "metadata": {
    "collapsed": true
   },
   "outputs": [],
   "source": [
    "class ElectricCar(Car):\n",
    "    def __init__(self,make,model,year):\n",
    "        super().__init__(make,model,year)\n",
    "        self.battery_size=0\n",
    "    def describe_battery(self):\n",
    "        print(\" battery size is \" + str(self.battery_size) + \" Kwh\")\n",
    "    def fill_gas_tank(self):\n",
    "        print(\"This car doesn't need a gas tank!\")"
   ]
  },
  {
   "cell_type": "markdown",
   "metadata": {},
   "source": [
    "Now if someone tries to call fill_gas_tank() with an electric car, Python\n",
    "will ignore the method fill_gas_tank() in Car and run this code instead. When\n",
    "you use inheritance, you can make your child classes retain what you need\n",
    "and override anything you don’t need from the parent class."
   ]
  },
  {
   "cell_type": "code",
   "execution_count": 121,
   "metadata": {
    "collapsed": true
   },
   "outputs": [],
   "source": [
    "my_tesla=ElectricCar('tesla','models',2016)"
   ]
  },
  {
   "cell_type": "code",
   "execution_count": 122,
   "metadata": {},
   "outputs": [
    {
     "name": "stdout",
     "output_type": "stream",
     "text": [
      "This car doesn't need a gas tank!\n"
     ]
    }
   ],
   "source": [
    "my_tesla.fill_gas_tank()"
   ]
  },
  {
   "cell_type": "markdown",
   "metadata": {},
   "source": [
    "#### 3d. Instances as Attributes\n",
    "\n",
    "When modeling something from the real world in code, you may find that\n",
    "you’re adding more and more detail to a class.\n",
    "\n",
    "You’ll find that you have a\n",
    "growing list of attributes and methods and that your files are becoming\n",
    "lengthy. In these situations, you might recognize that part of one class can\n",
    "be written as a separate class.\n",
    "\n",
    "You can break your large class into smaller\n",
    "classes that work together.\n",
    "\n",
    "For example, if we continue adding detail to the ElectricCar class, we\n",
    "might notice that we’re adding many attributes and methods specific to\n",
    "the car’s battery. \n",
    "\n",
    "When we see this happening, we can stop and move those\n",
    "attributes and methods to a separate class called Battery.\n",
    "\n",
    "Then we can use a\n",
    "Battery instance as an attribute in the ElectricCar class:"
   ]
  },
  {
   "cell_type": "code",
   "execution_count": 124,
   "metadata": {
    "collapsed": true
   },
   "outputs": [],
   "source": [
    "class ElectricCar(Car):\n",
    "    def __init__(self,make,model,year):\n",
    "        super().__init__(make,model,year)\n",
    "        self.battery_size=0\n",
    "    def describe_battery(self):\n",
    "        print(\" battery size is \" + str(self.battery_size) + \" Kwh\")\n",
    "    def fill_gas_tank(self):\n",
    "        print(\"This car doesn't need a gas tank!\")\n",
    "        \n"
   ]
  },
  {
   "cell_type": "code",
   "execution_count": 126,
   "metadata": {
    "collapsed": true
   },
   "outputs": [],
   "source": [
    "class Battery():\n",
    "    \"\"\"A simple attempt to model a battery for an electric car.\"\"\"\n",
    "    def __init__(self, battery_size=70):\n",
    "        \"\"\"Initialize the battery's attributes.\"\"\"\n",
    "        self.battery_size = battery_size\n",
    "        \n",
    "    def describe_battery(self):\n",
    "        \"\"\"Print a statement describing the battery size.\"\"\"\n",
    "        print(\"This car has a \" + str(self.battery_size) + \"-kWh battery.\")"
   ]
  },
  {
   "cell_type": "code",
   "execution_count": 128,
   "metadata": {
    "collapsed": true
   },
   "outputs": [],
   "source": [
    "class ElectricCar(Car):\n",
    "    \"\"\"Represent aspects of a car, specific to electric vehicles.\"\"\"\n",
    "    def __init__(self, make, model, year):\n",
    "        \"\"\"\n",
    "        Initialize attributes of the parent class.\n",
    "        Then initialize attributes specific to an electric car.\n",
    "        \"\"\"\n",
    "        super().__init__(make, model, year)\n",
    "        self.battery = Battery()"
   ]
  },
  {
   "cell_type": "code",
   "execution_count": 129,
   "metadata": {},
   "outputs": [
    {
     "name": "stdout",
     "output_type": "stream",
     "text": [
      "2016 Tesla Model S\n"
     ]
    }
   ],
   "source": [
    "my_tesla = ElectricCar('tesla', 'model s', 2016)\n",
    "print(my_tesla.get_descriptive_name())"
   ]
  },
  {
   "cell_type": "code",
   "execution_count": 130,
   "metadata": {},
   "outputs": [
    {
     "name": "stdout",
     "output_type": "stream",
     "text": [
      "This car has a 70-kWh battery.\n"
     ]
    }
   ],
   "source": [
    "my_tesla.battery.describe_battery()"
   ]
  },
  {
   "cell_type": "code",
   "execution_count": null,
   "metadata": {
    "collapsed": true
   },
   "outputs": [],
   "source": []
  },
  {
   "cell_type": "code",
   "execution_count": null,
   "metadata": {
    "collapsed": true
   },
   "outputs": [],
   "source": []
  },
  {
   "cell_type": "code",
   "execution_count": null,
   "metadata": {
    "collapsed": true
   },
   "outputs": [],
   "source": []
  }
 ],
 "metadata": {
  "kernelspec": {
   "display_name": "Python 3",
   "language": "python",
   "name": "python3"
  },
  "language_info": {
   "codemirror_mode": {
    "name": "ipython",
    "version": 3
   },
   "file_extension": ".py",
   "mimetype": "text/x-python",
   "name": "python",
   "nbconvert_exporter": "python",
   "pygments_lexer": "ipython3",
   "version": "3.6.3"
  }
 },
 "nbformat": 4,
 "nbformat_minor": 2
}
